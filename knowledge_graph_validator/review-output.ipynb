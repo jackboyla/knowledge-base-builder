{
 "cells": [
  {
   "cell_type": "markdown",
   "metadata": {},
   "source": [
    "# Look at our Evaluations"
   ]
  },
  {
   "cell_type": "code",
   "execution_count": 10,
   "metadata": {},
   "outputs": [
    {
     "name": "stdout",
     "output_type": "stream",
     "text": [
      "The autoreload extension is already loaded. To reload it, use:\n",
      "  %reload_ext autoreload\n"
     ]
    }
   ],
   "source": [
    "%load_ext autoreload\n",
    "\n",
    "# Automatically reload all modules (except those excluded by %aimport)\n",
    "%autoreload 2"
   ]
  },
  {
   "cell_type": "code",
   "execution_count": 11,
   "metadata": {},
   "outputs": [],
   "source": [
    "import sys\n",
    "import utils"
   ]
  },
  {
   "cell_type": "code",
   "execution_count": 12,
   "metadata": {},
   "outputs": [
    {
     "name": "stdout",
     "output_type": "stream",
     "text": [
      "2024-03-08 17:49:00,813 utils INFO: Reading dataset FB15K-237-N...\n"
     ]
    },
    {
     "name": "stdout",
     "output_type": "stream",
     "text": [
      "Saved to f'pos_tmp.jsonl\n",
      "Saved to f'neg_tmp.jsonl\n"
     ]
    }
   ],
   "source": [
    "data = utils.read_dataset('FB15K-237-N')"
   ]
  },
  {
   "cell_type": "code",
   "execution_count": 13,
   "metadata": {},
   "outputs": [],
   "source": [
    "save_path = '../data/results/CoDeX-S/WebKGValidator/4_WebKGValidator_CoDeX-S_seed23_gpt-3.5-turbo-0125.jsonl'\n"
   ]
  },
  {
   "cell_type": "code",
   "execution_count": 15,
   "metadata": {},
   "outputs": [
    {
     "data": {
      "text/plain": [
       "1"
      ]
     },
     "execution_count": 15,
     "metadata": {},
     "output_type": "execute_result"
    }
   ],
   "source": [
    "results = utils.read_jsonl(save_path)\n",
    "len(results)"
   ]
  },
  {
   "cell_type": "code",
   "execution_count": 16,
   "metadata": {},
   "outputs": [
    {
     "name": "stdout",
     "output_type": "stream",
     "text": [
      "Precision: 1.0\n",
      "Recall: 0.5\n",
      "F1 Score: 0.6666666666666666\n",
      "Accuracy: 0.75\n",
      "----------\n"
     ]
    }
   ],
   "source": [
    "tp = 0\n",
    "fp = 0\n",
    "tn = 0\n",
    "fn = 0 \n",
    "pos_results = results[0]['positive_results']\n",
    "neg_results = results[0]['negative_results']\n",
    "for val in pos_results['validated_triples']:\n",
    "    if val['triple_is_valid']:    # property is correctly marked as valid\n",
    "        tp += 1\n",
    "    else:                           # property is incorrectly marked as invalid\n",
    "        fn += 1\n",
    "for val in neg_results['validated_triples']:\n",
    "    if val['triple_is_valid']:    # property is incorrectly marked as valid\n",
    "        fp += 1\n",
    "    else:                           # property is correctly marked as invalid\n",
    "        tn += 1\n",
    "\n",
    "metrics = utils.calc_metrics(tp, fp, tn, fn)\n",
    "\n",
    "# Precision: 0.75\n",
    "# Recall: 0.8571428571428571\n",
    "# F1 Score: 0.7999999999999999\n",
    "# Accuracy: 0.7857142857142857\n",
    "# ----------"
   ]
  },
  {
   "cell_type": "code",
   "execution_count": 17,
   "metadata": {},
   "outputs": [
    {
     "name": "stdout",
     "output_type": "stream",
     "text": [
      "\n",
      "----------------False Negatives------------------\n",
      "\n",
      "{\n",
      "  \"predicted_subject_name\": \"Bertolt Brecht\",\n",
      "  \"predicted_relation\": [\n",
      "    \"occupation\"\n",
      "  ],\n",
      "  \"predicted_object_name\": \"lyricist\",\n",
      "  \"triple_is_valid\": false,\n",
      "  \"reason\": \"Bertolt Brecht was primarily known as a playwright, poet, and theatre practitioner, not specifically as a lyricist. While he was involved in writing lyrics for some of his theatrical works, his main focus and recognition come from his contributions to drama and theatre, making the prediction of 'lyricist' inaccurate in this context.\",\n",
      "  \"sources\": [\n",
      "    {\n",
      "      \"web_reference\": \"['**Eugen Berthold Friedrich Brecht** (10 February 1898 \\u2013 14 August 1956), known professionally as **Bertolt Brecht**,[a] was a German theatre practitioner, playwright, and poet. Coming of age during the Weimar Republic, he had his first successes as a playwright in Munich and moved to Berlin in 1924, where he wrote *The Threepenny Opera* with Kurt Weill and began a life-long collaboration with the composer Hanns Eisler. Immersed in Marxist thought during this period, he wrote didactic', '**Bertolt Brecht** (born February 10, 1898, Augsburg, Germany\\u2014died August 14, 1956, East Berlin) was a German poet, playwright, and theatrical reformer whose epic theatre departed from the conventions of theatrical illusion and developed the drama as a social and ideological forum for leftist causes.', '**Bertolt Brecht**, born as Eugen Berthold Friedrich Brecht, was a German poet, playwright and theatre practitioner. He was a visionary who departed from the accepted conventional norms of illusion in theatrical production and tried new approaches to develop a better understanding of drama. He insisted that the audience view the stage and actors from a realistic and rational perspective and not as the conventional \\u201cmake-believe\\u201d world. He was just 16 when the World War I started \\u2013 he became']\"\n",
      "    }\n",
      "  ],\n",
      "  \"candidate_triple\": {\n",
      "    \"subject\": \"Bertolt Brecht\",\n",
      "    \"relation\": [\n",
      "      \"occupation\"\n",
      "    ],\n",
      "    \"object\": \"lyricist\"\n",
      "  }\n",
      "}\n",
      "Total False Negatives: 1\n",
      "\n",
      "----------------False Positives------------------\n",
      "\n",
      "Total False Positives: 0\n",
      "\n",
      "----------------Unsure (Not enough info to say)------------------\n",
      "\n",
      "Total Unsure: 0\n"
     ]
    }
   ],
   "source": [
    "# what did the evaluator get wrong?\n",
    "import json\n",
    "false_neg = 0\n",
    "false_pos = 0\n",
    "unsure = 0\n",
    "print('\\n----------------False Negatives------------------\\n')\n",
    "for val in pos_results['validated_triples']:\n",
    "    if val['triple_is_valid'] is False:\n",
    "        print(json.dumps(val, indent=2))\n",
    "        false_neg += 1\n",
    "print(f\"Total False Negatives: {false_neg}\")\n",
    "\n",
    "\n",
    "print('\\n----------------False Positives------------------\\n')\n",
    "for val in neg_results['validated_triples']:\n",
    "    if val['triple_is_valid'] is True:\n",
    "        print(json.dumps(val, indent=2))\n",
    "        false_pos += 1\n",
    "print(f\"Total False Positives: {false_pos}\")\n",
    "\n",
    "\n",
    "print('\\n----------------Unsure (Not enough info to say)------------------\\n')\n",
    "for val in neg_results['validated_triples']:\n",
    "    if val['triple_is_valid'] not in [True, False]:\n",
    "        print(json.dumps(val, indent=2))\n",
    "        unsure += 1\n",
    "print(f\"Total Unsure: {unsure}\")\n",
    "\n"
   ]
  },
  {
   "cell_type": "code",
   "execution_count": 18,
   "metadata": {},
   "outputs": [
    {
     "name": "stdout",
     "output_type": "stream",
     "text": [
      "Total Unsure: 0\n",
      "Total False Negatives: 1\n",
      "Total False Positives: 0\n"
     ]
    }
   ],
   "source": [
    "print(f\"Total Unsure: {unsure}\")\n",
    "print(f\"Total False Negatives: {false_neg}\")\n",
    "print(f\"Total False Positives: {false_pos}\")"
   ]
  },
  {
   "cell_type": "code",
   "execution_count": 19,
   "metadata": {},
   "outputs": [
    {
     "name": "stdout",
     "output_type": "stream",
     "text": [
      "{\n",
      "  \"predicted_subject_name\": \"Xavier Cugat\",\n",
      "  \"predicted_relation\": [\n",
      "    \"country of citizenship\"\n",
      "  ],\n",
      "  \"predicted_object_name\": \"Canada\",\n",
      "  \"triple_is_valid\": false,\n",
      "  \"reason\": \"The predicted triple is not valid. Xavier Cugat was a Spanish musician and bandleader who spent his formative years in Havana, Cuba. The context provided does not mention any connection to Canada as his country of citizenship. Therefore, the predicted relation 'country of citizenship: Canada' is inaccurate.\",\n",
      "  \"sources\": [\n",
      "    {\n",
      "      \"web_reference\": \"['Xavier Cugat entre 1946 et 1948 (French)\\\\n\\\\n1 reference\\\\n\\\\nimported from Wikimedia project\\\\n\\\\nEnglish Wikipedia\\\\n\\\\nsex or gender\\\\n\\\\nmale\\\\n\\\\n3 references\\\\n\\\\nstated in\\\\n\\\\nVirtual International Authority File\\\\n\\\\nVIAF ID\\\\n\\\\n39561419\\\\n\\\\nretrieved\\\\n\\\\n4 November 2018\\\\n\\\\nstated in\\\\n\\\\nIntegrated Authority File\\\\n\\\\nretrieved\\\\n\\\\n27 April 2014\\\\n\\\\nstated in\\\\n\\\\nBnF authorities\\\\n\\\\nretrieved\\\\n\\\\n10 October 2015\\\\n\\\\nreference URL\\\\n\\\\nhttp://data.bnf.fr/ark:/12148/cb138928711\\\\n\\\\ncountry of citizenship\\\\n\\\\nSpain\\\\n\\\\n0 references\\\\n\\\\nCuba\\\\n\\\\n0 references', '**Xavier Cugat** (Catalan: [\\u0283\\u0259\\u03b2i\\u02c8e ku\\u02c8\\u0263at]; 1 January 1900[1] \\u2013 27 October 1990) was a Spanish musician and bandleader who spent his formative years in Havana, Cuba. A trained violinist and arranger, he was a leading figure in the spread of Latin music. In New York City, he was the leader of the resident orchestra at the Waldorf\\u2013Astoria before and after World War II. He was also a cartoonist and a restaurateur. The personal papers of Xavier Cugat are preserved in the Biblioteca de Catalunya.', 'Xavier Cugat - Biography - IMDb Xavier Cugat - Biography - IMDb ![]()']\"\n",
      "    }\n",
      "  ],\n",
      "  \"candidate_triple\": {\n",
      "    \"subject\": \"Xavier Cugat\",\n",
      "    \"relation\": [\n",
      "      \"country of citizenship\"\n",
      "    ],\n",
      "    \"object\": \"Canada\"\n",
      "  }\n",
      "}\n",
      "{\n",
      "  \"predicted_subject_name\": \"Heinrich Schliemann\",\n",
      "  \"predicted_relation\": [\n",
      "    \"country of citizenship\"\n",
      "  ],\n",
      "  \"predicted_object_name\": \"Austria-Hungary\",\n",
      "  \"triple_is_valid\": false,\n",
      "  \"reason\": \"Heinrich Schliemann was a German businessman and archaeologist, born in the German Confederation. Austria-Hungary was a dual monarchy in Central Europe, and it is not accurate to say that Schliemann was a citizen of Austria-Hungary based on the provided context.\",\n",
      "  \"sources\": [\n",
      "    {\n",
      "      \"web_reference\": \"['![]() Portrait of Heinrich Schliemann.', 'From Wikipedia, the free encyclopedia\\\\n\\\\nGerman businessman and archaeologist (1822\\u20131890)\\\\n\\\"Schliemann\\\" redirects here. For other uses, see Schliemann (disambiguation).\\\\n\\\\n| Heinrich Schliemann |\\\\n| --- |\\\\n|  |\\\\n| Born | (1822-01-06)6 January 1822Neubukow, Mecklenburg-Schwerin, German Confederation |\\\\n| Died | 26 December 1890(1890-12-26) (aged\\\\xa068)Naples, Kingdom of Italy |\\\\n| Nationality | German |\\\\n| Spouses | \\\\n* \\\\n\\\\nEkaterina Petrovna Lyschin\\\\n\\\\u200b \\\\u200b(m.\\\\xa01852; div.\\\\xa01869)\\\\u200b\\\\n*', 'Early life\\\\n----------\\\\n\\\\nJohann Ludwig Heinrich Julius Schliemann was born on January 6, 1822, at Neubuckow, in Mecklenburg-Schwerin, Germany, to Ernst Schliemann, a Protestant minister, and Luise Therese Sophie. In 1831, when he was nine, his mother died. There is no question that this was a traumatic event for him (later in life he developed a fetish for women named Sophie). Heinrich was sent to live with his uncle.']\"\n",
      "    }\n",
      "  ],\n",
      "  \"candidate_triple\": {\n",
      "    \"subject\": \"Heinrich Schliemann\",\n",
      "    \"relation\": [\n",
      "      \"country of citizenship\"\n",
      "    ],\n",
      "    \"object\": \"Austria-Hungary\"\n",
      "  }\n",
      "}\n"
     ]
    }
   ],
   "source": [
    "for val in neg_results['validated_triples']:\n",
    "    if val['triple_is_valid'] is False:\n",
    "        print(json.dumps(val, indent=2))"
   ]
  },
  {
   "cell_type": "code",
   "execution_count": null,
   "metadata": {},
   "outputs": [],
   "source": [
    "# import duckduckgo_verbose_search\n",
    "# import json\n",
    "\n",
    "# query = \"What Roy Marlin Voris nationality Tahiti?\"\n",
    "\n",
    "# web_searcher = duckduckgo_verbose_search.DuckDuckGoVerboseSearch(max_search_results=5)\n",
    "# web_content = web_searcher(query)\n",
    "# print(json.dumps(web_content, indent=2))"
   ]
  }
 ],
 "metadata": {
  "kernelspec": {
   "display_name": "instructor",
   "language": "python",
   "name": "python3"
  },
  "language_info": {
   "codemirror_mode": {
    "name": "ipython",
    "version": 3
   },
   "file_extension": ".py",
   "mimetype": "text/x-python",
   "name": "python",
   "nbconvert_exporter": "python",
   "pygments_lexer": "ipython3",
   "version": "3.10.13"
  }
 },
 "nbformat": 4,
 "nbformat_minor": 2
}
