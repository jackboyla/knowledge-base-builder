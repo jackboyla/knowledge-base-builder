{
 "cells": [
  {
   "cell_type": "code",
   "execution_count": 2,
   "metadata": {},
   "outputs": [
    {
     "data": {
      "text/plain": [
       "11665"
      ]
     },
     "execution_count": 2,
     "metadata": {},
     "output_type": "execute_result"
    }
   ],
   "source": [
    "import json\n",
    "\n",
    "def read_jsonl(file):\n",
    "    # jsonl_data = []\n",
    "    with open(file, 'r') as f:\n",
    "        jsonl_data = json.load(f)\n",
    "    #     for line in f:\n",
    "    #         jsonl_data.append(line)\n",
    "\n",
    "    return jsonl_data\n",
    "\n",
    "props = read_jsonl('../../data/all-wikidata-properties.json')\n",
    "len(props)"
   ]
  },
  {
   "cell_type": "code",
   "execution_count": 3,
   "metadata": {},
   "outputs": [
    {
     "data": {
      "text/plain": [
       "{'property': 'http://www.wikidata.org/entity/P6',\n",
       " 'propertyLabel': 'head of government',\n",
       " 'propertyDescription': 'head of the executive power of this town, city, municipality, state, country, or other governmental body'}"
      ]
     },
     "execution_count": 3,
     "metadata": {},
     "output_type": "execute_result"
    }
   ],
   "source": [
    "props[0]"
   ]
  },
  {
   "cell_type": "code",
   "execution_count": 4,
   "metadata": {},
   "outputs": [
    {
     "data": {
      "application/vnd.jupyter.widget-view+json": {
       "model_id": "be06904841fd47c782ce3e75d7dd911c",
       "version_major": 2,
       "version_minor": 0
      },
      "text/plain": [
       "modules.json:   0%|          | 0.00/349 [00:00<?, ?B/s]"
      ]
     },
     "metadata": {},
     "output_type": "display_data"
    },
    {
     "data": {
      "application/vnd.jupyter.widget-view+json": {
       "model_id": "ac3517cfc4c04c46a0e09542342ea30c",
       "version_major": 2,
       "version_minor": 0
      },
      "text/plain": [
       "config_sentence_transformers.json:   0%|          | 0.00/116 [00:00<?, ?B/s]"
      ]
     },
     "metadata": {},
     "output_type": "display_data"
    },
    {
     "data": {
      "application/vnd.jupyter.widget-view+json": {
       "model_id": "53343b077cb24c11a9a3ca651f9bdeb6",
       "version_major": 2,
       "version_minor": 0
      },
      "text/plain": [
       "README.md:   0%|          | 0.00/10.7k [00:00<?, ?B/s]"
      ]
     },
     "metadata": {},
     "output_type": "display_data"
    },
    {
     "data": {
      "application/vnd.jupyter.widget-view+json": {
       "model_id": "f300846f182d4c5fa624d48d001ce140",
       "version_major": 2,
       "version_minor": 0
      },
      "text/plain": [
       "sentence_bert_config.json:   0%|          | 0.00/53.0 [00:00<?, ?B/s]"
      ]
     },
     "metadata": {},
     "output_type": "display_data"
    },
    {
     "data": {
      "application/vnd.jupyter.widget-view+json": {
       "model_id": "cf9434f4832941f185e2815380cb96f6",
       "version_major": 2,
       "version_minor": 0
      },
      "text/plain": [
       "config.json:   0%|          | 0.00/612 [00:00<?, ?B/s]"
      ]
     },
     "metadata": {},
     "output_type": "display_data"
    },
    {
     "data": {
      "application/vnd.jupyter.widget-view+json": {
       "model_id": "31cb419469e24043a17ae3202006f2ba",
       "version_major": 2,
       "version_minor": 0
      },
      "text/plain": [
       "pytorch_model.bin:   0%|          | 0.00/90.9M [00:00<?, ?B/s]"
      ]
     },
     "metadata": {},
     "output_type": "display_data"
    },
    {
     "data": {
      "application/vnd.jupyter.widget-view+json": {
       "model_id": "9ba3187efd114b8d80938e67d5977551",
       "version_major": 2,
       "version_minor": 0
      },
      "text/plain": [
       "tokenizer_config.json:   0%|          | 0.00/350 [00:00<?, ?B/s]"
      ]
     },
     "metadata": {},
     "output_type": "display_data"
    },
    {
     "data": {
      "application/vnd.jupyter.widget-view+json": {
       "model_id": "792672813b4e478db24c8339c5288abb",
       "version_major": 2,
       "version_minor": 0
      },
      "text/plain": [
       "vocab.txt:   0%|          | 0.00/232k [00:00<?, ?B/s]"
      ]
     },
     "metadata": {},
     "output_type": "display_data"
    },
    {
     "data": {
      "application/vnd.jupyter.widget-view+json": {
       "model_id": "36c7748a74254097a765d32648d9c74c",
       "version_major": 2,
       "version_minor": 0
      },
      "text/plain": [
       "tokenizer.json:   0%|          | 0.00/466k [00:00<?, ?B/s]"
      ]
     },
     "metadata": {},
     "output_type": "display_data"
    },
    {
     "data": {
      "application/vnd.jupyter.widget-view+json": {
       "model_id": "5294371c343c4acd91726b53fb8214c4",
       "version_major": 2,
       "version_minor": 0
      },
      "text/plain": [
       "special_tokens_map.json:   0%|          | 0.00/112 [00:00<?, ?B/s]"
      ]
     },
     "metadata": {},
     "output_type": "display_data"
    },
    {
     "data": {
      "application/vnd.jupyter.widget-view+json": {
       "model_id": "3e44000ad6eb4bf5a47ee6b5384d7d2b",
       "version_major": 2,
       "version_minor": 0
      },
      "text/plain": [
       "1_Pooling/config.json:   0%|          | 0.00/190 [00:00<?, ?B/s]"
      ]
     },
     "metadata": {},
     "output_type": "display_data"
    }
   ],
   "source": [
    "from sentence_transformers import SentenceTransformer\n",
    "encoder = SentenceTransformer(\"all-MiniLM-L6-v2\")"
   ]
  },
  {
   "cell_type": "code",
   "execution_count": 5,
   "metadata": {},
   "outputs": [],
   "source": [
    "from qdrant_client import QdrantClient, models\n",
    "qdrant = QdrantClient(\":memory:\") # Create in-memory Qdrant instance, for testing, CI/CD"
   ]
  },
  {
   "cell_type": "code",
   "execution_count": 7,
   "metadata": {},
   "outputs": [
    {
     "data": {
      "text/plain": [
       "True"
      ]
     },
     "execution_count": 7,
     "metadata": {},
     "output_type": "execute_result"
    }
   ],
   "source": [
    "qdrant.recreate_collection(\n",
    "    collection_name=\"wikidata_properties\",\n",
    "    vectors_config=models.VectorParams(\n",
    "        size=encoder.get_sentence_embedding_dimension(),  # Vector size is defined by used model\n",
    "        distance=models.Distance.COSINE,\n",
    "    ),\n",
    ")"
   ]
  },
  {
   "cell_type": "code",
   "execution_count": 17,
   "metadata": {},
   "outputs": [
    {
     "data": {
      "text/plain": [
       "(384,)"
      ]
     },
     "execution_count": 17,
     "metadata": {},
     "output_type": "execute_result"
    }
   ],
   "source": [
    "out = encoder.encode(\"Alexei Navalny was born in 1979.\")\n",
    "out.shape"
   ]
  },
  {
   "cell_type": "code",
   "execution_count": 13,
   "metadata": {},
   "outputs": [],
   "source": [
    "# 93 properties without a description\n",
    "props = [p for p in props if \"propertyDescription\" in p]"
   ]
  },
  {
   "cell_type": "code",
   "execution_count": 20,
   "metadata": {},
   "outputs": [
    {
     "name": "stderr",
     "output_type": "stream",
     "text": [
      "/var/folders/2q/br_c44dn1pq0q31552ypn2800000gn/T/ipykernel_64621/373319611.py:1: DeprecationWarning: `upload_records` is deprecated, use `upload_points` instead\n",
      "  qdrant.upload_records(\n"
     ]
    }
   ],
   "source": [
    "qdrant.upload_records(\n",
    "    collection_name=\"wikidata_properties\",\n",
    "    records=[\n",
    "        models.Record(\n",
    "            id=idx, vector=encoder.encode(f\"{property['propertyLabel']} : {property['propertyDescription']}\").tolist(), payload=property\n",
    "        )\n",
    "        for idx, property in enumerate(props)\n",
    "    ],\n",
    ")"
   ]
  },
  {
   "cell_type": "code",
   "execution_count": 21,
   "metadata": {},
   "outputs": [
    {
     "data": {
      "text/plain": [
       "[ScoredPoint(id=5894, version=0, score=0.43763988209034543, payload={'property': 'http://www.wikidata.org/entity/P6596', 'propertyLabel': 'a-tremasov.ru biography ID', 'propertyDescription': \"ID of biographical article at Aleksei Tremasov's project Always with me…\"}, vector=None, shard_key=None),\n",
       " ScoredPoint(id=6026, version=0, score=0.42259877383642735, payload={'property': 'http://www.wikidata.org/entity/P6737', 'propertyLabel': 'grwar.ru person ID', 'propertyDescription': \"ID of biographical article at Alexey Likhotvorik's project Russian Army in the Great War\"}, vector=None, shard_key=None),\n",
       " ScoredPoint(id=11314, version=0, score=0.4145579052032264, payload={'property': 'http://www.wikidata.org/entity/P12414', 'propertyLabel': 'ru.hayazg.info ID', 'propertyDescription': 'identifier for a person in the Russian edition of the Armenian website hayazg.info'}, vector=None, shard_key=None)]"
      ]
     },
     "execution_count": 21,
     "metadata": {},
     "output_type": "execute_result"
    }
   ],
   "source": [
    "# - in our for loop, encode each sentence and fetch the top five most likely properties from the index \n",
    "\n",
    "def fetch_top_n(query:str, collection_name:str, top_n:int) -> dict:\n",
    "    hits = qdrant.search(\n",
    "        collection_name,\n",
    "        query_vector=encoder.encode(query).tolist(),\n",
    "        limit=top_n,\n",
    "    )\n",
    "    return hits\n",
    "\n",
    "hits = fetch_top_n(\"Alexei Navalny was born in 1979.\", \"wikidata_properties\", 3)\n",
    "hits"
   ]
  },
  {
   "cell_type": "code",
   "execution_count": 22,
   "metadata": {},
   "outputs": [
    {
     "data": {
      "text/plain": [
       "[ScoredPoint(id=11336, version=0, score=0.49542778270790916, payload={'property': 'http://www.wikidata.org/entity/P12439', 'propertyLabel': 'civil rank', 'propertyDescription': 'non-military rank of a civil office holder in Russian Empire'}, vector=None, shard_key=None),\n",
       " ScoredPoint(id=7854, version=0, score=0.46804220658656914, payload={'property': 'http://www.wikidata.org/entity/P8643', 'propertyLabel': 'Dostoyevsky and His Entourage ID', 'propertyDescription': 'identifier for a person somehow connected to Fyodor Dostoyevsky in the website in fedordostoevsky.ru'}, vector=None, shard_key=None),\n",
       " ScoredPoint(id=4423, version=0, score=0.46110793557123186, payload={'property': 'http://www.wikidata.org/entity/P5012', 'propertyLabel': 'special rank', 'propertyDescription': 'non-military rank given to a civil office holder in Russia'}, vector=None, shard_key=None),\n",
       " ScoredPoint(id=9450, version=0, score=0.45311962712385, payload={'property': 'http://www.wikidata.org/entity/P10462', 'propertyLabel': 'Encyclopedia of Russian America ID', 'propertyDescription': 'identifier for a person in the Encyclopedia of Russian America'}, vector=None, shard_key=None),\n",
       " ScoredPoint(id=10048, version=0, score=0.4494785373249234, payload={'property': 'http://www.wikidata.org/entity/P10984', 'propertyLabel': 'Communist Party of the Russian Federation person ID', 'propertyDescription': 'identifier for a member of the Communist Party of the Russian Federation'}, vector=None, shard_key=None)]"
      ]
     },
     "execution_count": 22,
     "metadata": {},
     "output_type": "execute_result"
    }
   ],
   "source": [
    "query = \"Alexei Anatolyevich Navalny[c][d] (Russian: Алексей Анатольевич Навальный, IPA: [ɐlʲɪkˈsʲej ɐnɐˈtolʲjɪvʲɪtɕ nɐˈvalʲnɨj]; 4 June 1976 – 16 February 2024) was a Russian opposition leader,[2][4] lawyer, anti-corruption activist, and political prisoner.\"\n",
    "\n",
    "hits = fetch_top_n(query, \"wikidata_properties\", 5)\n",
    "hits"
   ]
  },
  {
   "cell_type": "code",
   "execution_count": null,
   "metadata": {},
   "outputs": [],
   "source": []
  }
 ],
 "metadata": {
  "kernelspec": {
   "display_name": "instructor",
   "language": "python",
   "name": "python3"
  },
  "language_info": {
   "codemirror_mode": {
    "name": "ipython",
    "version": 3
   },
   "file_extension": ".py",
   "mimetype": "text/x-python",
   "name": "python",
   "nbconvert_exporter": "python",
   "pygments_lexer": "ipython3",
   "version": "3.9.18"
  }
 },
 "nbformat": 4,
 "nbformat_minor": 2
}
