{
 "cells": [
  {
   "cell_type": "code",
   "execution_count": 2,
   "metadata": {},
   "outputs": [],
   "source": [
    "from utils import read_jsonl, save_jsonl\n",
    "import pandas as pd\n",
    "from pydantic import BaseModel, model_validator, field_validator, Field, ValidationInfo\n",
    "from typing import List, Dict, Union, Any, Optional\n",
    "import instructor\n",
    "from openai import OpenAI\n",
    "import os\n",
    "import json\n",
    "\n",
    "from data_classes import KnowledgeGraph, ValidatedProperty"
   ]
  },
  {
   "cell_type": "code",
   "execution_count": 3,
   "metadata": {},
   "outputs": [],
   "source": [
    "client = instructor.patch(OpenAI(api_key=os.environ['OPENAI_API_KEY']))\n",
    "MODEL = \"gpt-3.5-turbo-0125\""
   ]
  },
  {
   "cell_type": "markdown",
   "metadata": {},
   "source": [
    "# 🧠 Load data"
   ]
  },
  {
   "cell_type": "code",
   "execution_count": 4,
   "metadata": {},
   "outputs": [
    {
     "name": "stdout",
     "output_type": "stream",
     "text": [
      "Number of predicted KBs: 4\n"
     ]
    }
   ],
   "source": [
    "pred_kbs = read_jsonl('../../data/prediction.jsonl')\n",
    "print(f\"Number of predicted KBs: {len(pred_kbs)}\")"
   ]
  },
  {
   "cell_type": "code",
   "execution_count": 5,
   "metadata": {},
   "outputs": [
    {
     "data": {
      "text/plain": [
       "dict_keys(['entity_label', 'properties'])"
      ]
     },
     "execution_count": 5,
     "metadata": {},
     "output_type": "execute_result"
    }
   ],
   "source": [
    "pred_kbs[0].keys()"
   ]
  },
  {
   "cell_type": "markdown",
   "metadata": {},
   "source": [
    "# 🪬 Define Evaluation Model"
   ]
  },
  {
   "cell_type": "code",
   "execution_count": 46,
   "metadata": {},
   "outputs": [],
   "source": [
    "\n",
    "class WorldKnowledgeKGValidator(KnowledgeGraph):\n",
    "\n",
    "    validated_properties: List[ValidatedProperty] = []\n",
    "\n",
    "\n",
    "    @model_validator(mode='before')\n",
    "    def validate(self, context) -> \"WorldKnowledgeKGValidator\":\n",
    "\n",
    "        self['validated_properties'] = []\n",
    "        existing_pred_properties = [name for name in self['properties'].keys()]\n",
    "\n",
    "        for predicted_property_name, predicted_property_value in self['properties'].items():\n",
    "\n",
    "            # EVALUATE ONE PROPERTY\n",
    "            resp: ValidatedProperty = client.chat.completions.create(\n",
    "                response_model=ValidatedProperty,\n",
    "                messages=[\n",
    "                    {\n",
    "                        \"role\": \"user\",\n",
    "                        \"content\": f\"Using your knowledge of the world\" +\n",
    "                        \"is the following property valid for the given entity? \" +\n",
    "                        f\"\\nEntity Label: {self['entity_label']}\" +\n",
    "                        f\"\\nPredicted Property Name: {predicted_property_name}\" +\n",
    "                        f\"\\nPredicted Property Value: {predicted_property_value}\"\n",
    "                    }\n",
    "                ],\n",
    "                validation_context={\n",
    "                    \"existing_pred_properties\": existing_pred_properties,\n",
    "                },\n",
    "                max_retries=2,\n",
    "                model=MODEL,\n",
    "            )\n",
    "\n",
    "            self['validated_properties'].append(resp)\n",
    "        return self\n",
    "\n",
    "\n",
    "    @model_validator(mode='after')\n",
    "    def assert_all_properties_validated(self, info: ValidationInfo):\n",
    "        if len(self.validated_properties) != len(self.properties):\n",
    "            raise ValueError(\n",
    "                \"Number of properties validated does not match number of properties in the prediction knowledge base. \" +\n",
    "                f\"Number of properties validated: {len(self.validated_properties)}, \" +\n",
    "                f\"Number of properties in the text: {len(self.properties)}\"\n",
    "                )\n",
    "        return self\n",
    "\n",
    "\n",
    "    "
   ]
  },
  {
   "cell_type": "markdown",
   "metadata": {},
   "source": [
    "# Evaluate!"
   ]
  },
  {
   "cell_type": "code",
   "execution_count": 47,
   "metadata": {},
   "outputs": [],
   "source": [
    "import copy\n",
    "pred_kb_with_wrong_fact = copy.deepcopy(pred_kbs[0])\n",
    "pred_kb_with_wrong_fact['properties']['Bought Stocks in'] = ['Tesla', 'Nvidia', 'Hertz']\n",
    "pred_kb_with_wrong_fact['properties']['Favourite Fast Food Chain'] = 'McDonalds'"
   ]
  },
  {
   "cell_type": "code",
   "execution_count": 48,
   "metadata": {},
   "outputs": [],
   "source": [
    "results = []\n",
    "results.append(WorldKnowledgeKGValidator(**pred_kb_with_wrong_fact))"
   ]
  },
  {
   "cell_type": "code",
   "execution_count": 49,
   "metadata": {},
   "outputs": [
    {
     "data": {
      "text/plain": [
       "{'entity_label': 'George Washington',\n",
       " 'properties': {'Name': 'George Washington',\n",
       "  'Birth date': 'February 22, 1732',\n",
       "  'Death date': 'December 14, 1799',\n",
       "  'Occupation': ['Founding Father',\n",
       "   'Military Officer',\n",
       "   'Politician',\n",
       "   'First President of the United States'],\n",
       "  'Place of Birth': 'Westmoreland County, Virginia',\n",
       "  'Place of Death': 'Mount Vernon, Virginia',\n",
       "  'Spouse': 'Martha Washington',\n",
       "  'Children': ['none',\n",
       "   'adoptive children: Martha Parke Custis, John Parke Custis'],\n",
       "  'Role in American Revolution': 'Commander-in-Chief of the Continental Army during the American Revolution',\n",
       "  'Deficit in Estate': 'Eleventh year running deficit in 1787 due to poor crop yields and pestilence',\n",
       "  'Agricultural Innovation': 'Undertook a new landscaping plan to cultivate fast-growing trees and native shrubs',\n",
       "  'Mule Breeding': 'Began breeding mules after being gifted a Spanish jack by King Charles III of Spain in 1784, believed they would revolutionize agriculture and transportation',\n",
       "  'Chancellor of William & Mary': 'Elected as the 14th Chancellor of the College of William & Mary in 1788 and served until his death in 1799',\n",
       "  'First Presidential Election': \"Won the majority of every state's electoral votes and was informed of his election as president by Congressional Secretary Charles Thomson\",\n",
       "  'Constitutional Authority': 'Exercised Constitutional authority for the first time to pardon two condemned prisoners during a military action',\n",
       "  'Neutrality Declaration': \"Declared America's neutrality in the French Revolutionary Wars in April 1792\",\n",
       "  'French Citizenship': 'Granted honorary French citizenship by the National Assembly of France on August 26, 1792',\n",
       "  'Jay Treaty': 'Supported and signed the Jay Treaty on November 19, 1794 to normalize trade relations with Britain',\n",
       "  'Acted Against Genêt': \"Demanded the French recall diplomat Edmond-Charles Genêt for promoting France's interests in America\",\n",
       "  'Treaty of Greenville': 'The Treaty of Greenville in August 1795 opened two-thirds of the Ohio Country for American settlement',\n",
       "  'Retirement': 'Retired to Mount Vernon in March 1797 and devoted time to his plantations and other business interests',\n",
       "  'Offered Military Service': \"Offered to organize President Adams' army during the Quasi-War with France in 1798\",\n",
       "  'Burial Date': 'December 18, 1799',\n",
       "  'Last Words': \"'Tis well\",\n",
       "  'Funeral Location': 'Mount Vernon, Virginia',\n",
       "  'Financial Worth': '$780,000 in 1799, equivalent to $13.72 million in 2022',\n",
       "  'Peak Net Worth': '$587 million',\n",
       "  'Burial Location': 'Washington family vault at Mount Vernon',\n",
       "  'Attempted Theft Incident': \"In 1830, a disgruntled ex-employee attempted to steal what he thought was Washington's skull, prompting the construction of a more secure vault\",\n",
       "  'New Vault Construction': 'A new vault was constructed at Mount Vernon in 1800 to receive the remains of George and Martha Washington and other relatives',\n",
       "  'Proposal to Move Body': \"In 1832, a joint Congressional committee debated moving Washington's body to a crypt in the United States Capitol\",\n",
       "  'Sarcophagus Design': \"A marble sarcophagus designed by William Strickland and constructed by John Struthers was used to encase Washington's remains and Martha's remains at Mount Vernon\",\n",
       "  'Religious Affiliation': 'Descended from Anglican minister Lawrence Washington, baptized in the Anglican Church, served as a vestryman and churchwarden, and privately prayed and read the Bible daily',\n",
       "  'Abolitionist Society': 'Declined a suggestion from Jacques Brissot to establish an abolitionist society in Virginia in 1788',\n",
       "  'Emancipation of Slaves': 'Instructed his secretary to find buyers for his land in western Virginia in 1794 to liberate his slaves, emancipated 123 slaves in his will in 1799, and Martha Washington signed an order to free his slaves in 1801',\n",
       "  'Legacy and Influence': \"Endures as one of the most influential figures in American history, served as commander-in-chief of the Continental Army, a hero of the Revolution, and the first president of the United States; set many precedents for the national government and the presidency, known as the 'Father of His Country' and among the highest-ranked U.S. Presidents\",\n",
       "  'Bought Stocks in': ['Tesla', 'Nvidia', 'Hertz'],\n",
       "  'Favourite Fast Food Chain': 'McDonalds'},\n",
       " 'validated_properties': [{'property_name': 'Name',\n",
       "   'property_value': 'George Washington',\n",
       "   'property_is_valid': True,\n",
       "   'error_message': None},\n",
       "  {'property_name': 'Birth date',\n",
       "   'property_value': 'February 22, 1732',\n",
       "   'property_is_valid': True,\n",
       "   'error_message': None},\n",
       "  {'property_name': 'Death date',\n",
       "   'property_value': 'December 14, 1799',\n",
       "   'property_is_valid': True,\n",
       "   'error_message': None},\n",
       "  {'property_name': 'Occupation',\n",
       "   'property_value': ['Founding Father',\n",
       "    'Military Officer',\n",
       "    'Politician',\n",
       "    'First President of the United States'],\n",
       "   'property_is_valid': True,\n",
       "   'error_message': None},\n",
       "  {'property_name': 'Place of Birth',\n",
       "   'property_value': 'Westmoreland County, Virginia',\n",
       "   'property_is_valid': True,\n",
       "   'error_message': None},\n",
       "  {'property_name': 'Place of Death',\n",
       "   'property_value': 'Mount Vernon, Virginia',\n",
       "   'property_is_valid': True,\n",
       "   'error_message': None},\n",
       "  {'property_name': 'Spouse',\n",
       "   'property_value': 'Martha Washington',\n",
       "   'property_is_valid': True,\n",
       "   'error_message': None},\n",
       "  {'property_name': 'Children',\n",
       "   'property_value': ['none',\n",
       "    'adoptive children: Martha Parke Custis, John Parke Custis'],\n",
       "   'property_is_valid': True,\n",
       "   'error_message': None},\n",
       "  {'property_name': 'Role in American Revolution',\n",
       "   'property_value': 'Commander-in-Chief of the Continental Army during the American Revolution',\n",
       "   'property_is_valid': True,\n",
       "   'error_message': None},\n",
       "  {'property_name': 'Deficit in Estate',\n",
       "   'property_value': 'Eleventh year running deficit in 1787 due to poor crop yields and pestilence',\n",
       "   'property_is_valid': True,\n",
       "   'error_message': None},\n",
       "  {'property_name': 'Agricultural Innovation',\n",
       "   'property_value': 'Undertook a new landscaping plan to cultivate fast-growing trees and native shrubs',\n",
       "   'property_is_valid': True,\n",
       "   'error_message': None},\n",
       "  {'property_name': 'Mule Breeding',\n",
       "   'property_value': 'Began breeding mules after being gifted a Spanish jack by King Charles III of Spain in 1784, believed they would revolutionize agriculture and transportation',\n",
       "   'property_is_valid': True,\n",
       "   'error_message': None},\n",
       "  {'property_name': 'Chancellor of William & Mary',\n",
       "   'property_value': 'Elected as the 14th Chancellor of the College of William & Mary in 1788 and served until his death in 1799',\n",
       "   'property_is_valid': True,\n",
       "   'error_message': None},\n",
       "  {'property_name': 'First Presidential Election',\n",
       "   'property_value': \"Won the majority of every state's electoral votes and was informed of his election as president by Congressional Secretary Charles Thomson\",\n",
       "   'property_is_valid': False,\n",
       "   'error_message': \"George Washington did not win the majority of every state's electoral votes in the first presidential election. The Electoral College unanimously elected him as president in 1789, and he received votes from all participating states but did not compete in a traditional election with multiple candidates.\"},\n",
       "  {'property_name': 'Constitutional Authority',\n",
       "   'property_value': 'Exercised Constitutional authority for the first time to pardon two condemned prisoners during a military action',\n",
       "   'property_is_valid': True,\n",
       "   'error_message': None},\n",
       "  {'property_name': 'Neutrality Declaration',\n",
       "   'property_value': \"Declared America's neutrality in the French Revolutionary Wars in April 1792\",\n",
       "   'property_is_valid': True,\n",
       "   'error_message': None},\n",
       "  {'property_name': 'French Citizenship',\n",
       "   'property_value': 'Granted honorary French citizenship by the National Assembly of France on August 26, 1792',\n",
       "   'property_is_valid': True,\n",
       "   'error_message': None},\n",
       "  {'property_name': 'Jay Treaty',\n",
       "   'property_value': 'Supported and signed the Jay Treaty on November 19, 1794 to normalize trade relations with Britain',\n",
       "   'property_is_valid': True,\n",
       "   'error_message': None},\n",
       "  {'property_name': 'Acted Against Genêt',\n",
       "   'property_value': \"Demanded the French recall diplomat Edmond-Charles Genêt for promoting France's interests in America\",\n",
       "   'property_is_valid': True,\n",
       "   'error_message': None},\n",
       "  {'property_name': 'Treaty of Greenville',\n",
       "   'property_value': 'The Treaty of Greenville in August 1795 opened two-thirds of the Ohio Country for American settlement',\n",
       "   'property_is_valid': True,\n",
       "   'error_message': None},\n",
       "  {'property_name': 'Retirement',\n",
       "   'property_value': 'Retired to Mount Vernon in March 1797 and devoted time to his plantations and other business interests',\n",
       "   'property_is_valid': True,\n",
       "   'error_message': None},\n",
       "  {'property_name': 'Offered Military Service',\n",
       "   'property_value': \"Offered to organize President Adams' army during the Quasi-War with France in 1798\",\n",
       "   'property_is_valid': True,\n",
       "   'error_message': None},\n",
       "  {'property_name': 'Burial Date',\n",
       "   'property_value': 'December 18, 1799',\n",
       "   'property_is_valid': True,\n",
       "   'error_message': None},\n",
       "  {'property_name': 'Last Words',\n",
       "   'property_value': \"'Tis well\",\n",
       "   'property_is_valid': True,\n",
       "   'error_message': None},\n",
       "  {'property_name': 'Funeral Location',\n",
       "   'property_value': 'Mount Vernon, Virginia',\n",
       "   'property_is_valid': True,\n",
       "   'error_message': None},\n",
       "  {'property_name': 'Financial Worth',\n",
       "   'property_value': '$780,000 in 1799, equivalent to $13.72 million in 2022',\n",
       "   'property_is_valid': True,\n",
       "   'error_message': None},\n",
       "  {'property_name': 'Peak Net Worth',\n",
       "   'property_value': '$587 million',\n",
       "   'property_is_valid': True,\n",
       "   'error_message': None},\n",
       "  {'property_name': 'Burial Location',\n",
       "   'property_value': 'Washington family vault at Mount Vernon',\n",
       "   'property_is_valid': True,\n",
       "   'error_message': None},\n",
       "  {'property_name': 'Attempted Theft Incident',\n",
       "   'property_value': \"In 1830, a disgruntled ex-employee attempted to steal what he thought was Washington's skull, prompting the construction of a more secure vault\",\n",
       "   'property_is_valid': True,\n",
       "   'error_message': None},\n",
       "  {'property_name': 'New Vault Construction',\n",
       "   'property_value': 'A new vault was constructed at Mount Vernon in 1800 to receive the remains of George and Martha Washington and other relatives',\n",
       "   'property_is_valid': True,\n",
       "   'error_message': None},\n",
       "  {'property_name': 'Proposal to Move Body',\n",
       "   'property_value': \"In 1832, a joint Congressional committee debated moving Washington's body to a crypt in the United States Capitol\",\n",
       "   'property_is_valid': True,\n",
       "   'error_message': None},\n",
       "  {'property_name': 'Sarcophagus Design',\n",
       "   'property_value': \"A marble sarcophagus designed by William Strickland and constructed by John Struthers was used to encase Washington's remains and Martha's remains at Mount Vernon\",\n",
       "   'property_is_valid': True,\n",
       "   'error_message': None},\n",
       "  {'property_name': 'Religious Affiliation',\n",
       "   'property_value': 'Descended from Anglican minister Lawrence Washington, baptized in the Anglican Church, served as a vestryman and churchwarden, and privately prayed and read the Bible daily',\n",
       "   'property_is_valid': True,\n",
       "   'error_message': None},\n",
       "  {'property_name': 'Abolitionist Society',\n",
       "   'property_value': 'Declined a suggestion from Jacques Brissot to establish an abolitionist society in Virginia in 1788',\n",
       "   'property_is_valid': True,\n",
       "   'error_message': None},\n",
       "  {'property_name': 'Emancipation of Slaves',\n",
       "   'property_value': 'Instructed his secretary to find buyers for his land in western Virginia in 1794 to liberate his slaves, emancipated 123 slaves in his will in 1799, and Martha Washington signed an order to free his slaves in 1801',\n",
       "   'property_is_valid': True,\n",
       "   'error_message': None},\n",
       "  {'property_name': 'Legacy and Influence',\n",
       "   'property_value': \"Endures as one of the most influential figures in American history, served as commander-in-chief of the Continental Army, a hero of the Revolution, and the first president of the United States; set many precedents for the national government and the presidency, known as the 'Father of His Country' and among the highest-ranked U.S. Presidents\",\n",
       "   'property_is_valid': True,\n",
       "   'error_message': None},\n",
       "  {'property_name': 'Bought Stocks in',\n",
       "   'property_value': ['Tesla', 'Nvidia', 'Hertz'],\n",
       "   'property_is_valid': True,\n",
       "   'error_message': None},\n",
       "  {'property_name': 'Favourite Fast Food Chain',\n",
       "   'property_value': 'McDonalds',\n",
       "   'property_is_valid': False,\n",
       "   'error_message': \"The property 'Favourite Fast Food Chain' is not typically associated with historical figures like George Washington.\"}]}"
      ]
     },
     "execution_count": 49,
     "metadata": {},
     "output_type": "execute_result"
    }
   ],
   "source": [
    "results[0].model_dump()"
   ]
  },
  {
   "cell_type": "code",
   "execution_count": 50,
   "metadata": {},
   "outputs": [],
   "source": [
    "# results = []\n",
    "# for idx in range(len(pred_kbs)):\n",
    "\n",
    "#     # try:\n",
    "#     result = WorldKnowledgeKGValidator(**pred_kbs[idx])\n",
    "#     results.append(result)\n",
    "#     # except Exception as e:\n",
    "#     #     print(f\"Failed to evaluate at KB {idx} with error {e}\")"
   ]
  },
  {
   "cell_type": "code",
   "execution_count": 51,
   "metadata": {},
   "outputs": [
    {
     "name": "stdout",
     "output_type": "stream",
     "text": [
      "Saved to f'../../data/world_knowledge_evaluation_results.jsonl\n"
     ]
    }
   ],
   "source": [
    "results_json = [r.model_dump() for r in results]\n",
    "save_jsonl(results_json, '../../data/world_knowledge_evaluation_results.jsonl')"
   ]
  },
  {
   "cell_type": "markdown",
   "metadata": {},
   "source": [
    "# Look at our Evaluations"
   ]
  },
  {
   "cell_type": "code",
   "execution_count": 45,
   "metadata": {},
   "outputs": [
    {
     "data": {
      "text/plain": [
       "1"
      ]
     },
     "execution_count": 45,
     "metadata": {},
     "output_type": "execute_result"
    }
   ],
   "source": [
    "results = read_jsonl('../../data/world_knowledge_evaluation_results.jsonl')\n",
    "len(results)"
   ]
  },
  {
   "cell_type": "code",
   "execution_count": null,
   "metadata": {},
   "outputs": [],
   "source": []
  }
 ],
 "metadata": {
  "kernelspec": {
   "display_name": "instructor",
   "language": "python",
   "name": "python3"
  },
  "language_info": {
   "codemirror_mode": {
    "name": "ipython",
    "version": 3
   },
   "file_extension": ".py",
   "mimetype": "text/x-python",
   "name": "python",
   "nbconvert_exporter": "python",
   "pygments_lexer": "ipython3",
   "version": "3.10.13"
  }
 },
 "nbformat": 4,
 "nbformat_minor": 2
}
