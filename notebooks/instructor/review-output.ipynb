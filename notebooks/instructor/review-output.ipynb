{
 "cells": [
  {
   "cell_type": "markdown",
   "metadata": {},
   "source": [
    "# Look at our Evaluations"
   ]
  },
  {
   "cell_type": "code",
   "execution_count": 26,
   "metadata": {},
   "outputs": [],
   "source": [
    "import sys\n",
    "sys.path.insert(0, '../../knowledge_graph_validator')\n",
    "import utils"
   ]
  },
  {
   "cell_type": "code",
   "execution_count": 27,
   "metadata": {},
   "outputs": [],
   "source": [
    "save_path = '/home/jackboylan/knowledge-base-builder/data/results/CoDeX-S/WikidataKGValidator/WikidataKGValidator_CoDeX-S_10.jsonl'"
   ]
  },
  {
   "cell_type": "code",
   "execution_count": 28,
   "metadata": {},
   "outputs": [
    {
     "data": {
      "text/plain": [
       "2"
      ]
     },
     "execution_count": 28,
     "metadata": {},
     "output_type": "execute_result"
    }
   ],
   "source": [
    "results = utils.read_jsonl(save_path)\n",
    "len(results)"
   ]
  },
  {
   "cell_type": "code",
   "execution_count": 29,
   "metadata": {},
   "outputs": [
    {
     "name": "stdout",
     "output_type": "stream",
     "text": [
      "Precision: 0.5\n",
      "Recall: 0.8\n",
      "F1 Score: 0.6153846153846154\n",
      "Accuracy: 0.5\n",
      "----------\n"
     ]
    }
   ],
   "source": [
    "tp = 0\n",
    "fp = 0\n",
    "tn = 0\n",
    "fn = 0 \n",
    "pos_results = results[1]\n",
    "neg_results = results[0]\n",
    "for val in pos_results['validated_triples']:\n",
    "    if val['triple_is_valid']:    # property is correctly marked as valid\n",
    "        tp += 1\n",
    "    else:                           # property is incorrectly marked as invalid\n",
    "        fn += 1\n",
    "for val in neg_results['validated_triples']:\n",
    "    if val['triple_is_valid']:    # property is incorrectly marked as valid\n",
    "        fp += 1\n",
    "    else:                           # property is correctly marked as invalid\n",
    "        tn += 1\n",
    "\n",
    "metrics = utils.calc_metrics(tp, fp, tn, fn)\n",
    "\n",
    "# Precision: 0.75\n",
    "# Recall: 0.8571428571428571\n",
    "# F1 Score: 0.7999999999999999\n",
    "# Accuracy: 0.7857142857142857\n",
    "# ----------"
   ]
  },
  {
   "cell_type": "code",
   "execution_count": 30,
   "metadata": {},
   "outputs": [
    {
     "name": "stdout",
     "output_type": "stream",
     "text": [
      "\n",
      "----------------False Negatives------------------\n",
      "\n",
      "{\n",
      "  \"subject_name\": \"Hulk Hogan\",\n",
      "  \"relation\": \"genre\",\n",
      "  \"object_name\": \"rock music\",\n",
      "  \"triple_is_valid\": false,\n",
      "  \"reason\": \"Not enough information to say\"\n",
      "}\n",
      "Total False Negatives: 1\n",
      "\n",
      "----------------False Positives------------------\n",
      "\n",
      "Total False Positives: 0\n"
     ]
    }
   ],
   "source": [
    "# what did the evaluator get wrong?\n",
    "import json\n",
    "false_neg = 0\n",
    "false_pos = 0\n",
    "print('\\n----------------False Negatives------------------\\n')\n",
    "for val in pos_results['validated_triples']:\n",
    "    if val['triple_is_valid'] is False:\n",
    "        print(json.dumps(val, indent=2))\n",
    "        false_neg += 1\n",
    "print(f\"Total False Negatives: {false_neg}\")\n",
    "\n",
    "\n",
    "print('\\n----------------False Positives------------------\\n')\n",
    "for val in neg_results['validated_triples']:\n",
    "    if val['triple_is_valid'] is True:\n",
    "        print(json.dumps(val, indent=2))\n",
    "        false_pos += 1\n",
    "print(f\"Total False Positives: {false_pos}\")\n"
   ]
  },
  {
   "cell_type": "code",
   "execution_count": 31,
   "metadata": {},
   "outputs": [
    {
     "name": "stdout",
     "output_type": "stream",
     "text": [
      "Result Q646313:\n",
      "Label: Algernon\n",
      "Description: given name\n",
      "Aliases: Algernon (first name), Algernon (given name)\n",
      "instance of: male given name\n",
      "\n",
      "Result Q315511:\n",
      "Label: Algernon Charles Swinburne\n",
      "Description: English poet, playwright, novelist, and critic (1837-1909)\n",
      "Aliases: Algernon Swinburne, Algernon Charles Swiburne\n",
      "instance of: human\n",
      "country of citizenship: United Kingdom of Great Britain and Ireland\n",
      "occupation: poet, writer, literary critic\n",
      "sex or gender: male\n",
      "date of birth: 1837-04-05\n",
      "date of death: 1909-04-10\n",
      "place of birth: London\n",
      "educated at: Eton College, Balliol College\n",
      "place of death: London, Putney\n",
      "cause of death: influenza\n",
      "notable work: Atalanta in Calydon, Poems and Ballads\n",
      "mother: Jane Ashburnham\n",
      "father: Charles Henry Swinburne\n",
      "\n",
      "Result Q1034181:\n",
      "Label: Algernon Sidney\n",
      "Description: British politician and political theorist (1623-1683)\n",
      "Aliases: Algernon Sydney, Hon. Algernon Sidney\n",
      "instance of: human\n",
      "country of citizenship: Kingdom of England\n",
      "occupation: diplomat, politician, writer\n",
      "sex or gender: male\n",
      "date of birth: 1623, 1623-01-15, 1622\n",
      "date of death: 1683-12-07\n",
      "place of birth: Baynard's Castle\n",
      "position held: Member of Parliament in the Parliament of England, Member of the 1642-48 Parliament, Member of the 1648-53 Parliament\n",
      "place of death: Tower Hill\n",
      "cause of death: decapitation\n",
      "member of political party: Republican Party\n",
      "mother: Dorothy Sidney, Countess of Leicester\n",
      "father: Robert Sidney, 2nd Earl of Leicester\n",
      "\n",
      "Result Q77048094:\n",
      "Label: Algernon\n",
      "Description: fictional Teenage Mutant Ninja Turtles character\n",
      "Aliases: Algie\n",
      "instance of: fictional extraterrestrial, Teenage Mutant Ninja Turtles character, animated character, television character, anthropomorphic lizard\n",
      "sex or gender: male\n",
      "\n",
      "Result Q837934:\n",
      "Label: Flowers for Algernon\n",
      "Description: short story by Daniel Keyes, later expanded into a novel\n",
      "instance of: literary work\n",
      "country of origin: United States of America\n",
      "publication date: 1959-04\n",
      "author: Daniel Keyes\n",
      "genre: epistolary novel, first-person narrative, science fiction\n",
      "form of creative work: short story\n"
     ]
    }
   ],
   "source": [
    "import sys\n",
    "sys.path.insert(0, '../../knowledge_graph_validator')\n",
    "from langchain_community.tools.wikidata.tool import WikidataAPIWrapper, WikidataQueryRun\n",
    "\n",
    "wrapper = WikidataAPIWrapper()\n",
    "wrapper.top_k_results = 5\n",
    "wikidata_wrapper = WikidataQueryRun(api_wrapper=wrapper)\n",
    "\n",
    "q = \"Algernon\"\n",
    "print(wikidata_wrapper.run(q))"
   ]
  },
  {
   "cell_type": "code",
   "execution_count": null,
   "metadata": {},
   "outputs": [],
   "source": []
  }
 ],
 "metadata": {
  "kernelspec": {
   "display_name": "instructor",
   "language": "python",
   "name": "python3"
  },
  "language_info": {
   "codemirror_mode": {
    "name": "ipython",
    "version": 3
   },
   "file_extension": ".py",
   "mimetype": "text/x-python",
   "name": "python",
   "nbconvert_exporter": "python",
   "pygments_lexer": "ipython3",
   "version": "3.10.13"
  }
 },
 "nbformat": 4,
 "nbformat_minor": 2
}
