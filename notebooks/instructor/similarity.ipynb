{
 "cells": [
  {
   "cell_type": "code",
   "execution_count": 54,
   "metadata": {},
   "outputs": [],
   "source": [
    "from utils import read_jsonl, save_jsonl\n",
    "import pandas as pd\n",
    "from pydantic import BaseModel, model_validator, field_validator, Field, ValidationInfo\n",
    "from typing import List, Dict, Union, Any, Optional\n",
    "import instructor\n",
    "from openai import OpenAI\n",
    "import os\n",
    "import json"
   ]
  },
  {
   "cell_type": "code",
   "execution_count": 55,
   "metadata": {},
   "outputs": [],
   "source": [
    "client = instructor.patch(OpenAI(api_key=os.environ['OPENAI_API_KEY']))\n",
    "MODEL = \"gpt-3.5-turbo-0125\""
   ]
  },
  {
   "cell_type": "markdown",
   "metadata": {},
   "source": [
    "# 🧠 Load data\n",
    "\n",
    "- reference KBs\n",
    "- predicted KBs\n",
    "- Wikidata Properties by Usage Count"
   ]
  },
  {
   "cell_type": "code",
   "execution_count": 31,
   "metadata": {},
   "outputs": [
    {
     "name": "stdout",
     "output_type": "stream",
     "text": [
      "3896\n"
     ]
    },
    {
     "data": {
      "text/html": [
       "<div>\n",
       "<style scoped>\n",
       "    .dataframe tbody tr th:only-of-type {\n",
       "        vertical-align: middle;\n",
       "    }\n",
       "\n",
       "    .dataframe tbody tr th {\n",
       "        vertical-align: top;\n",
       "    }\n",
       "\n",
       "    .dataframe thead th {\n",
       "        text-align: right;\n",
       "    }\n",
       "</style>\n",
       "<table border=\"1\" class=\"dataframe\">\n",
       "  <thead>\n",
       "    <tr style=\"text-align: right;\">\n",
       "      <th></th>\n",
       "      <th>ID</th>\n",
       "      <th>label</th>\n",
       "      <th>description</th>\n",
       "      <th>Data type[1]</th>\n",
       "      <th>Counts[2]</th>\n",
       "      <th>largest_number</th>\n",
       "    </tr>\n",
       "  </thead>\n",
       "  <tbody>\n",
       "    <tr>\n",
       "      <th>0</th>\n",
       "      <td>P2860</td>\n",
       "      <td>cites work</td>\n",
       "      <td>citation from one creative or scholarly work t...</td>\n",
       "      <td>WI</td>\n",
       "      <td>292,583,247 M 390 N</td>\n",
       "      <td>292583247</td>\n",
       "    </tr>\n",
       "    <tr>\n",
       "      <th>1</th>\n",
       "      <td>P1545</td>\n",
       "      <td>series ordinal</td>\n",
       "      <td>position of an item in its parent series (most...</td>\n",
       "      <td>S</td>\n",
       "      <td>175,830,141 Q 2,298 N</td>\n",
       "      <td>175830141</td>\n",
       "    </tr>\n",
       "    <tr>\n",
       "      <th>2</th>\n",
       "      <td>P2093</td>\n",
       "      <td>author name string</td>\n",
       "      <td>stores unspecified author or editor name for p...</td>\n",
       "      <td>S</td>\n",
       "      <td>138,055,438 M 589,477 Q 29,173 R 213 N</td>\n",
       "      <td>138055438</td>\n",
       "    </tr>\n",
       "    <tr>\n",
       "      <th>3</th>\n",
       "      <td>P31</td>\n",
       "      <td>instance of</td>\n",
       "      <td>that class of which this subject is a particul...</td>\n",
       "      <td>WI</td>\n",
       "      <td>114,614,926 M 20 N</td>\n",
       "      <td>114614926</td>\n",
       "    </tr>\n",
       "    <tr>\n",
       "      <th>4</th>\n",
       "      <td>P248</td>\n",
       "      <td>stated in</td>\n",
       "      <td>to be used in the references field to refer to...</td>\n",
       "      <td>WI</td>\n",
       "      <td>98,211,619 R 122 Q 19 N</td>\n",
       "      <td>98211619</td>\n",
       "    </tr>\n",
       "  </tbody>\n",
       "</table>\n",
       "</div>"
      ],
      "text/plain": [
       "      ID               label  \\\n",
       "0  P2860          cites work   \n",
       "1  P1545      series ordinal   \n",
       "2  P2093  author name string   \n",
       "3    P31         instance of   \n",
       "4   P248           stated in   \n",
       "\n",
       "                                         description Data type[1]  \\\n",
       "0  citation from one creative or scholarly work t...           WI   \n",
       "1  position of an item in its parent series (most...            S   \n",
       "2  stores unspecified author or editor name for p...            S   \n",
       "3  that class of which this subject is a particul...           WI   \n",
       "4  to be used in the references field to refer to...           WI   \n",
       "\n",
       "                                Counts[2]  largest_number  \n",
       "0                     292,583,247 M 390 N       292583247  \n",
       "1                   175,830,141 Q 2,298 N       175830141  \n",
       "2  138,055,438 M 589,477 Q 29,173 R 213 N       138055438  \n",
       "3                      114,614,926 M 20 N       114614926  \n",
       "4                 98,211,619 R 122 Q 19 N        98211619  "
      ]
     },
     "execution_count": 31,
     "metadata": {},
     "output_type": "execute_result"
    }
   ],
   "source": [
    "pred_kbs = read_jsonl('../../data/prediction.jsonl')\n",
    "ref_kbs = read_jsonl('../../data/wikidata_entities.jsonl')\n",
    "popular_properties = pd.read_csv('../../data/wikidata-properties-counts.csv')\n",
    "print(len(popular_properties))\n",
    "popular_properties.head()"
   ]
  },
  {
   "cell_type": "code",
   "execution_count": 32,
   "metadata": {},
   "outputs": [
    {
     "data": {
      "text/plain": [
       "dict_keys(['entity_label', 'properties', 'chunked_content'])"
      ]
     },
     "execution_count": 32,
     "metadata": {},
     "output_type": "execute_result"
    }
   ],
   "source": [
    "ref_kbs[0].keys()"
   ]
  },
  {
   "cell_type": "code",
   "execution_count": 33,
   "metadata": {},
   "outputs": [
    {
     "data": {
      "text/plain": [
       "dict_keys(['entity_label', 'properties'])"
      ]
     },
     "execution_count": 33,
     "metadata": {},
     "output_type": "execute_result"
    }
   ],
   "source": [
    "pred_kbs[0].keys()"
   ]
  },
  {
   "cell_type": "markdown",
   "metadata": {},
   "source": [
    "# 🔎 Filter the Reference KB by the most popular Properties\n",
    "\n",
    "This is a method to constrain the y label for our model so that the task is easier.\n",
    "\n",
    "Popular properties are assigned by looking at their usage count across all of Wikidata. [This info is available here](https://www.wikidata.org/wiki/Wikidata:Database_reports/List_of_properties/all)"
   ]
  },
  {
   "cell_type": "code",
   "execution_count": 34,
   "metadata": {},
   "outputs": [
    {
     "data": {
      "text/plain": [
       "[('Geni.com profile ID', ['6000000055367165869']),\n",
       " ('Reddit topic ID', ['alexei_navalny']),\n",
       " ('Radio France person ID', ['alexei-navalny']),\n",
       " ('WorldCat Entities ID', ['E39PBJhxkxBrf8HXdMBvGCfXh3']),\n",
       " ('Süddeutsche Zeitung topic ID', ['Alexej_Nawalny']),\n",
       " ('Der Spiegel topic ID', ['alexej_nawalny']),\n",
       " ('Douban movie celebrity ID', ['1392443']),\n",
       " ('Kinobox person ID', ['1613953']),\n",
       " ('Great Encyclopedia of Cyril and Methodius entry ID',\n",
       "  ['Навальный Алексей Анатольевич']),\n",
       " ('patronym or matronym for this person', ['Anatolyevich']),\n",
       " ('WikiKids ID', ['Aleksej_Navalny']),\n",
       " ('date of death', ['+2024-02-16T00:00:00Z']),\n",
       " ('place of death', ['Corrective colony No. 3, YaNAO']),\n",
       " ('Gran Enciclopèdia Catalana ID (former scheme)', ['21139531']),\n",
       " ('Canadiana Name Authority ID', ['ncf13696330'])]"
      ]
     },
     "execution_count": 34,
     "metadata": {},
     "output_type": "execute_result"
    }
   ],
   "source": [
    "list(ref_kbs[0]['properties'].items())[-30:-15] \n",
    "# there's a lot of garbage here that isn't even interesting e.g Rotten Tomatoes ID\n",
    "# but it's mixed in with the good stuff"
   ]
  },
  {
   "cell_type": "code",
   "execution_count": 36,
   "metadata": {},
   "outputs": [
    {
     "name": "stdout",
     "output_type": "stream",
     "text": [
      "36\n"
     ]
    },
    {
     "data": {
      "text/plain": [
       "{'member of': ['Russian Opposition Coordination Council',\n",
       "  'Yale World Fellows'],\n",
       " 'sex or gender': ['male'],\n",
       " 'educated at': ['Finance University under the Government of the Russian Federation',\n",
       "  'Yale University',\n",
       "  \"Peoples' Friendship University of Russia\",\n",
       "  'Yale World Fellows'],\n",
       " 'image': ['Alexey Navalny (cropped) 1.jpg'],\n",
       " 'member of political party': ['Yabloko',\n",
       "  'Progress Party',\n",
       "  'Russia of the Future'],\n",
       " 'Commons category': ['Alexey Navalny'],\n",
       " 'employer': ['Anti-Corruption Foundation', 'Aeroflot'],\n",
       " 'date of birth': ['+1976-06-04T00:00:00Z'],\n",
       " 'religion or worldview': ['Eastern Orthodoxy'],\n",
       " 'country of citizenship': ['Soviet Union', 'Russia'],\n",
       " 'field of work': ['politics', 'jurisprudence'],\n",
       " 'place of birth': ['Butyn'],\n",
       " 'instance of': ['human'],\n",
       " 'described by source': ['Lentapedia', 'Navalny'],\n",
       " 'official website URL': ['https://navalny.com'],\n",
       " 'given name': ['Alexey'],\n",
       " 'significant event': ['Yves Rocher case',\n",
       "  'poisoning of Alexei Navalny',\n",
       "  'Kirovles trial',\n",
       "  'incarceration',\n",
       "  'poisoning of Alexei Navalny',\n",
       "  'death of Alexei Navalny'],\n",
       " 'sibling': ['Oleg Navalny'],\n",
       " 'languages spoken, written or signed': ['Russian', 'English'],\n",
       " 'name in native language': [\"{'text': 'Алексей Анатольевич Навальный', 'language': 'ru'}\"],\n",
       " 'spouse': ['Yulia Navalnaya'],\n",
       " 'ISNI': ['0000000377416015', '0000000410082812'],\n",
       " \"topic's main category\": ['Category:Alexei Navalny'],\n",
       " 'on focus list of Wikimedia project': ['WikiProject Human Rights'],\n",
       " 'family name': ['Navalny'],\n",
       " 'social media followers': ['+2355803',\n",
       "  '+2236418',\n",
       "  '+6460000',\n",
       "  '+2673187',\n",
       "  '+2980696',\n",
       "  '+6370000'],\n",
       " 'position held': ['Leader of Russia of the Future',\n",
       "  'Leader of Russia of the Future'],\n",
       " 'award received': ['Person of the Year',\n",
       "  'FP Top 100 Global Thinkers',\n",
       "  'Prize of the Platform of European Memory and Conscience',\n",
       "  'Time 100',\n",
       "  'Gold Play Button',\n",
       "  'Courage Award',\n",
       "  'Boris Nemtsov Prize',\n",
       "  'Knight of Freedom Award',\n",
       "  'Sakharov Prize',\n",
       "  'M100 Media Award',\n",
       "  'The BOBs',\n",
       "  'Silver Play Button',\n",
       "  'Civil Courage Prize',\n",
       "  'Günter Walraff award',\n",
       "  'Bambi Award'],\n",
       " 'height': ['+1.89'],\n",
       " 'occupation': ['politician',\n",
       "  'lawyer',\n",
       "  'activist',\n",
       "  'blogger',\n",
       "  'public figure',\n",
       "  'activist shareholder',\n",
       "  'YouTuber',\n",
       "  'film director',\n",
       "  'announcer',\n",
       "  'screenwriter',\n",
       "  'entrepreneur',\n",
       "  'political prisoner',\n",
       "  'jurist',\n",
       "  'prisoner of conscience'],\n",
       " 'child': ['Darya Navalnaya', 'Zakhar Navalny'],\n",
       " 'date of death': ['+2024-02-16T00:00:00Z'],\n",
       " 'place of death': ['Corrective colony No. 3, YaNAO'],\n",
       " 'described at URL': ['http://dbpedia.org/resource/Alexei_Navalny'],\n",
       " 'mother': ['Lyudmila Navalnaya'],\n",
       " 'father': ['Anatoly Navalny']}"
      ]
     },
     "execution_count": 36,
     "metadata": {},
     "output_type": "execute_result"
    }
   ],
   "source": [
    "def filter_ref_kb_by_top_n_wikiproperties(ref_kbs, wikiproperties, N):\n",
    "\n",
    "    filtered_ref_kbs = []\n",
    "        \n",
    "    for kb in ref_kbs:\n",
    "        properties = kb['properties']\n",
    "\n",
    "        top_N = wikiproperties.sort_values(by='largest_number', ascending=False).head(N)\n",
    "\n",
    "        top_N = top_N['label'].tolist()\n",
    "\n",
    "        kb['properties'] = {\n",
    "            key: value for key, value in properties.items() if key in top_N\n",
    "            }\n",
    "        filtered_ref_kbs.append(kb)\n",
    "    \n",
    "    return filtered_ref_kbs\n",
    "\n",
    "\n",
    "filtered_ref_kbs = filter_ref_kb_by_top_n_wikiproperties(ref_kbs, popular_properties, 200)\n",
    "print(len(filtered_ref_kbs[0]['properties']))\n",
    "filtered_ref_kbs[0]['properties']\n"
   ]
  },
  {
   "cell_type": "code",
   "execution_count": 37,
   "metadata": {},
   "outputs": [],
   "source": [
    "import string\n",
    "import re\n",
    "from typing import List\n",
    "from thefuzz import fuzz, process\n",
    "\n",
    "# Fuzzy 🧸\n",
    "\n",
    "def find_fuzzy_properties(property_name:str, reference_properties: List[str]):\n",
    "    '''\n",
    "    usage: \n",
    "        matches = find_similar_properties(\"incarceration_status\", [p['propertyLabel'] for p in props])\n",
    "\n",
    "    '''\n",
    "    pattern = f\"[{re.escape(string.punctuation)}]+\"\n",
    "\n",
    "    # Clean the string of any punctuation\n",
    "    property_name_to_match = \" \".join(re.split(pattern, property_name))\n",
    "\n",
    "    # Using TheFuzz to find the top 5 matches\n",
    "    top_matches = process.extract(\n",
    "        property_name_to_match, \n",
    "        reference_properties, \n",
    "        scorer=fuzz.partial_token_sort_ratio, \n",
    "        limit=5)\n",
    "\n",
    "    # Printing the top matches\n",
    "    print(f\"Top matches for {property_name}\")\n",
    "    for match in top_matches:\n",
    "        print(f\"Match: {match[0]}, Similarity: {match[1]}%\")\n",
    "\n",
    "    return top_matches\n"
   ]
  },
  {
   "cell_type": "code",
   "execution_count": 38,
   "metadata": {},
   "outputs": [
    {
     "name": "stdout",
     "output_type": "stream",
     "text": [
      "Top matches for Name\n",
      "Match: given name, Similarity: 100%\n",
      "Match: name in native language, Similarity: 100%\n",
      "Match: family name, Similarity: 100%\n",
      "Match: member of, Similarity: 67%\n",
      "Match: member of political party, Similarity: 67%\n"
     ]
    },
    {
     "data": {
      "text/plain": [
       "[('given name', 100),\n",
       " ('name in native language', 100),\n",
       " ('family name', 100),\n",
       " ('member of', 67),\n",
       " ('member of political party', 67)]"
      ]
     },
     "execution_count": 38,
     "metadata": {},
     "output_type": "execute_result"
    }
   ],
   "source": [
    "top_matches = find_fuzzy_properties(list(pred_kbs[0]['properties'].keys())[0], filtered_ref_kbs[0]['properties'].keys())\n",
    "top_matches"
   ]
  },
  {
   "cell_type": "code",
   "execution_count": null,
   "metadata": {},
   "outputs": [],
   "source": []
  }
 ],
 "metadata": {
  "kernelspec": {
   "display_name": "instructor",
   "language": "python",
   "name": "python3"
  },
  "language_info": {
   "codemirror_mode": {
    "name": "ipython",
    "version": 3
   },
   "file_extension": ".py",
   "mimetype": "text/x-python",
   "name": "python",
   "nbconvert_exporter": "python",
   "pygments_lexer": "ipython3",
   "version": "3.10.13"
  }
 },
 "nbformat": 4,
 "nbformat_minor": 2
}
