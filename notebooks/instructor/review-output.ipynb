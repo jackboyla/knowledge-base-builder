{
 "cells": [
  {
   "cell_type": "markdown",
   "metadata": {},
   "source": [
    "# Look at our Evaluations"
   ]
  },
  {
   "cell_type": "code",
   "execution_count": 1,
   "metadata": {},
   "outputs": [],
   "source": [
    "import sys\n",
    "sys.path.insert(0, '../../knowledge_graph_validator')\n",
    "import utils"
   ]
  },
  {
   "cell_type": "code",
   "execution_count": 2,
   "metadata": {},
   "outputs": [],
   "source": [
    "save_path = '/home/jackboylan/knowledge-base-builder/knowledge_graph_validator/results.json'"
   ]
  },
  {
   "cell_type": "code",
   "execution_count": 3,
   "metadata": {},
   "outputs": [
    {
     "data": {
      "text/plain": [
       "2"
      ]
     },
     "execution_count": 3,
     "metadata": {},
     "output_type": "execute_result"
    }
   ],
   "source": [
    "results = utils.read_jsonl(save_path)\n",
    "len(results)"
   ]
  },
  {
   "cell_type": "code",
   "execution_count": 4,
   "metadata": {},
   "outputs": [
    {
     "name": "stdout",
     "output_type": "stream",
     "text": [
      "Precision: 0.8\n",
      "Recall: 0.8\n",
      "F1 Score: 0.8000000000000002\n",
      "Accuracy: 0.8\n",
      "----------\n"
     ]
    }
   ],
   "source": [
    "tp = 0\n",
    "fp = 0\n",
    "tn = 0\n",
    "fn = 0 \n",
    "pos_results = results[1]\n",
    "neg_results = results[0]\n",
    "for val in pos_results['validated_triples']:\n",
    "    if val['property_is_valid']:    # property is correctly marked as valid\n",
    "        tp += 1\n",
    "    else:                           # property is incorrectly marked as invalid\n",
    "        fn += 1\n",
    "for val in neg_results['validated_triples']:\n",
    "    if val['property_is_valid']:    # property is incorrectly marked as valid\n",
    "        fp += 1\n",
    "    else:                           # property is correctly marked as invalid\n",
    "        tn += 1\n",
    "\n",
    "metrics = utils.calc_metrics(tp, fp, tn, fn)\n",
    "\n",
    "# Precision: 0.75\n",
    "# Recall: 0.8571428571428571\n",
    "# F1 Score: 0.7999999999999999\n",
    "# Accuracy: 0.7857142857142857\n",
    "# ----------"
   ]
  },
  {
   "cell_type": "code",
   "execution_count": 5,
   "metadata": {},
   "outputs": [
    {
     "name": "stdout",
     "output_type": "stream",
     "text": [
      "\n",
      "----------------False Negatives------------------\n",
      "\n",
      "{\n",
      "  \"entity_label\": \"Margaret Of Anjou\",\n",
      "  \"property_name\": \"nationality\",\n",
      "  \"property_value\": \"England\",\n",
      "  \"property_is_valid\": false,\n",
      "  \"is_valid_reason\": null,\n",
      "  \"error_message\": \"The predicted nationality 'England' for Margaret of Anjou is not accurate based on the provided context. Margaret of Anjou was born in the French Duchy of Lorraine and was Queen of England by marriage to King Henry VI, but her birth nationality is not explicitly mentioned in the context. Therefore, the predicted property value is not supported by the historical information available.\",\n",
      "  \"sources\": [\n",
      "    [\n",
      "      {\n",
      "        \"title\": \"Margaret of Anjou - Wikipedia\",\n",
      "        \"href\": \"https://en.wikipedia.org/wiki/Margaret_of_Anjou\",\n",
      "        \"body\": \"Margaret of Anjou (French: Marguerite; 23 March 1430 - 25 August 1482) was Queen of England by marriage to King Henry VI from 1445 to 1461 and again from 1470 to 1471. Through marriage, she was also nominally Queen of France from 1445 to 1453. Born in the Duchy of Lorraine into the House of Valois-Anjou, Margaret was the second eldest daughter of Ren\\u00e9, King of Naples, and Isabella, Duchess ...\"\n",
      "      },\n",
      "      {\n",
      "        \"title\": \"Margaret of Anjou | Queen of England, Lancastrian Claimant & French ...\",\n",
      "        \"href\": \"https://www.britannica.com/biography/Margaret-of-Anjou-queen-of-England\",\n",
      "        \"body\": \"Margaret of Anjou (born March 23, 1430, probably Pont-\\u00e0-Mousson, Lorraine, Fr.\\u2014died Aug. 25, 1482, near Saumur) queen consort of England's King Henry VI and a leader of the Lancastrians in the Wars of the Roses (1455-85) between the houses of York and Lancaster. Strong-willed and ambitious, she made a relentless, but ultimately unsuccessful, effort to obtain the crown for her son ...\"\n",
      "      },\n",
      "      {\n",
      "        \"title\": \"Biography of Margaret of Anjou, Henry VI's Queen - ThoughtCo\",\n",
      "        \"href\": \"https://www.thoughtco.com/margaret-of-anjou-3529625\",\n",
      "        \"body\": \"Margaret of Anjou (March 23, 1429-August 25, 1482) was the queen consort of Henry VI of England and a leader of the Lancastrian side in the Wars of the Roses (1455-1485), a series of battles for the English throne between the houses of York and Lancaster, both of which descended from Edward III. Her marriage to the ineffectual, mentally unbalanced Henry VI was arranged as part of a truce ...\"\n",
      "      },\n",
      "      {\n",
      "        \"title\": \"10 Facts About Margaret of Anjou | History Hit\",\n",
      "        \"href\": \"https://www.historyhit.com/facts-about-margaret-of-anjou/\",\n",
      "        \"body\": \"Listen Now. 1. Her marriage to Henry VI had an unusual requirement. Born in the French Duchy of Lorraine, Margaret of Anjou grew up in France before her marriage to Henry VI in 1445. The marriage was somewhat controversial, in that there was no dowry given to the English Crown for Margaret by the French. Instead it was agreed that Charles VII ...\"\n",
      "      },\n",
      "      {\n",
      "        \"title\": \"Margaret Of Anjou | Encyclopedia.com\",\n",
      "        \"href\": \"https://www.encyclopedia.com/people/history/british-and-irish-history-biographies/margaret-anjou\",\n",
      "        \"body\": \"Margaret of Anjou >Margaret of Anjou (1430-1482) was queen consort of Henry VI [1], Lancastrian >king of England. She was a niece of Charles VII of France and a cousin of >Louis XI [2]. On March 23, 1430, Margaret was born in Lorraine to Isabel of Lorraine and Ren\\u00e9I, then Count of Guise.\"\n",
      "      }\n",
      "    ]\n",
      "  ],\n",
      "  \"candidate_triple\": {\n",
      "    \"subject\": \"Margaret Of Anjou\",\n",
      "    \"relation\": \"nationality\",\n",
      "    \"object\": \"England\"\n",
      "  }\n",
      "}\n",
      "{\n",
      "  \"entity_label\": \"Neal Hefti\",\n",
      "  \"property_name\": \"cause of death\",\n",
      "  \"property_value\": \"Myocardial Infarction\",\n",
      "  \"property_is_valid\": false,\n",
      "  \"is_valid_reason\": null,\n",
      "  \"error_message\": \"The predicted property value 'Myocardial Infarction' is not accurate based on the provided context. The context mentions that the cause of Neal Hefti's death was undetermined, and there is no mention of Myocardial Infarction as the cause of death. Therefore, the predicted property value is not valid in this case.\",\n",
      "  \"sources\": [\n",
      "    [\n",
      "      {\n",
      "        \"title\": \"Neal Hefti - Wikipedia\",\n",
      "        \"href\": \"https://en.wikipedia.org/wiki/Neal_Hefti\",\n",
      "        \"body\": \"Neal Paul Hefti (October 29, 1922 - October 11, 2008) was an American jazz trumpeter, composer, and arranger. He wrote music for The Odd Couple movie and TV series and for the Batman TV series.. He began arranging professionally in his teens, when he wrote charts for Nat Towles.He composed and arranged while working as a trumpeter for Woody Herman providing the bandleader with versions of ...\"\n",
      "      },\n",
      "      {\n",
      "        \"title\": \"Neal Hefti, 85, Jazz and Hollywood Composer, Dies\",\n",
      "        \"href\": \"https://www.nytimes.com/2008/10/16/arts/music/16hefti.html\",\n",
      "        \"body\": \"He died suddenly from an undetermined cause, his son, Paul, said. Mr. Hefti's death was first reported in a blog posting by a friend, the singer Nancy Sinatra, on the website www.sinatrafamily.com.\"\n",
      "      },\n",
      "      {\n",
      "        \"title\": \"Trumpeter And TV Composer Neal Hefti Dies : NPR\",\n",
      "        \"href\": \"https://www.npr.org/templates/story/story.php?storyId=95748800\",\n",
      "        \"body\": \"Courtesy of Paul Hefti. Neal Hefti reached a wide audience through the theme songs he composed for TV's Batman and The Odd Couple. But he was also a talented jazz arranger who got his start with ...\"\n",
      "      },\n",
      "      {\n",
      "        \"title\": \"Neal Hefti: Celebrated jazz arranger who wrote for Count Basie and ...\",\n",
      "        \"href\": \"https://www.independent.co.uk/news/obituaries/neal-hefti-celebrated-jazz-arranger-who-wrote-for-count-basie-and-woody-herman-ndash-and-the-theme-music-for-batman-962609.html\",\n",
      "        \"body\": \"Neal Hefti, trumpeter, composer and bandleader: born Hastings, Nebraska 29 October 1922; married 1945 Frances Wayne (died 1978; one son, and one daughter deceased); died Los Angeles 11 October ...\"\n",
      "      },\n",
      "      {\n",
      "        \"title\": \"Ex-big band trumpeter, arranger and composer - Los Angeles Times\",\n",
      "        \"href\": \"https://www.latimes.com/archives/la-xpm-2008-oct-15-me-hefti15-story.html\",\n",
      "        \"body\": \"He did not know the cause of death, but said his father had been in good health. \\\"Everybody in the music business loved Neal Hefti,\\\" radio and television personality Gary Owens, a longtime ...\"\n",
      "      }\n",
      "    ]\n",
      "  ],\n",
      "  \"candidate_triple\": {\n",
      "    \"subject\": \"Neal Hefti\",\n",
      "    \"relation\": \"cause of death\",\n",
      "    \"object\": \"Myocardial Infarction\"\n",
      "  }\n",
      "}\n",
      "Total Fasle Negatives: 2\n",
      "\n",
      "----------------False Positives------------------\n",
      "\n",
      "Total Fasle Positives: 0\n"
     ]
    }
   ],
   "source": [
    "# what did the evaluator get wrong?\n",
    "import json\n",
    "false_neg = 0\n",
    "false_pos = 0\n",
    "print('\\n----------------False Negatives------------------\\n')\n",
    "for val in pos_results['validated_triples']:\n",
    "    if val['property_is_valid'] is False:\n",
    "        print(json.dumps(val, indent=2))\n",
    "        false_neg += 1\n",
    "print(f\"Total Fasle Negatives: {false_neg}\")\n",
    "\n",
    "\n",
    "print('\\n----------------False Positives------------------\\n')\n",
    "for val in neg_results['validated_triples']:\n",
    "    if val['property_is_valid'] is True:\n",
    "        print(json.dumps(val, indent=2))\n",
    "        false_pos += 1\n",
    "print(f\"Total Fasle Positives: {false_pos}\")\n"
   ]
  }
 ],
 "metadata": {
  "kernelspec": {
   "display_name": "instructor",
   "language": "python",
   "name": "python3"
  },
  "language_info": {
   "codemirror_mode": {
    "name": "ipython",
    "version": 3
   },
   "file_extension": ".py",
   "mimetype": "text/x-python",
   "name": "python",
   "nbconvert_exporter": "python",
   "pygments_lexer": "ipython3",
   "version": "3.10.13"
  }
 },
 "nbformat": 4,
 "nbformat_minor": 2
}
