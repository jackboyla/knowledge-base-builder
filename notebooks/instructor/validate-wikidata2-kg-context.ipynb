{
 "cells": [
  {
   "cell_type": "code",
   "execution_count": 14,
   "metadata": {},
   "outputs": [],
   "source": [
    "from utils import read_jsonl, save_jsonl\n",
    "import pandas as pd\n",
    "from pydantic import BaseModel, model_validator, field_validator, Field, ValidationInfo\n",
    "from typing import List, Dict, Union, Any, Optional, Literal\n",
    "import instructor\n",
    "from openai import OpenAI\n",
    "import os\n",
    "import json\n",
    "from langchain.retrievers import ParentDocumentRetriever\n",
    "from langchain.storage import InMemoryStore\n",
    "from langchain.text_splitter import RecursiveCharacterTextSplitter\n",
    "from langchain_community.document_loaders import TextLoader\n",
    "from langchain_community.vectorstores import Chroma\n",
    "from langchain_core.documents.base import Document\n",
    "from langchain_openai import OpenAIEmbeddings\n",
    "\n",
    "from wikidata_search import WikidataSearch, get_all_properties_with_labels\n",
    "from data_classes import KnowledgeGraph, ValidatedProperty\n",
    "from langchain_community.tools.wikidata.tool import WikidataAPIWrapper, WikidataQueryRun\n",
    "from langchain.tools import DuckDuckGoSearchRun"
   ]
  },
  {
   "cell_type": "code",
   "execution_count": 15,
   "metadata": {},
   "outputs": [],
   "source": [
    "# q = 'st__louis_cardinals'\n",
    "# q = \" \".join(q.split('_'))\n",
    "# WikidataSearch()(q)"
   ]
  },
  {
   "cell_type": "code",
   "execution_count": 16,
   "metadata": {},
   "outputs": [],
   "source": [
    "client = instructor.patch(OpenAI(api_key=os.environ['OPENAI_API_KEY']))\n",
    "MODEL = \"gpt-3.5-turbo-0125\""
   ]
  },
  {
   "cell_type": "markdown",
   "metadata": {},
   "source": [
    "# 🧠 Load data"
   ]
  },
  {
   "cell_type": "code",
   "execution_count": 17,
   "metadata": {},
   "outputs": [
    {
     "data": {
      "text/plain": [
       "[{'subject': 'chicago_cubs',\n",
       "  'relation': 'teamplayssport',\n",
       "  'object': 'basketball'},\n",
       " {'subject': 'chicago_white_sox',\n",
       "  'relation': 'teamplayssport',\n",
       "  'object': 'soccer'},\n",
       " {'subject': 'derby_county',\n",
       "  'relation': 'teamplayssport',\n",
       "  'object': 'football'},\n",
       " {'subject': 'broncos', 'relation': 'teamplayssport', 'object': 'football'},\n",
       " {'subject': 'charlotte_bobcats',\n",
       "  'relation': 'teamplayssport',\n",
       "  'object': 'softball'},\n",
       " {'subject': 'chicago_fire', 'relation': 'teamplayssport', 'object': 'golf'},\n",
       " {'subject': 'cubbies', 'relation': 'teamplayssport', 'object': 'hockey'},\n",
       " {'subject': 'arkansas_razorbacks',\n",
       "  'relation': 'teamplayssport',\n",
       "  'object': 'baseball'},\n",
       " {'subject': 'boston_college',\n",
       "  'relation': 'teamplayssport',\n",
       "  'object': 'baseball'},\n",
       " {'subject': 'anaheim_ducks',\n",
       "  'relation': 'teamplayssport',\n",
       "  'object': 'football'},\n",
       " {'subject': 'alabama_crimson_tide',\n",
       "  'relation': 'teamplayssport',\n",
       "  'object': 'golf'},\n",
       " {'subject': 'dallas_stars',\n",
       "  'relation': 'teamplayssport',\n",
       "  'object': 'softball'},\n",
       " {'subject': 'chowan_braves', 'relation': 'teamplayssport', 'object': 'golf'},\n",
       " {'subject': 'connecticut_huskies',\n",
       "  'relation': 'teamplayssport',\n",
       "  'object': 'baseball'},\n",
       " {'subject': 'baltimore_ravens_23_14',\n",
       "  'relation': 'teamplayssport',\n",
       "  'object': 'soccer'}]"
      ]
     },
     "execution_count": 17,
     "metadata": {},
     "output_type": "execute_result"
    }
   ],
   "source": [
    "def read_nell_sports(file_path) -> List[Dict]:\n",
    "    with open(file_path) as f:\n",
    "        triples = []\n",
    "        for line in f:\n",
    "            # Strip the trailing period and split the line\n",
    "            parts = line.rstrip('.').split('\"')\n",
    "            # Extract the subject, relation (assumed), and object\n",
    "            subject = parts[1]\n",
    "            object_ = parts[3]\n",
    "            triples.append({'subject': subject, 'relation': 'teamplayssport', 'object': object_})\n",
    "    return triples\n",
    "\n",
    "neg_triples = read_nell_sports('./NELL/neg.txt')\n",
    "pos_triples = read_nell_sports('./NELL/pos.txt')\n",
    "neg_triples[:15]"
   ]
  },
  {
   "cell_type": "code",
   "execution_count": 18,
   "metadata": {},
   "outputs": [],
   "source": [
    "\n",
    "# wrapper = WikidataAPIWrapper()\n",
    "# wrapper.top_k_results = 1\n",
    "# wikidata = WikidataQueryRun(api_wrapper=wrapper)\n",
    "\n",
    "# q = 'st__louis_cardinals'\n",
    "# # q = \" \".join(q.split('_'))\n",
    "# print(wikidata.run(q))"
   ]
  },
  {
   "cell_type": "markdown",
   "metadata": {},
   "source": [
    "# 🪬 Define Evaluation Model"
   ]
  },
  {
   "cell_type": "code",
   "execution_count": 19,
   "metadata": {},
   "outputs": [],
   "source": [
    "\n",
    "# import pandas as pd\n",
    "\n",
    "# df = pd.read_csv('NELL.08m.100.SSFeedback.csv.gz', compression='gzip', on_bad_lines='skip', sep='\\t')\n",
    "# print(len(df))\n",
    "# df.head()"
   ]
  },
  {
   "cell_type": "code",
   "execution_count": 20,
   "metadata": {},
   "outputs": [],
   "source": [
    "\n",
    "class ValidatedProperty(BaseModel):\n",
    "    entity_label: str\n",
    "    property_name: str\n",
    "    property_value: Any\n",
    "\n",
    "    property_is_valid: Literal[True, False, \"Not enough information to say\"] = Field(\n",
    "      ...,\n",
    "        description=\"Whether the property is generally valid, judged against \" +\n",
    "                    \"the given context.\",\n",
    "    )\n",
    "    is_valid_reason: Optional[str] = Field(\n",
    "        None, description=\"The reason why the property is valid if it is indeed valid.\"\n",
    "    )\n",
    "    error_message: Optional[str] = Field(\n",
    "        None, description=\"The error message if either property_name and/or property_value is not valid.\"\n",
    "    )\n",
    "\n",
    "\n",
    "class WikidataKGValidator(BaseModel):\n",
    "\n",
    "    triples: List\n",
    "    validated_properties: List[ValidatedProperty] = []\n",
    "\n",
    "\n",
    "    @staticmethod\n",
    "    def get_wikidata(entity_label, wikidata_wrapper):\n",
    "\n",
    "        q = entity_label\n",
    "        q = \" \".join(q.split('_'))\n",
    "        return wikidata_wrapper.run(q)  # a string of the wikidata page\n",
    "\n",
    "    \n",
    "    @staticmethod\n",
    "    def get_wikidata_neighbors(wikidata_kg: KnowledgeGraph) -> List[KnowledgeGraph]:\n",
    "        one_hop_kg = {}\n",
    "        for property in wikidata_kg['properties'].keys():\n",
    "            qid: List = WikidataSearch.search_wikidata(property)\n",
    "            if len(qid) > 0:\n",
    "                print(f\"Found wikidata id for {property}\")\n",
    "                one_hop_kg[property] = get_all_properties_with_labels(qid[0]['id'])\n",
    "\n",
    "        return one_hop_kg\n",
    "\n",
    "\n",
    "\n",
    "    @staticmethod\n",
    "    def create_parent_document_retriever(docs: List[Document]):\n",
    "        # https://python.langchain.com/docs/modules/data_connection/retrievers/parent_document_retriever\n",
    "\n",
    "        # This text splitter is used to create the child documents\n",
    "        child_splitter = RecursiveCharacterTextSplitter(chunk_size=400)\n",
    "        # The vectorstore to use to index the child chunks\n",
    "        vectorstore = Chroma(\n",
    "            collection_name=\"full_documents\", embedding_function=OpenAIEmbeddings()\n",
    "        )\n",
    "        # The storage layer for the parent documents\n",
    "        store = InMemoryStore()\n",
    "        retriever = ParentDocumentRetriever(\n",
    "            vectorstore=vectorstore,\n",
    "            docstore=store,\n",
    "            child_splitter=child_splitter,\n",
    "            # parent_splitter=parent_splitter,\n",
    "        )\n",
    "        retriever.add_documents(docs, ids=None) # add entity doc(s)\n",
    "\n",
    "        # list(store.yield_keys())   # see how many chunks it's created\n",
    "\n",
    "        return retriever, store, vectorstore\n",
    "\n",
    "    @staticmethod\n",
    "    def retrieve_relevant_property(entity_name, property_name, vectorstore, retriever):\n",
    "        '''Fetch the most similar chunk to predicted property name'''\n",
    "\n",
    "        query = f\"{property_name}\"\n",
    "\n",
    "        sub_docs = vectorstore.similarity_search(query)\n",
    "\n",
    "        relevant_property = sub_docs[0].page_content\n",
    "        return relevant_property\n",
    "\n",
    "    @staticmethod\n",
    "    def validate_statement_with_context(entity_label, predicted_property_name, predicted_property_value, context):\n",
    "        '''Validate a statement about an entity\n",
    "\n",
    "        a statement is a triple: entity_label --> predicted_property_name --> predicted_property_value\n",
    "                             e.g Donald Trump --> wife --> Ivanka Trump\n",
    "        \n",
    "        '''\n",
    "        resp: ValidatedProperty = client.chat.completions.create(\n",
    "                        response_model=ValidatedProperty,\n",
    "                        messages=[\n",
    "                            {\n",
    "                                \"role\": \"user\",\n",
    "                                \"content\": f\"Using the given context as a reference, \" +\n",
    "                                \"is the following predicted property valid for the given entity? \" +\n",
    "                                f\"\\nEntity Label: {entity_label}\" +\n",
    "                                f\"\\nPredicted Property Name: {predicted_property_name}\" +\n",
    "                                f\"\\nPredicted Property Value: {predicted_property_value}\" +\n",
    "                                f\"\\n\\nContext {context}\"\n",
    "                            }\n",
    "                        ],\n",
    "                        max_retries=2,\n",
    "                        model=MODEL,\n",
    "                    )\n",
    "        return resp\n",
    "\n",
    "    @model_validator(mode='before')\n",
    "    def validate(self, context) -> \"WikidataKGValidator\":\n",
    "\n",
    "        self['validated_properties'] = []\n",
    "\n",
    "        wrapper = WikidataAPIWrapper()\n",
    "        wrapper.top_k_results = 1\n",
    "        wikidata_wrapper = WikidataQueryRun(api_wrapper=wrapper)\n",
    "\n",
    "        for triple in self['triples']:\n",
    "\n",
    "            subject, relation, object = triple['subject'], triple['relation'], triple['object']\n",
    "\n",
    "            wikidata_reference = WikidataKGValidator.get_wikidata(subject, wikidata_wrapper)\n",
    "\n",
    "            # EVALUATE ONE PROPERTY\n",
    "            resp = WikidataKGValidator.validate_statement_with_context(\n",
    "                entity_label=subject, \n",
    "                predicted_property_name=relation, \n",
    "                predicted_property_value=object, \n",
    "                context=wikidata_reference\n",
    "            )\n",
    "\n",
    "            self['validated_properties'].append(resp)\n",
    "        return self\n",
    "\n",
    "\n",
    "    @model_validator(mode='after')\n",
    "    def assert_all_properties_validated(self, info: ValidationInfo):\n",
    "        if len(self.validated_properties) != len(self.triples):\n",
    "            raise ValueError(\n",
    "                \"Number of properties validated does not match number of properties in the prediction knowledge base. \" +\n",
    "                f\"Number of properties validated: {len(self.validated_properties)}, \" +\n",
    "                f\"Number of properties in the text: {len(self.triples)}\"\n",
    "                )\n",
    "        return self\n",
    "\n"
   ]
  },
  {
   "cell_type": "code",
   "execution_count": 32,
   "metadata": {},
   "outputs": [
    {
     "name": "stdout",
     "output_type": "stream",
     "text": [
      "Result Q578856:\n",
      "Label: FC Derby\n",
      "Description: association football club\n",
      "instance of: association football club\n",
      "country: Cape Verde\n",
      "inception: 1929-08-05\n",
      "sport: association football\n",
      "headquarters location: Mindelo\n"
     ]
    }
   ],
   "source": [
    "wrapper = WikidataAPIWrapper()\n",
    "wrapper.top_k_results = 1\n",
    "wikidata_wrapper = WikidataQueryRun(api_wrapper=wrapper)\n",
    "\n",
    "wikidata_reference = WikidataKGValidator.get_wikidata('Derby FC', wikidata_wrapper)\n",
    "print(wikidata_reference)"
   ]
  },
  {
   "cell_type": "markdown",
   "metadata": {},
   "source": [
    "# Evaluate!"
   ]
  },
  {
   "cell_type": "code",
   "execution_count": 21,
   "metadata": {},
   "outputs": [
    {
     "data": {
      "text/plain": [
       "[{'entity_label': 'chicago_cubs',\n",
       "  'property_name': 'teamplayssport',\n",
       "  'property_value': 'basketball',\n",
       "  'property_is_valid': False,\n",
       "  'is_valid_reason': 'The Chicago Cubs are specifically known as a baseball team and they play the sport of baseball as mentioned in the context.',\n",
       "  'error_message': None},\n",
       " {'entity_label': 'chicago_white_sox',\n",
       "  'property_name': 'teamplayssport',\n",
       "  'property_value': 'soccer',\n",
       "  'property_is_valid': False,\n",
       "  'is_valid_reason': \"The context information describes the Chicago White Sox as a baseball team playing baseball, not soccer. Therefore, the predicted property 'teamplayssport' with a value of 'soccer' is not valid for the entity.\",\n",
       "  'error_message': None},\n",
       " {'entity_label': 'derby_county',\n",
       "  'property_name': 'teamplayssport',\n",
       "  'property_value': 'football',\n",
       "  'property_is_valid': True,\n",
       "  'is_valid_reason': \"The context result Q19470 indicates that Derby County F.C. is an association football club, which means the predicted property 'teamplayssport' with value 'football' is valid.\",\n",
       "  'error_message': None},\n",
       " {'entity_label': 'broncos',\n",
       "  'property_name': 'teamplayssport',\n",
       "  'property_value': 'football',\n",
       "  'property_is_valid': False,\n",
       "  'is_valid_reason': None,\n",
       "  'error_message': \"The entity 'broncos' is specifically identified as an 'American football team' in the context provided, not just a team that plays football. It is more accurate to state that 'broncos' participate in the sport of American football instead of just 'football'.\"},\n",
       " {'entity_label': 'charlotte_bobcats',\n",
       "  'property_name': 'teamplayssport',\n",
       "  'property_value': 'softball',\n",
       "  'property_is_valid': False,\n",
       "  'is_valid_reason': 'The context indicates that the Charlotte Bobcats (Charlotte Hornets) play basketball, not softball.',\n",
       "  'error_message': None},\n",
       " {'entity_label': 'chicago_fire',\n",
       "  'property_name': 'teamplayssport',\n",
       "  'property_value': 'golf',\n",
       "  'property_is_valid': False,\n",
       "  'is_valid_reason': None,\n",
       "  'error_message': 'The Chicago Fire is associated with playing soccer (association football), not golf.'},\n",
       " {'entity_label': 'cubbies',\n",
       "  'property_name': 'teamplayssport',\n",
       "  'property_value': 'hockey',\n",
       "  'property_is_valid': False,\n",
       "  'is_valid_reason': None,\n",
       "  'error_message': \"The predicted property 'teamplayssport' with the value 'hockey' is not valid for the entity 'cubbies' based on the provided context. The entity is associated with the sport of association football, not hockey.\"}]"
      ]
     },
     "execution_count": 21,
     "metadata": {},
     "output_type": "execute_result"
    }
   ],
   "source": [
    "neg_results = []\n",
    "\n",
    "neg_results.append(WikidataKGValidator(**{'triples': neg_triples[:7]}))\n",
    "\n",
    "neg_results[0].model_dump()['validated_properties']"
   ]
  },
  {
   "cell_type": "code",
   "execution_count": 25,
   "metadata": {},
   "outputs": [
    {
     "data": {
      "text/plain": [
       "[{'entity_label': 'texans',\n",
       "  'property_name': 'teamplayssport',\n",
       "  'property_value': 'hockey',\n",
       "  'property_is_valid': False,\n",
       "  'is_valid_reason': None,\n",
       "  'error_message': \"The predicted property 'teamplayssport' with a value of 'hockey' is not valid for the entity 'texans'. The context provided indicates that the Texans are an American football team, not a hockey team.\"},\n",
       " {'entity_label': 'gonzaga_bulldogs',\n",
       "  'property_name': 'teamplayssport',\n",
       "  'property_value': 'basketball',\n",
       "  'property_is_valid': True,\n",
       "  'is_valid_reason': \"The context shows that the Gonzaga Bulldogs men's basketball team plays the sport of basketball.\",\n",
       "  'error_message': None},\n",
       " {'entity_label': 'esu_hornets',\n",
       "  'property_name': 'teamplayssport',\n",
       "  'property_value': 'basketball',\n",
       "  'property_is_valid': 'Not enough information to say',\n",
       "  'is_valid_reason': None,\n",
       "  'error_message': None},\n",
       " {'entity_label': 'columbus_blue_jackets',\n",
       "  'property_name': 'teamplayssport',\n",
       "  'property_value': 'hockey',\n",
       "  'property_is_valid': True,\n",
       "  'is_valid_reason': 'The context confirms that Columbus Blue Jackets is an ice hockey team, so it is valid to predict that the team plays the sport of hockey.',\n",
       "  'error_message': None},\n",
       " {'entity_label': 'milwaukee_braves',\n",
       "  'property_name': 'teamplayssport',\n",
       "  'property_value': 'baseball',\n",
       "  'property_is_valid': True,\n",
       "  'is_valid_reason': \"The context information states that the Atlanta Braves are a Major League Baseball team, indicating that the entity 'milwaukee_braves' likely plays the sport of baseball.\",\n",
       "  'error_message': None},\n",
       " {'entity_label': 'middle_tennessee_state',\n",
       "  'property_name': 'teamplayssport',\n",
       "  'property_value': 'basketball',\n",
       "  'property_is_valid': False,\n",
       "  'is_valid_reason': None,\n",
       "  'error_message': \"The predicted property 'teamplayssport' is not valid for the entity 'middle_tennessee_state' based on the context provided.\"},\n",
       " {'entity_label': 'lipscomb_university',\n",
       "  'property_name': 'teamplayssport',\n",
       "  'property_value': 'basketball',\n",
       "  'property_is_valid': False,\n",
       "  'is_valid_reason': None,\n",
       "  'error_message': \"The property 'teamplayssport' is not a valid property for the entity 'lipscomb_university' based on the provided context.\"}]"
      ]
     },
     "execution_count": 25,
     "metadata": {},
     "output_type": "execute_result"
    }
   ],
   "source": [
    "pos_results = []\n",
    "\n",
    "pos_results.append(WikidataKGValidator(**{'triples': pos_triples[:7]}))\n",
    "\n",
    "pos_results[0].model_dump()['validated_properties']"
   ]
  },
  {
   "cell_type": "code",
   "execution_count": 30,
   "metadata": {},
   "outputs": [
    {
     "name": "stdout",
     "output_type": "stream",
     "text": [
      "Precision: 0.8\n",
      "Recall: 0.5714285714285714\n",
      "F1 Score: 0.6666666666666666\n",
      "----------\n"
     ]
    }
   ],
   "source": [
    "tp = 0\n",
    "fp = 0\n",
    "tn = 0\n",
    "fn = 0 \n",
    "for val in pos_results[0].model_dump()['validated_properties']:\n",
    "    if val['property_is_valid']:    # property is correctly marked as valid\n",
    "        tp += 1\n",
    "    else:                           # property is incorrectly marked as invalid\n",
    "        fn += 1\n",
    "for val in neg_results[0].model_dump()['validated_properties']:\n",
    "    if val['property_is_valid']:    # property is incorrectly marked as valid\n",
    "        fp += 1\n",
    "    else:                           # property is correctly marked as invalid\n",
    "        tn += 1\n",
    "\n",
    "precision = (tp / (tp + fp)) if tp + fp > 0 else 0\n",
    "recall = (tp / (tp + fn)) if tp + fn > 0 else 0\n",
    "f1_score = ((2 * (precision * recall)) / (precision + recall)) if precision + recall > 0 else 0\n",
    "print(f\"Precision: {precision}\")\n",
    "print(f\"Recall: {recall}\")\n",
    "print(f\"F1 Score: {f1_score}\")\n",
    "print(\"----------\")"
   ]
  },
  {
   "cell_type": "code",
   "execution_count": 26,
   "metadata": {},
   "outputs": [
    {
     "name": "stdout",
     "output_type": "stream",
     "text": [
      "Saved to f'../../data/wikidata_kg_context_evaluation_results.jsonl\n"
     ]
    }
   ],
   "source": [
    "results_json = [r.model_dump() for r in neg_results] + [r.model_dump() for r in pos_results]\n",
    "save_jsonl(results_json, '../../data/wikidata_kg_context_evaluation_results.jsonl')"
   ]
  },
  {
   "cell_type": "markdown",
   "metadata": {},
   "source": [
    "# Look at our Evaluations"
   ]
  },
  {
   "cell_type": "code",
   "execution_count": 27,
   "metadata": {},
   "outputs": [
    {
     "data": {
      "text/plain": [
       "2"
      ]
     },
     "execution_count": 27,
     "metadata": {},
     "output_type": "execute_result"
    }
   ],
   "source": [
    "results = read_jsonl('../../data/wikidata_kg_context_evaluation_results.jsonl')\n",
    "len(results)"
   ]
  },
  {
   "cell_type": "code",
   "execution_count": null,
   "metadata": {},
   "outputs": [],
   "source": []
  }
 ],
 "metadata": {
  "kernelspec": {
   "display_name": "instructor",
   "language": "python",
   "name": "python3"
  },
  "language_info": {
   "codemirror_mode": {
    "name": "ipython",
    "version": 3
   },
   "file_extension": ".py",
   "mimetype": "text/x-python",
   "name": "python",
   "nbconvert_exporter": "python",
   "pygments_lexer": "ipython3",
   "version": "3.10.13"
  }
 },
 "nbformat": 4,
 "nbformat_minor": 2
}
