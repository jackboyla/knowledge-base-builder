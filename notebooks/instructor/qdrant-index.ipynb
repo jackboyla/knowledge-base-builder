{
 "cells": [
  {
   "cell_type": "code",
   "execution_count": 1,
   "metadata": {},
   "outputs": [
    {
     "data": {
      "text/plain": [
       "11665"
      ]
     },
     "execution_count": 1,
     "metadata": {},
     "output_type": "execute_result"
    }
   ],
   "source": [
    "import json\n",
    "\n",
    "def read_jsonl(file):\n",
    "    # jsonl_data = []\n",
    "    with open(file, 'r') as f:\n",
    "        jsonl_data = json.load(f)\n",
    "    #     for line in f:\n",
    "    #         jsonl_data.append(line)\n",
    "\n",
    "    return jsonl_data\n",
    "\n",
    "props = read_jsonl('./query.json')\n",
    "len(props)"
   ]
  },
  {
   "cell_type": "code",
   "execution_count": 2,
   "metadata": {},
   "outputs": [
    {
     "data": {
      "text/plain": [
       "{'property': 'http://www.wikidata.org/entity/P6',\n",
       " 'propertyLabel': 'head of government',\n",
       " 'propertyDescription': 'head of the executive power of this town, city, municipality, state, country, or other governmental body'}"
      ]
     },
     "execution_count": 2,
     "metadata": {},
     "output_type": "execute_result"
    }
   ],
   "source": [
    "props[0]"
   ]
  },
  {
   "cell_type": "code",
   "execution_count": 3,
   "metadata": {},
   "outputs": [],
   "source": [
    "from qdrant_client import QdrantClient\n",
    "# qdrant = QdrantClient(\":memory:\") # Create in-memory Qdrant instance, for testing, CI/CD\n",
    "# OR\n",
    "client = QdrantClient(path=\"./db\")  # Persists changes to disk, fast prototyping"
   ]
  },
  {
   "cell_type": "code",
   "execution_count": null,
   "metadata": {},
   "outputs": [],
   "source": [
    "from sentence_transformers import SentenceTransformer\n",
    "from qdrant_client import QdrantClient\n",
    "from qdrant_client.http.models import Filter\n",
    "\n",
    "# Initialize the model\n",
    "model = SentenceTransformer('all-MiniLM-L6-v2')\n",
    "\n",
    "# Example document and properties\n",
    "document = \"Your document text goes here.\"\n",
    "properties = [\"Property 1 text.\", \"Property 2 text.\", ...]\n",
    "\n",
    "# Convert text to vectors\n",
    "doc_vector = model.encode(document, convert_to_tensor=True).numpy()\n",
    "prop_vectors = model.encode(properties, convert_to_tensor=True).numpy()\n",
    "\n",
    "# Setup Qdrant client\n",
    "client = QdrantClient(host=\"localhost\", port=6333)  # Adjust as needed\n",
    "\n",
    "# Assuming you've already created a collection and indexed your properties\n",
    "# For demonstration, we'll skip directly to querying\n",
    "\n",
    "# Query for similar vectors\n",
    "query_results = client.search(\n",
    "    collection_name=\"your_collection_name\",\n",
    "    query_vector=doc_vector.tolist(),\n",
    "    query_filter=None,  # Add filters if needed\n",
    "    limit=5  # Number of top properties to find\n",
    ")\n",
    "\n",
    "# Process query results\n",
    "for hit in query_results['hits']:\n",
    "    print(f\"Property ID: {hit['payload']['property_id']}, Score: {hit['score']}\")\n"
   ]
  }
 ],
 "metadata": {
  "kernelspec": {
   "display_name": "instructor",
   "language": "python",
   "name": "python3"
  },
  "language_info": {
   "codemirror_mode": {
    "name": "ipython",
    "version": 3
   },
   "file_extension": ".py",
   "mimetype": "text/x-python",
   "name": "python",
   "nbconvert_exporter": "python",
   "pygments_lexer": "ipython3",
   "version": "3.9.18"
  }
 },
 "nbformat": 4,
 "nbformat_minor": 2
}
