{
 "cells": [
  {
   "cell_type": "code",
   "execution_count": 1,
   "metadata": {},
   "outputs": [],
   "source": [
    "from utils import read_jsonl, save_jsonl\n",
    "import pandas as pd\n",
    "from pydantic import BaseModel, model_validator, field_validator, Field, ValidationInfo, Extra\n",
    "from typing import List, Dict, Union, Any, Optional, Literal\n",
    "import instructor\n",
    "from openai import OpenAI\n",
    "import os\n",
    "import json\n",
    "from langchain.retrievers import ParentDocumentRetriever\n",
    "from langchain.storage import InMemoryStore\n",
    "from langchain.text_splitter import RecursiveCharacterTextSplitter\n",
    "from langchain_community.document_loaders import TextLoader\n",
    "from langchain_community.vectorstores import Chroma\n",
    "from langchain_core.documents.base import Document\n",
    "from langchain_openai import OpenAIEmbeddings\n",
    "\n",
    "from wikidata_search import WikidataSearch, get_all_properties_with_labels\n",
    "from data_classes import KnowledgeGraph, ValidatedProperty\n",
    "from langchain_community.tools.wikidata.tool import WikidataAPIWrapper, WikidataQueryRun\n",
    "from langchain.tools import DuckDuckGoSearchRun\n",
    "import utils"
   ]
  },
  {
   "cell_type": "code",
   "execution_count": 2,
   "metadata": {},
   "outputs": [],
   "source": [
    "save_path = '../../data/web_context_FB13_evaluation_results.jsonl'"
   ]
  },
  {
   "cell_type": "code",
   "execution_count": 29,
   "metadata": {},
   "outputs": [],
   "source": [
    "client = instructor.patch(OpenAI(api_key=os.environ['OPENAI_API_KEY']))\n",
    "MODEL = \"gpt-3.5-turbo-0125\""
   ]
  },
  {
   "cell_type": "markdown",
   "metadata": {},
   "source": [
    "# 🛜 Web Search "
   ]
  },
  {
   "cell_type": "code",
   "execution_count": 4,
   "metadata": {},
   "outputs": [
    {
     "name": "stdout",
     "output_type": "stream",
     "text": [
      "{'title': 'Umberto I of Italy - Wikipedia', 'href': 'https://en.wikipedia.org/wiki/Umberto_I_of_Italy', 'body': \"Umberto I (Italian: Umberto Rainerio Carlo Emanuele Giovanni Maria Ferdinando Eugenio di Savoia; 14 March 1844 - 29 July 1900) was King of Italy from 9 January 1878 until his assassination in 1900. His reign saw Italy's expansion into the Horn of Africa, as well as the creation of the Triple Alliance among Italy, Germany and Austria-Hungary.. The son of Victor Emmanuel II and Adelaide of ...\"}\n",
      "{'title': 'Italian American assassinates Italian king | July 29, 1900 | HISTORY', 'href': 'https://www.history.com/this-day-in-history/italian-american-assassinates-italian-king', 'body': 'In Monza, Italy, King Umberto I is shot to death by Gaetano Bresci, an Italian-born anarchist who resided in America before returning to his homeland to murder the king. Crowned in 1878, King ...'}\n",
      "{'title': 'This Is The Assassination Of King Umberto Of Italy Explained', 'href': 'https://www.grunge.com/720852/this-is-the-assassination-of-king-umberto-of-italy-explained/', 'body': 'In 1868, Umberto married Margherita Teresa Giovanna, princess of Savoy, and their son — the future Victor Emmanuel III — was born the following year. In 1878, Umberto ascended the throne to become Umberto I, King of Italy, rather than Umberto IV of Savoy, because the modern Italian state was founded in 1861, per the Office of the Historian.'}\n",
      "{'title': 'Umberto I | House of Savoy, Italian Unification ... - Britannica', 'href': 'https://www.britannica.com/biography/Umberto-I', 'body': 'Umberto I, (born March 14, 1844, Turin, Piedmont, Kingdom of Sardinia [now in Italy]—died July 29, 1900, Monza, Italy), duke of Savoy and king of Italy who led his country out of its isolation and into the Triple Alliance with Austria-Hungary and Germany. He supported nationalistic and imperialistic policies that led to disaster for Italy and helped create the atmosphere in which he was ...'}\n",
      "{'title': '1900: The assassination of King Umberto I of Italy | libcom.org', 'href': 'https://libcom.org/article/1900-assassination-king-umberto-i-italy', 'body': 'Refusing to explain his behaviour, he left the US in May 1900 to seek out King Umberto and commit his attentat. Landing in La Havre, he made his way to Paris and from there began the long trek to Italy, eventually arriving in the small town of Castel San Pietro near Bologna. Staying at an inn owned by a relative, Bresci acquired a revolver and ...'}\n"
     ]
    }
   ],
   "source": [
    "# https://github.com/deedy5/duckduckgo_search?tab=readme-ov-file#TOP\n",
    "from duckduckgo_search import DDGS\n",
    "\n",
    "results = DDGS().text(\"Umberto I King of Italy cause of death?\", max_results=5)\n",
    "for r in results: print(r)"
   ]
  },
  {
   "cell_type": "markdown",
   "metadata": {},
   "source": [
    "# 🧠 Load data"
   ]
  },
  {
   "cell_type": "code",
   "execution_count": 30,
   "metadata": {},
   "outputs": [],
   "source": [
    "neg_triples = utils.read_nell_sports('./NELL/neg.txt')\n",
    "pos_triples = utils.read_nell_sports('./NELL/pos.txt')\n",
    "# neg_triples[:15]"
   ]
  },
  {
   "cell_type": "code",
   "execution_count": 31,
   "metadata": {},
   "outputs": [
    {
     "name": "stdout",
     "output_type": "stream",
     "text": [
      "Positive Triples:\n",
      "{'subject': 'umberto_i_of_italy', 'relation': 'cause_of_death', 'object': 'tyrannicide'}\n",
      "{'subject': 'john_glenn_beall_jr', 'relation': 'nationality', 'object': 'united_states'}\n",
      "{'subject': 'john_atkinson_grimshaw', 'relation': 'gender', 'object': 'male'}\n",
      "{'subject': 'hardinge_giffard_1st_earl_of_halsbury', 'relation': 'gender', 'object': 'male'}\n",
      "{'subject': 'mike_von_erich', 'relation': 'nationality', 'object': 'united_states'}\n",
      "{'subject': 'gilbert_carlton_walker', 'relation': 'nationality', 'object': 'united_states'}\n",
      "\n",
      "Negative Triples:\n",
      "{'subject': 'umberto_i_of_italy', 'relation': 'cause_of_death', 'object': 'cerebral_aneurysm'}\n",
      "{'subject': 'john_glenn_beall_jr', 'relation': 'nationality', 'object': 'ancient_greece'}\n",
      "{'subject': 'john_atkinson_grimshaw', 'relation': 'gender', 'object': 'female'}\n",
      "{'subject': 'hardinge_giffard_1st_earl_of_halsbury', 'relation': 'gender', 'object': 'female'}\n",
      "{'subject': 'mike_von_erich', 'relation': 'nationality', 'object': 'serbia'}\n",
      "{'subject': 'gilbert_carlton_walker', 'relation': 'nationality', 'object': 'barbados'}\n",
      "47466\n"
     ]
    }
   ],
   "source": [
    "fb13_path = '../../data/FB13/test.tsv'\n",
    "positive_triples, negative_triples = utils.read_fb13(fb13_path)\n",
    "\n",
    "print(\"Positive Triples:\")\n",
    "for triple in positive_triples[:6]:\n",
    "    print(triple)\n",
    "\n",
    "print(\"\\nNegative Triples:\")\n",
    "for triple in negative_triples[:6]:\n",
    "    print(triple)\n",
    "\n",
    "print(len(positive_triples) + len(negative_triples))"
   ]
  },
  {
   "cell_type": "markdown",
   "metadata": {},
   "source": [
    "# 🪬 Define Evaluation Model"
   ]
  },
  {
   "cell_type": "code",
   "execution_count": 35,
   "metadata": {},
   "outputs": [
    {
     "name": "stderr",
     "output_type": "stream",
     "text": [
      "/tmp/ipykernel_745231/1231154746.py:1: PydanticDeprecatedSince20: `pydantic.config.Extra` is deprecated, use literal values instead (e.g. `extra='allow'`). Deprecated in Pydantic V2.0 to be removed in V3.0. See Pydantic V2 Migration Guide at https://errors.pydantic.dev/2.6/migration/\n",
      "  class ValidatedProperty(BaseModel, extra=Extra.allow):\n"
     ]
    }
   ],
   "source": [
    "\n",
    "class ValidatedProperty(BaseModel, extra=Extra.allow):\n",
    "    entity_label: str\n",
    "    property_name: str\n",
    "    property_value: Any\n",
    "\n",
    "    property_is_valid: Literal[True, False, \"Not enough information to say\"] = Field(\n",
    "      ...,\n",
    "        description=\"Whether the property is generally valid, judged against \" +\n",
    "                    \"the given context.\",\n",
    "    )\n",
    "    is_valid_reason: Optional[str] = Field(\n",
    "        None, description=\"The reason why the property is valid if it is indeed valid.\"\n",
    "    )\n",
    "    error_message: Optional[str] = Field(\n",
    "        None, description=\"The error message if either property_name and/or property_value is not valid.\"\n",
    "    )\n",
    "\n",
    "\n",
    "class WebKGValidator(BaseModel):\n",
    "\n",
    "    triples: List\n",
    "    validated_properties: List[ValidatedProperty] = []\n",
    "\n",
    "\n",
    "    @staticmethod\n",
    "    def get_web_search_results(search_tool, query):\n",
    "        hit = search_tool.run(query)\n",
    "        return hit\n",
    "\n",
    "    @staticmethod\n",
    "    def create_parent_document_retriever(docs: List[Document]):\n",
    "        # https://python.langchain.com/docs/modules/data_connection/retrievers/parent_document_retriever\n",
    "\n",
    "        # This text splitter is used to create the child documents\n",
    "        child_splitter = RecursiveCharacterTextSplitter(chunk_size=400)\n",
    "        # The vectorstore to use to index the child chunks\n",
    "        vectorstore = Chroma(\n",
    "            collection_name=\"full_documents\", embedding_function=OpenAIEmbeddings()\n",
    "        )\n",
    "        # The storage layer for the parent documents\n",
    "        store = InMemoryStore()\n",
    "        retriever = ParentDocumentRetriever(\n",
    "            vectorstore=vectorstore,\n",
    "            docstore=store,\n",
    "            child_splitter=child_splitter,\n",
    "            # parent_splitter=parent_splitter,\n",
    "        )\n",
    "        retriever.add_documents(docs, ids=None) # add entity doc(s)\n",
    "\n",
    "        # list(store.yield_keys())   # see how many chunks it's created\n",
    "\n",
    "        return retriever, store, vectorstore\n",
    "\n",
    "    @staticmethod\n",
    "    def retrieve_relevant_property(entity_name, property_name, vectorstore, retriever):\n",
    "        '''Fetch the most similar chunk to predicted property name'''\n",
    "\n",
    "        query = f\"{property_name}\"\n",
    "\n",
    "        sub_docs = vectorstore.similarity_search(query)\n",
    "\n",
    "        relevant_property = sub_docs[0].page_content\n",
    "        return relevant_property\n",
    "\n",
    "    @staticmethod\n",
    "    def validate_statement_with_context(entity_label, predicted_property_name, predicted_property_value, context):\n",
    "        '''Validate a statement about an entity\n",
    "\n",
    "        a statement is a triple: entity_label --> predicted_property_name --> predicted_property_value\n",
    "                             e.g Donald Trump --> wife --> Ivanka Trump\n",
    "        \n",
    "        '''\n",
    "        resp: ValidatedProperty = client.chat.completions.create(\n",
    "                        response_model=ValidatedProperty,\n",
    "                        messages=[\n",
    "                            {\n",
    "                                \"role\": \"user\",\n",
    "                                \"content\": f\"Using the given context as a reference, \" +\n",
    "                                \"is the following predicted property valid for the given entity? \" +\n",
    "                                f\"\\nEntity Label: {entity_label}\" +\n",
    "                                f\"\\nPredicted Property Name: {predicted_property_name}\" +\n",
    "                                f\"\\nPredicted Property Value: {predicted_property_value}\" +\n",
    "                                f\"\\n\\nContext {context}\"\n",
    "                            }\n",
    "                        ],\n",
    "                        max_retries=2,\n",
    "                        temperature=0,\n",
    "                        model=MODEL,\n",
    "                    )\n",
    "        return resp\n",
    "\n",
    "\n",
    "    @staticmethod\n",
    "    def create_query(subject, relation, object):\n",
    "        '''Create a query for the web search engine'''\n",
    "        subject = \" \".join(word.capitalize() for word in subject.split(\"_\"))\n",
    "        relation = \" \".join(relation.split(\"_\"))\n",
    "        search_query = f\"What {subject} {relation}?\"\n",
    "        return search_query\n",
    "\n",
    "    @model_validator(mode='before')\n",
    "    def validate(self, context) -> \"WebKGValidator\":\n",
    "\n",
    "        self['validated_properties'] = []\n",
    "\n",
    "        search_tool = DuckDuckGoSearchRun()\n",
    "\n",
    "        for triple in self['triples']:\n",
    "\n",
    "            subject, relation, object = triple['subject'], triple['relation'], triple['object']\n",
    "\n",
    "            search_query = WebKGValidator.create_query(subject, relation, object)\n",
    "\n",
    "            web_reference = WebKGValidator.get_web_search_results(search_tool, search_query)\n",
    "\n",
    "            # EVALUATE ONE PROPERTY\n",
    "            resp = WebKGValidator.validate_statement_with_context(\n",
    "                entity_label=subject, \n",
    "                predicted_property_name=relation, \n",
    "                predicted_property_value=object, \n",
    "                context=web_reference\n",
    "            )\n",
    "            resp.sources = [web_reference]\n",
    "\n",
    "            self['validated_properties'].append(resp)\n",
    "        return self\n",
    "\n",
    "\n",
    "    @model_validator(mode='after')\n",
    "    def assert_all_properties_validated(self, info: ValidationInfo):\n",
    "        if len(self.validated_properties) != len(self.triples):\n",
    "            raise ValueError(\n",
    "                \"Number of properties validated does not match number of properties in the prediction knowledge base. \" +\n",
    "                f\"Number of properties validated: {len(self.validated_properties)}, \" +\n",
    "                f\"Number of properties in the text: {len(self.triples)}\"\n",
    "                )\n",
    "        return self\n",
    "\n"
   ]
  },
  {
   "cell_type": "code",
   "execution_count": 36,
   "metadata": {},
   "outputs": [
    {
     "name": "stdout",
     "output_type": "stream",
     "text": [
      "What Arkansas Razorbacks ,?\n",
      "Get the latest news and information for the Arkansas Razorbacks. 2023 season schedule, scores, stats, and highlights. Find out the latest on your favorite NCAAF teams on CBSSports.com. Get the latest news and information for the Arkansas Razorbacks. 2023 season schedule, scores, stats, and highlights. Find out the latest on your favorite NCAAB teams on CBSSports.com. The Razorbacks are unranked with a .500 record, standing 14-14. Their poor 5-10 SEC record places them in third-to-last place in the conference, overcoming only Missouri and Vanderbilt. But when the Razorbacks lost to lowly Vanderbilt on Tuesday at home, Kentucky's chances of beating Arkansas grew even larger. Now, according to ESPN's Basketball Power Index, the Wildcats have a 93% chance of winning Saturday's matinee. Arkansas had been playing good basketball until the Commodores arrived in Fayetteville. Full Arkansas Razorbacks schedule for the 2023-24 season including dates, opponents, game time and game result information. Find out the latest game information for your favorite NCAAB team on ...\n"
     ]
    }
   ],
   "source": [
    "idx = 7\n",
    "subject, relation, object = neg_triples[idx]['subject'], neg_triples[idx]['relation'], neg_triples[idx]['object']\n",
    "\n",
    "search_query = WebKGValidator.create_query(subject, relation, object)\n",
    "\n",
    "search_tool = DuckDuckGoSearchRun()\n",
    "web_reference = WebKGValidator.get_web_search_results(search_tool, search_query)\n",
    "\n",
    "print(search_query)\n",
    "print(web_reference)"
   ]
  },
  {
   "cell_type": "markdown",
   "metadata": {},
   "source": [
    "# Evaluate!"
   ]
  },
  {
   "cell_type": "code",
   "execution_count": 37,
   "metadata": {},
   "outputs": [
    {
     "data": {
      "text/plain": [
       "[{'entity_label': 'umberto_i_of_italy',\n",
       "  'property_name': 'cause_of_death',\n",
       "  'property_value': 'cerebral_aneurysm',\n",
       "  'property_is_valid': False,\n",
       "  'is_valid_reason': None,\n",
       "  'error_message': 'The predicted cause of death for Umberto I of Italy is incorrect. Umberto I was assassinated by an anarchist, Gaetano Bresci, and not due to a cerebral aneurysm.',\n",
       "  'sources': [\"The prince accepted civil liability over the death and was charged and indicted, but he was ultimately acquitted of fatal wounding and unintentional homicide by a court in Paris 13 years later. February 21, 2024. Photo: Getty Images. This story begins on July 29, 1900, in the city of Monza in Italy's Lombardy region, when King Umberto I was assassinated by the anarchist Gaetano Bresci ... ROME (AP) — Prince Vittorio Emanuele of Savoy, the son of Italy's last king, Umberto II, has died at the age of 86. The prince died on Saturday in Geneva, the Savoy Royal House said in a statement. He had lived in Switzerland since the family were exiled from Italy when he was 9 years old. Vittorio Emanuele of Savoy, the only son of Italy's last king, who lived in exile in neighbouring Switzerland for most of his life, has died aged 86 at his home in Geneva, the Royal House of Savoy ... Prince Vittorio Emanuele of Savoy, the son of Italy's last king, Umberto II, has passed away at the age of 86. The news of his death has saddened the nation and prompted an outpouring of grief from the Italian people. While the cause of his death has not been disclosed, his legacy and contributions to Italy will forever be remembered.\"]},\n",
       " {'entity_label': 'john_glenn_beall_jr',\n",
       "  'property_name': 'nationality',\n",
       "  'property_value': 'ancient_greece',\n",
       "  'property_is_valid': False,\n",
       "  'is_valid_reason': None,\n",
       "  'error_message': \"The predicted nationality 'ancient_greece' is not valid for John Glenn Beall Jr. as he was an American Marine Corps aviator, engineer, astronaut, businessman, and politician from the United States.\",\n",
       "  'sources': ['John Herschel Glenn Jr. (July 18, 1921 - December 8, 2016) was an American Marine Corps aviator, engineer, astronaut, businessman, and politician.He was the third American in space, and the first American to orbit the Earth, circling it three times in 1962. Following his retirement from NASA, he served from 1974 to 1999 as a U.S. Senator from Ohio; in 1998, he flew into space again at the ... John Herschel Glenn Jr. was born July 18, 1921, in Cambridge, Ohio. He attended primary and secondary schools in New Concord, Ohio. He received a bachelor of science degree in engineering from Muskingum College in New Concord. Muskingum College is among nine colleges or universities that subsequently awarded him honorary doctoral degrees. John Glenn (born July 18, 1921, Cambridge, Ohio, U.S.—died December 8, 2016, Columbus, Ohio) the first U.S. astronaut to orbit Earth, completing three orbits in 1962.(Soviet cosmonaut Yuri Gagarin, the first person in space, had made a single orbit of Earth in 1961.). Glenn joined the U.S. Naval Reserve in 1942. He then joined the U.S. Marine Corps in 1943 and flew 59 missions in the South ... Vice President Spiro Agnew, who had been governor of Maryland, called Joe a \\'radical.\\' Joe narrowly lost his re-election bid to John Glenn Beall, Jr., the son of the man he had defeated in 1964, 51 percent to 48 percent. \"I mentioned that Joe was an avid outdoorsman. He was also a great horseman. John Glenn Beall (J. Glenn Beall, Junior; 1927-2006) Was elected to the Maryland House of Delegates in 1962 and reelected in 1966 where he served as the minority floor leader from 1963-1968. He was elected as a Republican to the Ninety-first Congress (January 3, 1969- January 3, 1971) and was then elected in 1970 as a Republican to the United ...']},\n",
       " {'entity_label': 'john_atkinson_grimshaw',\n",
       "  'property_name': 'gender',\n",
       "  'property_value': 'female',\n",
       "  'property_is_valid': False,\n",
       "  'is_valid_reason': None,\n",
       "  'error_message': \"The predicted gender 'female' is not valid for John Atkinson Grimshaw. The context clearly states that his gender is male.\",\n",
       "  'sources': ['John Atkinson Grimshaw was born 6 September 1836 in Leeds. In 1856 he married his cousin Frances Hubbard (1835-1917). In 1861, at the age of 24, to the dismay of his parents, he left his job as a clerk for the Great Northern Railway to become a painter. He first exhibited in 1862, mostly paintings of birds, fruit and blossom, under the ... NEW YORK, NY -- John Atkinson Grimshaw (1836 - 1893) was one of the most surprising and unusual poetic spirits of Victorian painting. Born into a family of modest background in the industrial city of Leeds, England, in 1836, he appears to have been almost entirely self-taught. He began to paint in his late teens, while working as a clerk for ... John Atkinson Grimshaw (PAINTER) was born in Leeds, United Kingdom on 1836-09-06. Sun sign of John Atkinson Grimshaw is Virgo. You can also see ... John Atkinson Grimshaw: Occupation: PAINTER: Gender: Male: Birthplace: Leeds (View on Map) Birth Country: United Kingdom: Birth Year: 1836: Birth Month: September: Birth Date: 1836-09-06: Sun Sign: John Atkinson Grimshaw, a visionary artist of the Victorian era, left an indelible mark on the world of art with his mesmerizing nocturnal landscapes and his keen ability to capture the beauty of the urban environment. Born on September 6, 1836, in Leeds, England, Grimshaw\\'s life and work are a testament to his extraordinary talent and unique perspective. Grimshaw\\'s early life was marked by ... John Atkinson Grimshaw (1836 - 1893) was an English Victorian-era artist who has been called a \"remarkable and imaginative painter\" best known for his nocturnal scenes of urban landscapes. He is considered one of the most renowned painters of the Victorian era.']},\n",
       " {'entity_label': 'hardinge_giffard_1st_earl_of_halsbury',\n",
       "  'property_name': 'gender',\n",
       "  'property_value': 'female',\n",
       "  'property_is_valid': False,\n",
       "  'is_valid_reason': None,\n",
       "  'error_message': \"The predicted property 'gender' with the value 'female' is not valid for the entity 'hardinge_giffard_1st_earl_of_halsbury'. The context provided indicates that Hardinge Giffard, 1st Earl of Halsbury, is a male individual.\",\n",
       "  'sources': ['\"Giffard, Hardinge Stanley, first earl of Halsbury (1823-1921)\" published on by Oxford University Press. Halsbury, Devon, England. Death: 1287 (54-55) Scotland. Immediate Family: Daughter of Peter de Halsbury in Parkham. Wife of Hugh \"the Wizard\" Giffard of Yester, Laird of Yester. Mother of Sir John Giffard, of Yester; Margaret Broun of Colstoun; Hugh Gifford and James Gifford. Half sister of Joan Giffard (de Halsbury) John Giffard. M, #69076, b. circa 1335. Father John Giffard b. c 1335. Mother Isabell b. c 1307. John Giffard married Joan Deuclive, daughter of Richard Deuclive. John Giffard was born circa 1335 at of Halsbury, Devonshire, England. Family Joan Deuclive b. c 1339. Child. English: Portrait of Hardinge Giffard, 1st Earl of Halsbury from The Sketch, Vol. XVIII, No. 226, May 26, 1897, page 179 Birthplace: Halsbury, Devon, England. Death: 1287 (54-55) Immediate Family: Daughter of Peter de Halsbury in Parkham and wife of Peter de Halsburt. Wife of Bartholomew Gifford, I, of Halsbury. Mother of Ada Gifford; Baldwin Giffard, of Halsbury; Matthew Giffard; Robert Giffard; Bartholomew Giffard and 1 other. ; and Walter Giffard « less.']},\n",
       " {'entity_label': 'mike_von_erich',\n",
       "  'property_name': 'nationality',\n",
       "  'property_value': 'serbia',\n",
       "  'property_is_valid': 'Not enough information to say',\n",
       "  'is_valid_reason': None,\n",
       "  'error_message': None,\n",
       "  'sources': ['The relationships among the Von Erich family—including brothers Kevin, David, Kerry, and Mike—are at the core of the new biopic The Iron Claw. Now in theaters, the movie stars Zac Efron ... A24. \"The Iron Claw\" closes shortly after Kevin Von Erich comes to terms with the loss of all of his brothers, following Kerry Von Erich\\'s funeral. The film ends on two hopeful notes. The deceased Von Erich boys are reunited in the afterlife, where Kerry meets his oldest brother, Jack Jr. Mike Von Erich was in a coma. The Iron Claw details the real life story of Mike Von Erich\\'s death being the cause of an overdose and dying by suicide. Article continues after ad. YouTube/VICE TV ... Fritz Von Erich married his high-school sweetheart Doris Smith on June 23, 1950. Their first child, Jack Jr., arrived on Sept. 21, 1952. They later welcomed five more sons between 1957 and 1969 ... Bio: Fritz Von Erich\\'s Wife. Lily James Born: April 5, 1989 Birthplace: Esher, Surrey, England, UK. Pam Adkisson Born: November 2, 1960 Birthplace: USA Bio: Kevin Von Erich\\'s Wife. Historical Accuracy (Q&A): ... Mike Von Erich: While answering the question, \"How accurate is The Iron Claw?\" we learned that on April 12, 1987, 23-year-old Mike ...']},\n",
       " {'entity_label': 'gilbert_carlton_walker',\n",
       "  'property_name': 'nationality',\n",
       "  'property_value': 'barbados',\n",
       "  'property_is_valid': False,\n",
       "  'is_valid_reason': None,\n",
       "  'error_message': 'The predicted nationality for Gilbert Carlton Walker is not valid based on the provided context. Gilbert Carlton Walker was a United States political figure, born in Binghamton, New York, and spent most of his early years in the state until he moved to Chicago and later to Norfolk, Virginia. There is no indication or evidence in the context to support the nationality being Barbados.',\n",
       "  'sources': [\"About Gov. Gilbert Carlton Walker. Gilbert Carlton Walker (August 1, 1833 - May 11, 1885) was a United States political figure. He served as the 36th Governor of Virginia, first as a Republican provisional governor between 1869 and 1870, and again as a Democratic elected governor from 1870 to 1874. Walker was born in South Gibson, Susquehanna ... Gilbert Carlton Walker (August 1, 1833 - May 11, 1885) was a United States political figure. He served as the 36th Governor of Virginia, first as a Republican provisional governor between 1869 and 1870, and again as a Democratic elected governor from 1870 to 1874. A northern paper published a brief biography of the new governor. From the January 17, 1874 issue of Harper's Weekly: Governor Kemper. ... Gilbert Carlton Walker was born in Binghamton, New York and spent most of his early years in the state until he moved to Chicago in 1859. In 1864 he moved to Norfolk, Virginia. Gilbert Carlton Walker: Commencement of term: 1 Jan 1843; arrived in Richmond and took the oath of office on 5 Jan 1843. Surrendered himself to the army of the United States on 8 Jun 1865. Pierpont was elected by the Convention held at Wheeling in opposition to the Constitutional government of Virginia. He took the oath of office on 20 Jun 1861 ... A Guide to the Governor Gilbert Carlton Walker Executive Papers, 1869-1873 A Collection in the Library of Virginia Accession Number 40233 Library of Virginia The Library of Virginia 800 East Broad Street Richmond, Virginia 23219-8000 USA Phone: (804) 692-3888 (Archives Reference) Fax: (804) 692-3556 (Archives Reference) ...\"]},\n",
       " {'entity_label': 'jorge_gonzalez_camarena',\n",
       "  'property_name': 'gender',\n",
       "  'property_value': 'female',\n",
       "  'property_is_valid': 'Not enough information to say',\n",
       "  'is_valid_reason': None,\n",
       "  'error_message': None,\n",
       "  'sources': ['The Fusion of two cultures (1963) by Mexican artist Jorge Gonzales Camarena is a famous illustration currently residing in the National Museum of History in Mexico City.. The painting is not only meant to show a literal historical clash between the Spanish Conquistadores and Aztec Eagle Warriors; as the name implies, it also represents the violent way in which the mixture of these separate ... Language links are at the top of the page across from the title. These themes materialize in murals by Diego Rivera, Jorge González Camarena and José Clemente Orozco, who in a 1926 mural for the Antiguo Colegio de San Ildefonso in Mexico City depicted Cortés and Malinche as nudes. It\\'s a truly disconcerting work (which the exhibition\\'s curators have reproduced as a wall-sized vinyl). \"Presencia de America Latina\" (1964-1965), a 300-square-metre mural of painted in acrylics on stucco by Jorge González Camarena (1908-1980), located in the Casa del Arte of the University of Conceptión, Conceptión, Chile. ... Camarena\\'s ideological commitments aside, his Romantic coming to terms with the past, summarising of an ... \"Latin-America Presence\": epic work of Mexican muralist Jorge González Camarena inaugurated in 1965 at the University of Concepción Fine Art Museum (Pinacoteca Casa del Arte) whose outstanding characteristic is how the mural piece is an integral part of the building´s architecture. In an unprecedented manner, the architectural design was ...']}]"
      ]
     },
     "execution_count": 37,
     "metadata": {},
     "output_type": "execute_result"
    }
   ],
   "source": [
    "neg_results = []\n",
    "\n",
    "neg_results.append(WebKGValidator(**{'triples': negative_triples[:7]}))\n",
    "\n",
    "neg_results[0].model_dump()['validated_properties']"
   ]
  },
  {
   "cell_type": "code",
   "execution_count": 38,
   "metadata": {},
   "outputs": [
    {
     "data": {
      "text/plain": [
       "[{'entity_label': 'umberto_i_of_italy',\n",
       "  'property_name': 'cause_of_death',\n",
       "  'property_value': 'tyrannicide',\n",
       "  'property_is_valid': False,\n",
       "  'is_valid_reason': None,\n",
       "  'error_message': \"The predicted property 'cause_of_death' with the value 'tyrannicide' is not valid for the entity 'umberto_i_of_italy'. Umberto I of Italy was assassinated by an anarchist, Gaetano Bresci, and not by an act of tyrannicide.\",\n",
       "  'sources': [\"He was the only son among the four children born to Umberto II and his wife, Belgian Princess Marie-Jose. The prince of Naples may have won the birth lottery but within a few short years, a ... February 21, 2024. Photo: Getty Images. This story begins on July 29, 1900, in the city of Monza in Italy's Lombardy region, when King Umberto I was assassinated by the anarchist Gaetano Bresci ... ROME (AP) — Prince Vittorio Emanuele of Savoy, the son of Italy's last king, Umberto II, has died at the age of 86. The prince died on Saturday in Geneva, the Savoy Royal House said in a statement. He had lived in Switzerland since the family were exiled from Italy when he was 9 years old. Vittorio Emanuele of Savoy, the only son of Italy's last king, who lived in exile in neighbouring Switzerland for most of his life, has died aged 86 at his home in Geneva, the Royal House of Savoy ... Prince Vittorio Emanuele of Savoy, the son of Italy's last king, Umberto II, has passed away at the age of 86. The news of his death has saddened the nation and prompted an outpouring of grief from the Italian people. While the cause of his death has not been disclosed, his legacy and contributions to Italy will forever be remembered.\"]},\n",
       " {'entity_label': 'john_glenn_beall_jr',\n",
       "  'property_name': 'nationality',\n",
       "  'property_value': 'united_states',\n",
       "  'property_is_valid': True,\n",
       "  'is_valid_reason': 'John Glenn Beall Jr. was an American politician, serving as a U.S. Senator from Maryland, which indicates his nationality as United States.',\n",
       "  'error_message': None,\n",
       "  'sources': ['John Herschel Glenn Jr. (July 18, 1921 - December 8, 2016) was an American Marine Corps aviator, engineer, astronaut, businessman, and politician.He was the third American in space, and the first American to orbit the Earth, circling it three times in 1962. Following his retirement from NASA, he served from 1974 to 1999 as a U.S. Senator from Ohio; in 1998, he flew into space again at the ... John Herschel Glenn Jr. was born July 18, 1921, in Cambridge, Ohio. He attended primary and secondary schools in New Concord, Ohio. He received a bachelor of science degree in engineering from Muskingum College in New Concord. Muskingum College is among nine colleges or universities that subsequently awarded him honorary doctoral degrees. Vice President Spiro Agnew, who had been governor of Maryland, called Joe a \\'radical.\\' Joe narrowly lost his re-election bid to John Glenn Beall, Jr., the son of the man he had defeated in 1964, 51 percent to 48 percent. \"I mentioned that Joe was an avid outdoorsman. He was also a great horseman. John Glenn (born July 18, 1921, Cambridge, Ohio, U.S.—died December 8, 2016, Columbus, Ohio) the first U.S. astronaut to orbit Earth, completing three orbits in 1962.(Soviet cosmonaut Yuri Gagarin, the first person in space, had made a single orbit of Earth in 1961.). Glenn joined the U.S. Naval Reserve in 1942. He then joined the U.S. Marine Corps in 1943 and flew 59 missions in the South ... John Glenn Beall (J. Glenn Beall, Junior; 1927-2006) Was elected to the Maryland House of Delegates in 1962 and reelected in 1966 where he served as the minority floor leader from 1963-1968. He was elected as a Republican to the Ninety-first Congress (January 3, 1969- January 3, 1971) and was then elected in 1970 as a Republican to the United ...']},\n",
       " {'entity_label': 'john_atkinson_grimshaw',\n",
       "  'property_name': 'gender',\n",
       "  'property_value': 'male',\n",
       "  'property_is_valid': True,\n",
       "  'is_valid_reason': \"The context confirms that John Atkinson Grimshaw's gender is male.\",\n",
       "  'error_message': None,\n",
       "  'sources': [\"John Atkinson Grimshaw was born 6 September 1836 in Leeds. In 1856 he married his cousin Frances Hubbard (1835-1917). In 1861, at the age of 24, to the dismay of his parents, he left his job as a clerk for the Great Northern Railway to become a painter. He first exhibited in 1862, mostly paintings of birds, fruit and blossom, under the ... NEW YORK, NY -- John Atkinson Grimshaw (1836 - 1893) was one of the most surprising and unusual poetic spirits of Victorian painting. Born into a family of modest background in the industrial city of Leeds, England, in 1836, he appears to have been almost entirely self-taught. He began to paint in his late teens, while working as a clerk for ... The Literate Ghost remembers the prominent Victorian artist John Atkinson Grimshaw and his contributions to the world of the Classic Ghost Story. John Atkinson Grimshaw (PAINTER) was born in Leeds, United Kingdom on 1836-09-06. Sun sign of John Atkinson Grimshaw is Virgo. You can also see ... John Atkinson Grimshaw: Occupation: PAINTER: Gender: Male: Birthplace: Leeds (View on Map) Birth Country: United Kingdom: Birth Year: 1836: Birth Month: September: Birth Date: 1836-09-06: Sun Sign: John Atkinson Grimshaw, a visionary artist of the Victorian era, left an indelible mark on the world of art with his mesmerizing nocturnal landscapes and his keen ability to capture the beauty of the urban environment. Born on September 6, 1836, in Leeds, England, Grimshaw's life and work are a testament to his extraordinary talent and unique perspective. Grimshaw's early life was marked by ...\"]},\n",
       " {'entity_label': 'hardinge_giffard_1st_earl_of_halsbury',\n",
       "  'property_name': 'gender',\n",
       "  'property_value': 'male',\n",
       "  'property_is_valid': True,\n",
       "  'is_valid_reason': 'Based on the context provided, Hardinge Stanley Giffard, 1st Earl of Halsbury, is identified as male.',\n",
       "  'error_message': None,\n",
       "  'sources': ['\"Giffard, Hardinge Stanley, first earl of Halsbury (1823-1921)\" published on by Oxford University Press. English: Portrait of Hardinge Giffard, 1st Earl of Halsbury from The Sketch, Vol. XVIII, No. 226, May 26, 1897, page 179 Hardinge Stanley Giffard, 1st Earl of Halsbury, PC QC later KC (3 September 1823 - 11 December 1921) was a British lawyer and Conservative politician. He served three times as Lord High Chancellor of Great Britain, [1] for a total of seventeen years. Association President for 1895, the eminent Hardinge Stanley Giffard, 1st Earl of Halsbury, PC, QC. (3 September 1823 - 11 December 1921) was both lawyer and Conservative politician who served three times as Lord High Chancellor of Great Britain. In 1898 he was created Earl of Halsbury and Viscount Tiverton, of Tiverton. Lady Constance Mary Evelyn Giffard was the daughter of Hardinge Stanley Giffard, 1st Earl of Halsbury and Wilhelmina Woodfall. 2,1 She married Edward Walter Giffard, son of Edward Giffard and Rosamunde Catherine Pennell, on 21 April 1902. 1 She died on 3 July 1962. 1 Lady Constance Mary Evelyn Giffard usually went by her middle name of Evelyn. 1']},\n",
       " {'entity_label': 'mike_von_erich',\n",
       "  'property_name': 'nationality',\n",
       "  'property_value': 'united_states',\n",
       "  'property_is_valid': True,\n",
       "  'is_valid_reason': 'Mike Von Erich is a member of the Von Erich family, who are known to be American professional wrestlers. The context also mentions events related to the Von Erich family in the United States.',\n",
       "  'error_message': None,\n",
       "  'sources': ['The relationships among the Von Erich family—including brothers Kevin, David, Kerry, and Mike—are at the core of the new biopic The Iron Claw. Now in theaters, the movie stars Zac Efron ... Fritz Von Erich married his high-school sweetheart Doris Smith on June 23, 1950. Their first child, Jack Jr., arrived on Sept. 21, 1952. They later welcomed five more sons between 1957 and 1969 ... A24. \"The Iron Claw\" closes shortly after Kevin Von Erich comes to terms with the loss of all of his brothers, following Kerry Von Erich\\'s funeral. The film ends on two hopeful notes. The deceased Von Erich boys are reunited in the afterlife, where Kerry meets his oldest brother, Jack Jr. Bio: Fritz Von Erich\\'s Wife. Lily James Born: April 5, 1989 Birthplace: Esher, Surrey, England, UK. Pam Adkisson Born: November 2, 1960 Birthplace: USA Bio: Kevin Von Erich\\'s Wife. Historical Accuracy (Q&A): ... Mike Von Erich: While answering the question, \"How accurate is The Iron Claw?\" we learned that on April 12, 1987, 23-year-old Mike ... December 22, 2023 7:00 AM EST. E arly on in The Iron Claw, NWA World Heavyweight Champion Harley Race throws Kevin Von Erich ( Zac Efron) out of the ring and suplexes him onto the non-padded floor ...']},\n",
       " {'entity_label': 'gilbert_carlton_walker',\n",
       "  'property_name': 'nationality',\n",
       "  'property_value': 'united_states',\n",
       "  'property_is_valid': True,\n",
       "  'is_valid_reason': 'Gilbert Carlton Walker was a United States political figure who served as the 36th Governor of Virginia, indicating his nationality as United States.',\n",
       "  'error_message': None,\n",
       "  'sources': [\"About Gov. Gilbert Carlton Walker. Gilbert Carlton Walker (August 1, 1833 - May 11, 1885) was a United States political figure. He served as the 36th Governor of Virginia, first as a Republican provisional governor between 1869 and 1870, and again as a Democratic elected governor from 1870 to 1874. Walker was born in South Gibson, Susquehanna ... A northern paper published a brief biography of the new governor. From the January 17, 1874 issue of Harper's Weekly: Governor Kemper. ... Gilbert Carlton Walker was born in Binghamton, New York and spent most of his early years in the state until he moved to Chicago in 1859. In 1864 he moved to Norfolk, Virginia. Gilbert Carlton Walker (August 1, 1833 - May 11, 1885) was a United States political figure. He served as the 36th Governor of Virginia, first as a Republican provisional governor between 1869 and 1870, and again as a Democratic elected governor from 1870 to 1874. A Guide to the Governor Gilbert Carlton Walker Executive Papers, 1869-1873 A Collection in the Library of Virginia Accession Number 40233 Library of Virginia The Library of Virginia 800 East Broad Street Richmond, Virginia 23219-8000 USA Phone: (804) 692-3888 (Archives Reference) Fax: (804) 692-3556 (Archives Reference) ... Gilbert Carlton Walker: Commencement of term: 1 Jan 1843; arrived in Richmond and took the oath of office on 5 Jan 1843. Surrendered himself to the army of the United States on 8 Jun 1865. Pierpont was elected by the Convention held at Wheeling in opposition to the Constitutional government of Virginia. He took the oath of office on 20 Jun 1861 ...\"]},\n",
       " {'entity_label': 'jorge_gonzalez_camarena',\n",
       "  'property_name': 'gender',\n",
       "  'property_value': 'male',\n",
       "  'property_is_valid': 'Not enough information to say',\n",
       "  'is_valid_reason': None,\n",
       "  'error_message': 'Insufficient information to determine the gender of the entity based on the provided context.',\n",
       "  'sources': ['The Fusion of two cultures (1963) by Mexican artist Jorge Gonzales Camarena is a famous illustration currently residing in the National Museum of History in Mexico City.. The painting is not only meant to show a literal historical clash between the Spanish Conquistadores and Aztec Eagle Warriors; as the name implies, it also represents the violent way in which the mixture of these separate ... Language links are at the top of the page across from the title. These themes materialize in murals by Diego Rivera, Jorge González Camarena and José Clemente Orozco, who in a 1926 mural for the Antiguo Colegio de San Ildefonso in Mexico City depicted Cortés and Malinche as nudes. It\\'s a truly disconcerting work (which the exhibition\\'s curators have reproduced as a wall-sized vinyl). At the opening of the museum in 1964, the government commissioned the artist Jorge González Camarena to create a mural representing the biological and cultural diversity of humanity. The resulting work, \"Las razas y la cultura\", is a glowing representation of the varied biological heritage of our species, represented by women\\'s faces ... \"Presencia de America Latina\" (1964-1965), a 300-square-metre mural of painted in acrylics on stucco by Jorge González Camarena (1908-1980), located in the Casa del Arte of the University of Conceptión, Conceptión, Chile. ... Camarena\\'s ideological commitments aside, his Romantic coming to terms with the past, summarising of an ...']}]"
      ]
     },
     "execution_count": 38,
     "metadata": {},
     "output_type": "execute_result"
    }
   ],
   "source": [
    "pos_results = []\n",
    "\n",
    "pos_results.append(WebKGValidator(**{'triples': positive_triples[:7]}))\n",
    "\n",
    "pos_results[0].model_dump()['validated_properties']"
   ]
  },
  {
   "cell_type": "code",
   "execution_count": 43,
   "metadata": {},
   "outputs": [
    {
     "name": "stdout",
     "output_type": "stream",
     "text": [
      "Precision: 0.75\n",
      "Recall: 0.8571428571428571\n",
      "F1 Score: 0.7999999999999999\n",
      "----------\n"
     ]
    }
   ],
   "source": [
    "tp = 0\n",
    "fp = 0\n",
    "tn = 0\n",
    "fn = 0 \n",
    "for val in pos_results[0].model_dump()['validated_properties']:\n",
    "    if val['property_is_valid']:    # property is correctly marked as valid\n",
    "        tp += 1\n",
    "    else:                           # property is incorrectly marked as invalid\n",
    "        fn += 1\n",
    "for val in neg_results[0].model_dump()['validated_properties']:\n",
    "    if val['property_is_valid']:    # property is incorrectly marked as valid\n",
    "        fp += 1\n",
    "    else:                           # property is correctly marked as invalid\n",
    "        tn += 1\n",
    "\n",
    "metrics = utils.calc_metrics(tp, fp, tn, fn)"
   ]
  },
  {
   "cell_type": "code",
   "execution_count": 44,
   "metadata": {},
   "outputs": [
    {
     "name": "stdout",
     "output_type": "stream",
     "text": [
      "Saved to f'../../data/web_context_FB13_evaluation_results.jsonl\n"
     ]
    }
   ],
   "source": [
    "results_json = [r.model_dump() for r in neg_results] + [r.model_dump() for r in pos_results]\n",
    "save_jsonl(results_json, save_path)"
   ]
  },
  {
   "cell_type": "markdown",
   "metadata": {},
   "source": [
    "# Look at our Evaluations"
   ]
  },
  {
   "cell_type": "code",
   "execution_count": 3,
   "metadata": {},
   "outputs": [
    {
     "data": {
      "text/plain": [
       "2"
      ]
     },
     "execution_count": 3,
     "metadata": {},
     "output_type": "execute_result"
    }
   ],
   "source": [
    "results = read_jsonl(save_path)\n",
    "len(results)"
   ]
  },
  {
   "cell_type": "code",
   "execution_count": 4,
   "metadata": {},
   "outputs": [
    {
     "data": {
      "text/plain": [
       "{'triples': [{'subject': 'umberto_i_of_italy',\n",
       "   'relation': 'cause_of_death',\n",
       "   'object': 'cerebral_aneurysm'},\n",
       "  {'subject': 'john_glenn_beall_jr',\n",
       "   'relation': 'nationality',\n",
       "   'object': 'ancient_greece'},\n",
       "  {'subject': 'john_atkinson_grimshaw',\n",
       "   'relation': 'gender',\n",
       "   'object': 'female'},\n",
       "  {'subject': 'hardinge_giffard_1st_earl_of_halsbury',\n",
       "   'relation': 'gender',\n",
       "   'object': 'female'},\n",
       "  {'subject': 'mike_von_erich', 'relation': 'nationality', 'object': 'serbia'},\n",
       "  {'subject': 'gilbert_carlton_walker',\n",
       "   'relation': 'nationality',\n",
       "   'object': 'barbados'},\n",
       "  {'subject': 'jorge_gonzalez_camarena',\n",
       "   'relation': 'gender',\n",
       "   'object': 'female'}],\n",
       " 'validated_properties': [{'entity_label': 'umberto_i_of_italy',\n",
       "   'property_name': 'cause_of_death',\n",
       "   'property_value': 'cerebral_aneurysm',\n",
       "   'property_is_valid': False,\n",
       "   'is_valid_reason': None,\n",
       "   'error_message': 'The predicted cause of death for Umberto I of Italy is incorrect. Umberto I was assassinated by an anarchist, Gaetano Bresci, and not due to a cerebral aneurysm.',\n",
       "   'sources': [\"The prince accepted civil liability over the death and was charged and indicted, but he was ultimately acquitted of fatal wounding and unintentional homicide by a court in Paris 13 years later. February 21, 2024. Photo: Getty Images. This story begins on July 29, 1900, in the city of Monza in Italy's Lombardy region, when King Umberto I was assassinated by the anarchist Gaetano Bresci ... ROME (AP) — Prince Vittorio Emanuele of Savoy, the son of Italy's last king, Umberto II, has died at the age of 86. The prince died on Saturday in Geneva, the Savoy Royal House said in a statement. He had lived in Switzerland since the family were exiled from Italy when he was 9 years old. Vittorio Emanuele of Savoy, the only son of Italy's last king, who lived in exile in neighbouring Switzerland for most of his life, has died aged 86 at his home in Geneva, the Royal House of Savoy ... Prince Vittorio Emanuele of Savoy, the son of Italy's last king, Umberto II, has passed away at the age of 86. The news of his death has saddened the nation and prompted an outpouring of grief from the Italian people. While the cause of his death has not been disclosed, his legacy and contributions to Italy will forever be remembered.\"]},\n",
       "  {'entity_label': 'john_glenn_beall_jr',\n",
       "   'property_name': 'nationality',\n",
       "   'property_value': 'ancient_greece',\n",
       "   'property_is_valid': False,\n",
       "   'is_valid_reason': None,\n",
       "   'error_message': \"The predicted nationality 'ancient_greece' is not valid for John Glenn Beall Jr. as he was an American Marine Corps aviator, engineer, astronaut, businessman, and politician from the United States.\",\n",
       "   'sources': ['John Herschel Glenn Jr. (July 18, 1921 - December 8, 2016) was an American Marine Corps aviator, engineer, astronaut, businessman, and politician.He was the third American in space, and the first American to orbit the Earth, circling it three times in 1962. Following his retirement from NASA, he served from 1974 to 1999 as a U.S. Senator from Ohio; in 1998, he flew into space again at the ... John Herschel Glenn Jr. was born July 18, 1921, in Cambridge, Ohio. He attended primary and secondary schools in New Concord, Ohio. He received a bachelor of science degree in engineering from Muskingum College in New Concord. Muskingum College is among nine colleges or universities that subsequently awarded him honorary doctoral degrees. John Glenn (born July 18, 1921, Cambridge, Ohio, U.S.—died December 8, 2016, Columbus, Ohio) the first U.S. astronaut to orbit Earth, completing three orbits in 1962.(Soviet cosmonaut Yuri Gagarin, the first person in space, had made a single orbit of Earth in 1961.). Glenn joined the U.S. Naval Reserve in 1942. He then joined the U.S. Marine Corps in 1943 and flew 59 missions in the South ... Vice President Spiro Agnew, who had been governor of Maryland, called Joe a \\'radical.\\' Joe narrowly lost his re-election bid to John Glenn Beall, Jr., the son of the man he had defeated in 1964, 51 percent to 48 percent. \"I mentioned that Joe was an avid outdoorsman. He was also a great horseman. John Glenn Beall (J. Glenn Beall, Junior; 1927-2006) Was elected to the Maryland House of Delegates in 1962 and reelected in 1966 where he served as the minority floor leader from 1963-1968. He was elected as a Republican to the Ninety-first Congress (January 3, 1969- January 3, 1971) and was then elected in 1970 as a Republican to the United ...']},\n",
       "  {'entity_label': 'john_atkinson_grimshaw',\n",
       "   'property_name': 'gender',\n",
       "   'property_value': 'female',\n",
       "   'property_is_valid': False,\n",
       "   'is_valid_reason': None,\n",
       "   'error_message': \"The predicted gender 'female' is not valid for John Atkinson Grimshaw. The context clearly states that his gender is male.\",\n",
       "   'sources': ['John Atkinson Grimshaw was born 6 September 1836 in Leeds. In 1856 he married his cousin Frances Hubbard (1835-1917). In 1861, at the age of 24, to the dismay of his parents, he left his job as a clerk for the Great Northern Railway to become a painter. He first exhibited in 1862, mostly paintings of birds, fruit and blossom, under the ... NEW YORK, NY -- John Atkinson Grimshaw (1836 - 1893) was one of the most surprising and unusual poetic spirits of Victorian painting. Born into a family of modest background in the industrial city of Leeds, England, in 1836, he appears to have been almost entirely self-taught. He began to paint in his late teens, while working as a clerk for ... John Atkinson Grimshaw (PAINTER) was born in Leeds, United Kingdom on 1836-09-06. Sun sign of John Atkinson Grimshaw is Virgo. You can also see ... John Atkinson Grimshaw: Occupation: PAINTER: Gender: Male: Birthplace: Leeds (View on Map) Birth Country: United Kingdom: Birth Year: 1836: Birth Month: September: Birth Date: 1836-09-06: Sun Sign: John Atkinson Grimshaw, a visionary artist of the Victorian era, left an indelible mark on the world of art with his mesmerizing nocturnal landscapes and his keen ability to capture the beauty of the urban environment. Born on September 6, 1836, in Leeds, England, Grimshaw\\'s life and work are a testament to his extraordinary talent and unique perspective. Grimshaw\\'s early life was marked by ... John Atkinson Grimshaw (1836 - 1893) was an English Victorian-era artist who has been called a \"remarkable and imaginative painter\" best known for his nocturnal scenes of urban landscapes. He is considered one of the most renowned painters of the Victorian era.']},\n",
       "  {'entity_label': 'hardinge_giffard_1st_earl_of_halsbury',\n",
       "   'property_name': 'gender',\n",
       "   'property_value': 'female',\n",
       "   'property_is_valid': False,\n",
       "   'is_valid_reason': None,\n",
       "   'error_message': \"The predicted property 'gender' with the value 'female' is not valid for the entity 'hardinge_giffard_1st_earl_of_halsbury'. The context provided indicates that Hardinge Giffard, 1st Earl of Halsbury, is a male individual.\",\n",
       "   'sources': ['\"Giffard, Hardinge Stanley, first earl of Halsbury (1823-1921)\" published on by Oxford University Press. Halsbury, Devon, England. Death: 1287 (54-55) Scotland. Immediate Family: Daughter of Peter de Halsbury in Parkham. Wife of Hugh \"the Wizard\" Giffard of Yester, Laird of Yester. Mother of Sir John Giffard, of Yester; Margaret Broun of Colstoun; Hugh Gifford and James Gifford. Half sister of Joan Giffard (de Halsbury) John Giffard. M, #69076, b. circa 1335. Father John Giffard b. c 1335. Mother Isabell b. c 1307. John Giffard married Joan Deuclive, daughter of Richard Deuclive. John Giffard was born circa 1335 at of Halsbury, Devonshire, England. Family Joan Deuclive b. c 1339. Child. English: Portrait of Hardinge Giffard, 1st Earl of Halsbury from The Sketch, Vol. XVIII, No. 226, May 26, 1897, page 179 Birthplace: Halsbury, Devon, England. Death: 1287 (54-55) Immediate Family: Daughter of Peter de Halsbury in Parkham and wife of Peter de Halsburt. Wife of Bartholomew Gifford, I, of Halsbury. Mother of Ada Gifford; Baldwin Giffard, of Halsbury; Matthew Giffard; Robert Giffard; Bartholomew Giffard and 1 other. ; and Walter Giffard « less.']},\n",
       "  {'entity_label': 'mike_von_erich',\n",
       "   'property_name': 'nationality',\n",
       "   'property_value': 'serbia',\n",
       "   'property_is_valid': 'Not enough information to say',\n",
       "   'is_valid_reason': None,\n",
       "   'error_message': None,\n",
       "   'sources': ['The relationships among the Von Erich family—including brothers Kevin, David, Kerry, and Mike—are at the core of the new biopic The Iron Claw. Now in theaters, the movie stars Zac Efron ... A24. \"The Iron Claw\" closes shortly after Kevin Von Erich comes to terms with the loss of all of his brothers, following Kerry Von Erich\\'s funeral. The film ends on two hopeful notes. The deceased Von Erich boys are reunited in the afterlife, where Kerry meets his oldest brother, Jack Jr. Mike Von Erich was in a coma. The Iron Claw details the real life story of Mike Von Erich\\'s death being the cause of an overdose and dying by suicide. Article continues after ad. YouTube/VICE TV ... Fritz Von Erich married his high-school sweetheart Doris Smith on June 23, 1950. Their first child, Jack Jr., arrived on Sept. 21, 1952. They later welcomed five more sons between 1957 and 1969 ... Bio: Fritz Von Erich\\'s Wife. Lily James Born: April 5, 1989 Birthplace: Esher, Surrey, England, UK. Pam Adkisson Born: November 2, 1960 Birthplace: USA Bio: Kevin Von Erich\\'s Wife. Historical Accuracy (Q&A): ... Mike Von Erich: While answering the question, \"How accurate is The Iron Claw?\" we learned that on April 12, 1987, 23-year-old Mike ...']},\n",
       "  {'entity_label': 'gilbert_carlton_walker',\n",
       "   'property_name': 'nationality',\n",
       "   'property_value': 'barbados',\n",
       "   'property_is_valid': False,\n",
       "   'is_valid_reason': None,\n",
       "   'error_message': 'The predicted nationality for Gilbert Carlton Walker is not valid based on the provided context. Gilbert Carlton Walker was a United States political figure, born in Binghamton, New York, and spent most of his early years in the state until he moved to Chicago and later to Norfolk, Virginia. There is no indication or evidence in the context to support the nationality being Barbados.',\n",
       "   'sources': [\"About Gov. Gilbert Carlton Walker. Gilbert Carlton Walker (August 1, 1833 - May 11, 1885) was a United States political figure. He served as the 36th Governor of Virginia, first as a Republican provisional governor between 1869 and 1870, and again as a Democratic elected governor from 1870 to 1874. Walker was born in South Gibson, Susquehanna ... Gilbert Carlton Walker (August 1, 1833 - May 11, 1885) was a United States political figure. He served as the 36th Governor of Virginia, first as a Republican provisional governor between 1869 and 1870, and again as a Democratic elected governor from 1870 to 1874. A northern paper published a brief biography of the new governor. From the January 17, 1874 issue of Harper's Weekly: Governor Kemper. ... Gilbert Carlton Walker was born in Binghamton, New York and spent most of his early years in the state until he moved to Chicago in 1859. In 1864 he moved to Norfolk, Virginia. Gilbert Carlton Walker: Commencement of term: 1 Jan 1843; arrived in Richmond and took the oath of office on 5 Jan 1843. Surrendered himself to the army of the United States on 8 Jun 1865. Pierpont was elected by the Convention held at Wheeling in opposition to the Constitutional government of Virginia. He took the oath of office on 20 Jun 1861 ... A Guide to the Governor Gilbert Carlton Walker Executive Papers, 1869-1873 A Collection in the Library of Virginia Accession Number 40233 Library of Virginia The Library of Virginia 800 East Broad Street Richmond, Virginia 23219-8000 USA Phone: (804) 692-3888 (Archives Reference) Fax: (804) 692-3556 (Archives Reference) ...\"]},\n",
       "  {'entity_label': 'jorge_gonzalez_camarena',\n",
       "   'property_name': 'gender',\n",
       "   'property_value': 'female',\n",
       "   'property_is_valid': 'Not enough information to say',\n",
       "   'is_valid_reason': None,\n",
       "   'error_message': None,\n",
       "   'sources': ['The Fusion of two cultures (1963) by Mexican artist Jorge Gonzales Camarena is a famous illustration currently residing in the National Museum of History in Mexico City.. The painting is not only meant to show a literal historical clash between the Spanish Conquistadores and Aztec Eagle Warriors; as the name implies, it also represents the violent way in which the mixture of these separate ... Language links are at the top of the page across from the title. These themes materialize in murals by Diego Rivera, Jorge González Camarena and José Clemente Orozco, who in a 1926 mural for the Antiguo Colegio de San Ildefonso in Mexico City depicted Cortés and Malinche as nudes. It\\'s a truly disconcerting work (which the exhibition\\'s curators have reproduced as a wall-sized vinyl). \"Presencia de America Latina\" (1964-1965), a 300-square-metre mural of painted in acrylics on stucco by Jorge González Camarena (1908-1980), located in the Casa del Arte of the University of Conceptión, Conceptión, Chile. ... Camarena\\'s ideological commitments aside, his Romantic coming to terms with the past, summarising of an ... \"Latin-America Presence\": epic work of Mexican muralist Jorge González Camarena inaugurated in 1965 at the University of Concepción Fine Art Museum (Pinacoteca Casa del Arte) whose outstanding characteristic is how the mural piece is an integral part of the building´s architecture. In an unprecedented manner, the architectural design was ...']}]}"
      ]
     },
     "execution_count": 4,
     "metadata": {},
     "output_type": "execute_result"
    }
   ],
   "source": [
    "results[0]"
   ]
  },
  {
   "cell_type": "code",
   "execution_count": 5,
   "metadata": {},
   "outputs": [
    {
     "name": "stdout",
     "output_type": "stream",
     "text": [
      "Precision: 0.75\n",
      "Recall: 0.8571428571428571\n",
      "F1 Score: 0.7999999999999999\n",
      "Accuracy: 0.7857142857142857\n",
      "----------\n"
     ]
    },
    {
     "data": {
      "text/plain": [
       "{'precision': 0.75,\n",
       " 'recall': 0.8571428571428571,\n",
       " 'f1_score': 0.7999999999999999,\n",
       " 'accuracy': 0.7857142857142857}"
      ]
     },
     "execution_count": 5,
     "metadata": {},
     "output_type": "execute_result"
    }
   ],
   "source": [
    "tp = 0\n",
    "fp = 0\n",
    "tn = 0\n",
    "fn = 0 \n",
    "pos_results = results[1]\n",
    "neg_results = results[0]\n",
    "for val in pos_results['validated_properties']:\n",
    "    if val['property_is_valid']:    # property is correctly marked as valid\n",
    "        tp += 1\n",
    "    else:                           # property is incorrectly marked as invalid\n",
    "        fn += 1\n",
    "for val in neg_results['validated_properties']:\n",
    "    if val['property_is_valid']:    # property is incorrectly marked as valid\n",
    "        fp += 1\n",
    "    else:                           # property is correctly marked as invalid\n",
    "        tn += 1\n",
    "\n",
    "metrics = utils.calc_metrics(tp, fp, tn, fn)\n",
    "\n",
    "# Precision: 0.75\n",
    "# Recall: 0.8571428571428571\n",
    "# F1 Score: 0.7999999999999999\n",
    "# Accuracy: 0.7857142857142857\n",
    "# ----------"
   ]
  },
  {
   "cell_type": "code",
   "execution_count": null,
   "metadata": {},
   "outputs": [],
   "source": []
  }
 ],
 "metadata": {
  "kernelspec": {
   "display_name": "instructor",
   "language": "python",
   "name": "python3"
  },
  "language_info": {
   "codemirror_mode": {
    "name": "ipython",
    "version": 3
   },
   "file_extension": ".py",
   "mimetype": "text/x-python",
   "name": "python",
   "nbconvert_exporter": "python",
   "pygments_lexer": "ipython3",
   "version": "3.10.13"
  }
 },
 "nbformat": 4,
 "nbformat_minor": 2
}
