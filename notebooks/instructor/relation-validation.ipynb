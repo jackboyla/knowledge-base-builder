{
 "cells": [
  {
   "cell_type": "code",
   "execution_count": 3,
   "metadata": {},
   "outputs": [],
   "source": [
    "import os\n",
    "os.environ['OPENAI_API_KEY'] = 'xxxxxxxxx'"
   ]
  },
  {
   "cell_type": "code",
   "execution_count": 8,
   "metadata": {},
   "outputs": [],
   "source": [
    "from typing import List, Optional\n",
    "from openai import OpenAI\n",
    "from pydantic import BaseModel, ValidationInfo, field_validator, ValidationError, FieldValidationInfo, Field, model_validator\n",
    "import instructor\n",
    "\n",
    "client = instructor.patch(OpenAI())\n",
    "\n",
    "class Validation(BaseModel):\n",
    "    is_valid: bool\n",
    "    error_messages: Optional[str] = Field(None, description=\"Error messages if any\")\n",
    "\n",
    "\n",
    "class Relation(BaseModel):\n",
    "    head: str\n",
    "    tail: str\n",
    "    label: str\n",
    "\n",
    "\n",
    "    @model_validator(mode=\"after\")\n",
    "    def validate_sources(self, info: FieldValidationInfo) -> \"Relation\":\n",
    "\n",
    "        context = info.context.get(\"text\", None)\n",
    "\n",
    "        resp: Validation = client.chat.completions.create(\n",
    "            response_model=Validation,\n",
    "            messages=[\n",
    "                {\n",
    "                    \"role\": \"user\",\n",
    "                    \"content\": f\"Is the given relation label valid in the following context?\\n\\Relation: {self.head} -> {self.label} -> {self.tail}\\n\\nContext: {context}\",\n",
    "                }\n",
    "            ],\n",
    "            model=\"gpt-3.5-turbo\",\n",
    "        )\n",
    "\n",
    "        if resp.is_valid:\n",
    "            return self\n",
    "\n",
    "        raise ValueError(resp.error_messages)\n",
    "\n",
    "\n",
    "class RelationPrediction(BaseModel):\n",
    "    # question: str\n",
    "    relation: List[Relation]\n",
    "    "
   ]
  },
  {
   "cell_type": "code",
   "execution_count": null,
   "metadata": {},
   "outputs": [],
   "source": []
  }
 ],
 "metadata": {
  "kernelspec": {
   "display_name": "instructor",
   "language": "python",
   "name": "python3"
  },
  "language_info": {
   "codemirror_mode": {
    "name": "ipython",
    "version": 3
   },
   "file_extension": ".py",
   "mimetype": "text/x-python",
   "name": "python",
   "nbconvert_exporter": "python",
   "pygments_lexer": "ipython3",
   "version": "3.10.13"
  }
 },
 "nbformat": 4,
 "nbformat_minor": 2
}
