{
 "cells": [
  {
   "cell_type": "code",
   "execution_count": 1,
   "metadata": {},
   "outputs": [],
   "source": [
    "from utils import read_jsonl, save_jsonl\n",
    "import pandas as pd\n",
    "from pydantic import BaseModel, model_validator, field_validator, Field, ValidationInfo\n",
    "from typing import List, Dict, Union, Any, Optional, Literal\n",
    "import instructor\n",
    "from openai import OpenAI\n",
    "import os\n",
    "import json\n",
    "from langchain.retrievers import ParentDocumentRetriever\n",
    "from langchain.storage import InMemoryStore\n",
    "from langchain.text_splitter import RecursiveCharacterTextSplitter\n",
    "from langchain_community.document_loaders import TextLoader\n",
    "from langchain_community.vectorstores import Chroma\n",
    "from langchain_core.documents.base import Document\n",
    "from langchain_openai import OpenAIEmbeddings\n",
    "\n",
    "from wikidata_search import WikidataSearch, get_all_properties_with_labels\n",
    "from data_classes import KnowledgeGraph, ValidatedProperty"
   ]
  },
  {
   "cell_type": "code",
   "execution_count": 2,
   "metadata": {},
   "outputs": [],
   "source": [
    "client = instructor.patch(OpenAI(api_key=os.environ['OPENAI_API_KEY']))\n",
    "MODEL = \"gpt-3.5-turbo-0125\""
   ]
  },
  {
   "cell_type": "markdown",
   "metadata": {},
   "source": [
    "# 🧠 Load data"
   ]
  },
  {
   "cell_type": "code",
   "execution_count": 3,
   "metadata": {},
   "outputs": [
    {
     "name": "stdout",
     "output_type": "stream",
     "text": [
      "Number of predicted KBs: 4\n"
     ]
    }
   ],
   "source": [
    "pred_kbs = read_jsonl('../../data/prediction.jsonl')\n",
    "print(f\"Number of predicted KBs: {len(pred_kbs)}\")"
   ]
  },
  {
   "cell_type": "code",
   "execution_count": 4,
   "metadata": {},
   "outputs": [
    {
     "data": {
      "text/plain": [
       "dict_keys(['entity_label', 'properties'])"
      ]
     },
     "execution_count": 4,
     "metadata": {},
     "output_type": "execute_result"
    }
   ],
   "source": [
    "pred_kbs[0].keys()"
   ]
  },
  {
   "cell_type": "markdown",
   "metadata": {},
   "source": [
    "# 🪬 Define Evaluation Model"
   ]
  },
  {
   "cell_type": "code",
   "execution_count": 5,
   "metadata": {},
   "outputs": [],
   "source": [
    "\n",
    "class WikidataKGValidator(KnowledgeGraph):\n",
    "\n",
    "    reference_knowledge_graph: KnowledgeGraph = None\n",
    "    validated_properties: List[ValidatedProperty] = []\n",
    "\n",
    "\n",
    "    @staticmethod\n",
    "    def get_wikidata(entity_label):\n",
    "        qid: List = WikidataSearch.search_wikidata(entity_label)\n",
    "        if len(qid) == 0:\n",
    "            raise ValueError(f\"No results found for {entity_label} :(\")\n",
    "\n",
    "        wikidata_kg = get_all_properties_with_labels(qid[0]['id'])\n",
    "\n",
    "        reference_knowledge_graph = KnowledgeGraph(**wikidata_kg)\n",
    "        return reference_knowledge_graph\n",
    "    \n",
    "    @staticmethod\n",
    "    def get_wikidata_neighbors(wikidata_kg: KnowledgeGraph) -> List[KnowledgeGraph]:\n",
    "        one_hop_kg = {}\n",
    "        for property in wikidata_kg['properties'].keys():\n",
    "            qid: List = WikidataSearch.search_wikidata(property)\n",
    "            if len(qid) > 0:\n",
    "                print(f\"Found wikidata id for {property}\")\n",
    "                one_hop_kg[property] = get_all_properties_with_labels(qid[0]['id'])\n",
    "\n",
    "        return one_hop_kg\n",
    "\n",
    "\n",
    "\n",
    "    @staticmethod\n",
    "    def create_parent_document_retriever(docs: List[Document]):\n",
    "        # https://python.langchain.com/docs/modules/data_connection/retrievers/parent_document_retriever\n",
    "\n",
    "        # This text splitter is used to create the child documents\n",
    "        child_splitter = RecursiveCharacterTextSplitter(chunk_size=400)\n",
    "        # The vectorstore to use to index the child chunks\n",
    "        vectorstore = Chroma(\n",
    "            collection_name=\"full_documents\", embedding_function=OpenAIEmbeddings()\n",
    "        )\n",
    "        # The storage layer for the parent documents\n",
    "        store = InMemoryStore()\n",
    "        retriever = ParentDocumentRetriever(\n",
    "            vectorstore=vectorstore,\n",
    "            docstore=store,\n",
    "            child_splitter=child_splitter,\n",
    "            # parent_splitter=parent_splitter,\n",
    "        )\n",
    "        retriever.add_documents(docs, ids=None) # add entity doc(s)\n",
    "\n",
    "        # list(store.yield_keys())   # see how many chunks it's created\n",
    "\n",
    "        return retriever, store, vectorstore\n",
    "\n",
    "    @staticmethod\n",
    "    def retrieve_relevant_property(entity_name, property_name, vectorstore, retriever):\n",
    "        '''Fetch the most similar chunk to predicted property name'''\n",
    "\n",
    "        query = f\"{property_name}\"\n",
    "\n",
    "        sub_docs = vectorstore.similarity_search(query)\n",
    "\n",
    "        relevant_property = sub_docs[0].page_content\n",
    "        return relevant_property\n",
    "\n",
    "    @staticmethod\n",
    "    def validate_statement_with_context(entity_label, predicted_property_name, predicted_property_value, context):\n",
    "        '''Validate a statement about an entity\n",
    "\n",
    "        a statement is a triple: entity_label --> predicted_property_name --> predicted_property_value\n",
    "                             e.g Donald Trump --> wife --> Ivanka Trump\n",
    "        \n",
    "        '''\n",
    "        resp: ValidatedProperty = client.chat.completions.create(\n",
    "                        response_model=ValidatedProperty,\n",
    "                        messages=[\n",
    "                            {\n",
    "                                \"role\": \"user\",\n",
    "                                \"content\": f\"Using the given context as a reference, \" +\n",
    "                                \"is the following predicted property valid for the given entity? \" +\n",
    "                                f\"\\nEntity Label: {entity_label}\" +\n",
    "                                f\"\\nPredicted Property Name: {predicted_property_name}\" +\n",
    "                                f\"\\nPredicted Property Value: {predicted_property_value}\" +\n",
    "                                f\"\\n\\nContext {context}\"\n",
    "                            }\n",
    "                        ],\n",
    "                        max_retries=2,\n",
    "                        model=MODEL,\n",
    "                    )\n",
    "        return resp\n",
    "\n",
    "    @model_validator(mode='before')\n",
    "    def validate(self, context) -> \"WikidataKGValidator\":\n",
    "\n",
    "        self['validated_properties'] = []\n",
    "\n",
    "        self['reference_knowledge_graph'] = WikidataKGValidator.get_wikidata(self['entity_label'])\n",
    "\n",
    "        ref_property_names = [Document(p) for p in self['reference_knowledge_graph'].properties.keys()]   # 🚨 embedding the reference properties\n",
    "        retriever, store, vectorstore = WikidataKGValidator.create_parent_document_retriever(\n",
    "            ref_property_names\n",
    "        )\n",
    "\n",
    "        for predicted_property_name, predicted_property_value in self['properties'].items():\n",
    "\n",
    "            relevant_property_name = WikidataKGValidator.retrieve_relevant_property(\n",
    "                entity_name=self['entity_label'],\n",
    "                property_name=predicted_property_name, \n",
    "                vectorstore=vectorstore,\n",
    "                retriever=retriever\n",
    "            )\n",
    "            # get reference property-value pair\n",
    "            relevant_property = {\n",
    "                relevant_property_name: self['reference_knowledge_graph'].properties[relevant_property_name]\n",
    "            }\n",
    "\n",
    "            # EVALUATE ONE PROPERTY\n",
    "            resp = WikidataKGValidator.validate_statement_with_context(\n",
    "                self['entity_label'], \n",
    "                predicted_property_name, \n",
    "                predicted_property_value, \n",
    "                context=relevant_property\n",
    "            )\n",
    "\n",
    "            self['validated_properties'].append(resp)\n",
    "        return self\n",
    "\n",
    "\n",
    "    @model_validator(mode='after')\n",
    "    def assert_all_properties_validated(self, info: ValidationInfo):\n",
    "        if len(self.validated_properties) != len(self.properties):\n",
    "            raise ValueError(\n",
    "                \"Number of properties validated does not match number of properties in the prediction knowledge base. \" +\n",
    "                f\"Number of properties validated: {len(self.validated_properties)}, \" +\n",
    "                f\"Number of properties in the text: {len(self.properties)}\"\n",
    "                )\n",
    "        return self\n",
    "\n"
   ]
  },
  {
   "cell_type": "markdown",
   "metadata": {},
   "source": [
    "# 🐕 Relevant Chunk Retrieval"
   ]
  },
  {
   "cell_type": "code",
   "execution_count": 6,
   "metadata": {},
   "outputs": [],
   "source": [
    "# idx = 0\n",
    "# results = []\n",
    "\n",
    "# pred_kbs[idx]['reference_knowledge_graph'] = WikidataKGValidator.get_wikidata(\n",
    "#     entity_label=pred_kbs[idx]['entity_label']\n",
    "# )\n",
    "\n",
    "# ref_property_names = [Document(p) for p in pred_kbs[idx]['reference_knowledge_graph'].properties.keys()]   # 🚨 embedding the reference properties\n",
    "# retriever, store, vectorstore = WikidataKGValidator.create_parent_document_retriever(ref_property_names)\n",
    "\n",
    "# retrieved_properties = []\n",
    "# for predicted_property_name, predicted_property_value in pred_kbs[idx]['properties'].items():\n",
    "\n",
    "#     relevant_property_name = WikidataKGValidator.retrieve_relevant_property(\n",
    "#         entity_name=pred_kbs[idx]['entity_label'],\n",
    "#         property_name=predicted_property_name, \n",
    "#         vectorstore=vectorstore,\n",
    "#         retriever=retriever\n",
    "#     )\n",
    "\n",
    "#     # # get reference property-value\n",
    "#     relevant_property = {\n",
    "#         relevant_property_name: pred_kbs[idx]['reference_knowledge_graph'].properties[relevant_property_name]\n",
    "#     }\n",
    "#     retrieved_properties.append((predicted_property_name, predicted_property_value, relevant_property))\n",
    "#     print((predicted_property_name, predicted_property_value, relevant_property))\n"
   ]
  },
  {
   "cell_type": "code",
   "execution_count": 7,
   "metadata": {},
   "outputs": [],
   "source": [
    "# relevant_property = WikidataKGValidator.retrieve_relevant_property(\n",
    "#     entity_name=\"Barack Obama\",\n",
    "#     property_name='Job', \n",
    "#     vectorstore=vectorstore,\n",
    "#     retriever=retriever\n",
    "# )\n",
    "# relevant_property"
   ]
  },
  {
   "cell_type": "code",
   "execution_count": 8,
   "metadata": {},
   "outputs": [],
   "source": [
    "# query = f\"Barack Obama party\"\n",
    "# sub_docs = vectorstore.similarity_search(query)\n",
    "# sub_docs"
   ]
  },
  {
   "cell_type": "code",
   "execution_count": 9,
   "metadata": {},
   "outputs": [],
   "source": [
    "# for predicted_property_name, predicted_property_value, relevant_property in retrieved_properties:\n",
    "#     print(f\"\\n----------\\n❓Pred Property name: {predicted_property_name}\\n🙋Predicted value: {predicted_property_value}\\n⭐️ Relevant property -->  {relevant_property}\\n\")"
   ]
  },
  {
   "cell_type": "markdown",
   "metadata": {},
   "source": [
    "# Evaluate!"
   ]
  },
  {
   "cell_type": "code",
   "execution_count": 10,
   "metadata": {},
   "outputs": [
    {
     "name": "stdout",
     "output_type": "stream",
     "text": [
      "querying wikidata with params: {'action': 'wbsearchentities', 'format': 'json', 'errorformat': 'plaintext', 'language': 'en', 'uselang': 'en', 'type': 'item', 'limit': 1, 'search': 'George Washington'}\n"
     ]
    }
   ],
   "source": [
    "idx = 0\n",
    "results = []\n",
    "\n",
    "# Add some (presumably) wrong properties\n",
    "pred_kbs[idx]['properties']['Bought Stocks in'] = ['Tesla', 'Nvidia', 'Hertz']\n",
    "pred_kbs[idx]['properties']['Favourite Fast Food Chain'] = 'McDonalds'\n",
    "\n",
    "results.append(WikidataKGValidator(**pred_kbs[idx]))"
   ]
  },
  {
   "cell_type": "code",
   "execution_count": 11,
   "metadata": {},
   "outputs": [
    {
     "data": {
      "text/plain": [
       "[{'property_name': 'Name',\n",
       "  'property_value': 'George Washington',\n",
       "  'property_is_valid': 'Not enough information to say',\n",
       "  'is_valid_reason': None,\n",
       "  'error_message': 'Insufficient context information to validate the predicted property.'},\n",
       " {'property_name': 'Birth date',\n",
       "  'property_value': 'February 22, 1732',\n",
       "  'property_is_valid': 'Not enough information to say',\n",
       "  'is_valid_reason': None,\n",
       "  'error_message': 'Insufficient context to validate the predicted birth date property for the entity George Washington.'},\n",
       " {'property_name': 'Death date',\n",
       "  'property_value': 'December 14, 1799',\n",
       "  'property_is_valid': 'Not enough information to say',\n",
       "  'is_valid_reason': None,\n",
       "  'error_message': None},\n",
       " {'property_name': 'Occupation',\n",
       "  'property_value': ['Founding Father',\n",
       "   'Military Officer',\n",
       "   'Politician',\n",
       "   'First President of the United States'],\n",
       "  'property_is_valid': 'Not enough information to say',\n",
       "  'is_valid_reason': None,\n",
       "  'error_message': None},\n",
       " {'property_name': 'Place of Birth',\n",
       "  'property_value': 'Westmoreland County, Virginia',\n",
       "  'property_is_valid': 'Not enough information to say',\n",
       "  'is_valid_reason': None,\n",
       "  'error_message': None},\n",
       " {'property_name': 'Place of Death',\n",
       "  'property_value': 'Mount Vernon, Virginia',\n",
       "  'property_is_valid': 'Not enough information to say',\n",
       "  'is_valid_reason': None,\n",
       "  'error_message': None},\n",
       " {'property_name': 'Spouse',\n",
       "  'property_value': 'Martha Washington',\n",
       "  'property_is_valid': True,\n",
       "  'is_valid_reason': 'The predicted property value matches the known spouse of George Washington.',\n",
       "  'error_message': None},\n",
       " {'property_name': 'Children',\n",
       "  'property_value': ['none',\n",
       "   'adoptive children: Martha Parke Custis, John Parke Custis'],\n",
       "  'property_is_valid': 'Not enough information to say',\n",
       "  'is_valid_reason': None,\n",
       "  'error_message': \"Insufficient context to determine the validity of the predicted property for the entity 'George Washington'.\"},\n",
       " {'property_name': 'Role in American Revolution',\n",
       "  'property_value': 'Commander-in-Chief of the Continental Army during the American Revolution',\n",
       "  'property_is_valid': 'Not enough information to say',\n",
       "  'is_valid_reason': None,\n",
       "  'error_message': None},\n",
       " {'property_name': 'Deficit in Estate',\n",
       "  'property_value': 'Eleventh year running deficit in 1787 due to poor crop yields and pestilence',\n",
       "  'property_is_valid': 'Not enough information to say',\n",
       "  'is_valid_reason': None,\n",
       "  'error_message': None},\n",
       " {'property_name': 'Agricultural Innovation',\n",
       "  'property_value': 'Undertook a new landscaping plan to cultivate fast-growing trees and native shrubs',\n",
       "  'property_is_valid': 'Not enough information to say',\n",
       "  'is_valid_reason': None,\n",
       "  'error_message': None},\n",
       " {'property_name': 'Mule Breeding',\n",
       "  'property_value': 'Began breeding mules after being gifted a Spanish jack by King Charles III of Spain in 1784, believed they would revolutionize agriculture and transportation',\n",
       "  'property_is_valid': 'Not enough information to say',\n",
       "  'is_valid_reason': None,\n",
       "  'error_message': None},\n",
       " {'property_name': 'Chancellor of William & Mary',\n",
       "  'property_value': 'Elected as the 14th Chancellor of the College of William & Mary in 1788 and served until his death in 1799',\n",
       "  'property_is_valid': 'Not enough information to say',\n",
       "  'is_valid_reason': None,\n",
       "  'error_message': None},\n",
       " {'property_name': 'First Presidential Election',\n",
       "  'property_value': \"Won the majority of every state's electoral votes and was informed of his election as president by Congressional Secretary Charles Thomson\",\n",
       "  'property_is_valid': 'Not enough information to say',\n",
       "  'is_valid_reason': None,\n",
       "  'error_message': 'No context provided for validation'},\n",
       " {'property_name': 'Constitutional Authority',\n",
       "  'property_value': 'Exercised Constitutional authority for the first time to pardon two condemned prisoners during a military action',\n",
       "  'property_is_valid': 'Not enough information to say',\n",
       "  'is_valid_reason': None,\n",
       "  'error_message': None},\n",
       " {'property_name': 'Neutrality Declaration',\n",
       "  'property_value': \"Declared America's neutrality in the French Revolutionary Wars in April 1792\",\n",
       "  'property_is_valid': 'Not enough information to say',\n",
       "  'is_valid_reason': None,\n",
       "  'error_message': None},\n",
       " {'property_name': 'French Citizenship',\n",
       "  'property_value': 'Granted honorary French citizenship by the National Assembly of France on August 26, 1792',\n",
       "  'property_is_valid': 'Not enough information to say',\n",
       "  'is_valid_reason': None,\n",
       "  'error_message': None},\n",
       " {'property_name': 'Jay Treaty',\n",
       "  'property_value': 'Supported and signed the Jay Treaty on November 19, 1794 to normalize trade relations with Britain',\n",
       "  'property_is_valid': 'Not enough information to say',\n",
       "  'is_valid_reason': None,\n",
       "  'error_message': None},\n",
       " {'property_name': 'Acted Against Genêt',\n",
       "  'property_value': \"Demanded the French recall diplomat Edmond-Charles Genêt for promoting France's interests in America\",\n",
       "  'property_is_valid': 'Not enough information to say',\n",
       "  'is_valid_reason': None,\n",
       "  'error_message': None},\n",
       " {'property_name': 'Treaty of Greenville',\n",
       "  'property_value': 'The Treaty of Greenville in August 1795 opened two-thirds of the Ohio Country for American settlement',\n",
       "  'property_is_valid': False,\n",
       "  'is_valid_reason': None,\n",
       "  'error_message': \"The predicted property 'Treaty of Greenville' is not directly related to the given context of George Washington, and there is not enough information to determine its validity for this entity.\"},\n",
       " {'property_name': 'Retirement',\n",
       "  'property_value': 'Retired to Mount Vernon in March 1797 and devoted time to his plantations and other business interests',\n",
       "  'property_is_valid': 'Not enough information to say',\n",
       "  'is_valid_reason': None,\n",
       "  'error_message': None},\n",
       " {'property_name': 'Offered Military Service',\n",
       "  'property_value': \"Offered to organize President Adams' army during the Quasi-War with France in 1798\",\n",
       "  'property_is_valid': 'Not enough information to say',\n",
       "  'is_valid_reason': None,\n",
       "  'error_message': None},\n",
       " {'property_name': 'Burial Date',\n",
       "  'property_value': 'December 18, 1799',\n",
       "  'property_is_valid': True,\n",
       "  'is_valid_reason': \"Matches the context's date of burial or cremation\",\n",
       "  'error_message': None},\n",
       " {'property_name': 'Last Words',\n",
       "  'property_value': \"'Tis well\",\n",
       "  'property_is_valid': 'Not enough information to say',\n",
       "  'is_valid_reason': None,\n",
       "  'error_message': None},\n",
       " {'property_name': 'Funeral Location',\n",
       "  'property_value': 'Mount Vernon, Virginia',\n",
       "  'property_is_valid': 'Not enough information to say',\n",
       "  'is_valid_reason': None,\n",
       "  'error_message': 'No direct information about the funeral location of George Washington in the context provided.'},\n",
       " {'property_name': 'Financial Worth',\n",
       "  'property_value': '$780,000 in 1799, equivalent to $13.72 million in 2022',\n",
       "  'property_is_valid': 'Not enough information to say',\n",
       "  'is_valid_reason': None,\n",
       "  'error_message': None},\n",
       " {'property_name': 'Peak Net Worth',\n",
       "  'property_value': '$587 million',\n",
       "  'property_is_valid': 'Not enough information to say',\n",
       "  'is_valid_reason': None,\n",
       "  'error_message': None},\n",
       " {'property_name': 'Burial Location',\n",
       "  'property_value': 'Washington family vault at Mount Vernon',\n",
       "  'property_is_valid': 'Not enough information to say',\n",
       "  'is_valid_reason': None,\n",
       "  'error_message': None},\n",
       " {'property_name': 'Attempted Theft Incident',\n",
       "  'property_value': \"In 1830, a disgruntled ex-employee attempted to steal what he thought was George Washington's skull, prompting the construction of a more secure vault\",\n",
       "  'property_is_valid': 'Not enough information to say',\n",
       "  'is_valid_reason': None,\n",
       "  'error_message': None},\n",
       " {'property_name': 'New Vault Construction',\n",
       "  'property_value': 'A new vault was constructed at Mount Vernon in 1800 to receive the remains of George and Martha Washington and other relatives',\n",
       "  'property_is_valid': 'Not enough information to say',\n",
       "  'is_valid_reason': None,\n",
       "  'error_message': None},\n",
       " {'property_name': 'Proposal to Move Body',\n",
       "  'property_value': \"In 1832, a joint Congressional committee debated moving Washington's body to a crypt in the United States Capitol\",\n",
       "  'property_is_valid': 'Not enough information to say',\n",
       "  'is_valid_reason': None,\n",
       "  'error_message': None},\n",
       " {'property_name': 'Sarcophagus Design',\n",
       "  'property_value': \"A marble sarcophagus designed by William Strickland and constructed by John Struthers was used to encase Washington's remains and Martha's remains at Mount Vernon\",\n",
       "  'property_is_valid': 'Not enough information to say',\n",
       "  'is_valid_reason': None,\n",
       "  'error_message': None},\n",
       " {'property_name': 'Religious Affiliation',\n",
       "  'property_value': 'Descended from Anglican minister Lawrence Washington, baptized in the Anglican Church, served as a vestryman and churchwarden, and privately prayed and read the Bible daily',\n",
       "  'property_is_valid': 'Not enough information to say',\n",
       "  'is_valid_reason': None,\n",
       "  'error_message': 'Not enough information to determine the validity of the predicted Religious Affiliation property for George Washington based on the provided context'},\n",
       " {'property_name': 'Abolitionist Society',\n",
       "  'property_value': 'Declined a suggestion from Jacques Brissot to establish an abolitionist society in Virginia in 1788',\n",
       "  'property_is_valid': False,\n",
       "  'is_valid_reason': None,\n",
       "  'error_message': 'George Washington was a slave owner, and there is no evidence to support that he supported or established an abolitionist society. Therefore, the predicted property is not valid.'},\n",
       " {'property_name': 'Emancipation of Slaves',\n",
       "  'property_value': 'Instructed his secretary to find buyers for his land in western Virginia in 1794 to liberate his slaves, emancipated 123 slaves in his will in 1799, and Martha Washington signed an order to free his slaves in 1801',\n",
       "  'property_is_valid': 'Not enough information to say',\n",
       "  'is_valid_reason': None,\n",
       "  'error_message': None},\n",
       " {'property_name': 'Legacy and Influence',\n",
       "  'property_value': \"Endures as one of the most influential figures in American history, served as commander-in-chief of the Continental Army, a hero of the Revolution, and the first president of the United States; set many precedents for the national government and the presidency, known as the 'Father of His Country' and among the highest-ranked U.S. Presidents\",\n",
       "  'property_is_valid': 'Not enough information to say',\n",
       "  'is_valid_reason': None,\n",
       "  'error_message': None},\n",
       " {'property_name': 'Bought Stocks in',\n",
       "  'property_value': ['Tesla', 'Nvidia', 'Hertz'],\n",
       "  'property_is_valid': False,\n",
       "  'is_valid_reason': None,\n",
       "  'error_message': \"The property 'Bought Stocks in' is not relevant to the entity 'George Washington' as it does not align with the context provided.\"},\n",
       " {'property_name': 'Favourite Fast Food Chain',\n",
       "  'property_value': 'McDonalds',\n",
       "  'property_is_valid': 'Not enough information to say',\n",
       "  'is_valid_reason': None,\n",
       "  'error_message': None}]"
      ]
     },
     "execution_count": 11,
     "metadata": {},
     "output_type": "execute_result"
    }
   ],
   "source": [
    "results[0].model_dump()['validated_properties']"
   ]
  },
  {
   "cell_type": "code",
   "execution_count": 12,
   "metadata": {},
   "outputs": [
    {
     "name": "stdout",
     "output_type": "stream",
     "text": [
      "Saved to f'../../data/wikidata_kg_context_evaluation_results.jsonl\n"
     ]
    }
   ],
   "source": [
    "results_json = [r.model_dump() for r in results]\n",
    "save_jsonl(results_json, '../../data/wikidata_kg_context_evaluation_results.jsonl')"
   ]
  },
  {
   "cell_type": "markdown",
   "metadata": {},
   "source": [
    "# Look at our Evaluations"
   ]
  },
  {
   "cell_type": "code",
   "execution_count": 13,
   "metadata": {},
   "outputs": [
    {
     "data": {
      "text/plain": [
       "1"
      ]
     },
     "execution_count": 13,
     "metadata": {},
     "output_type": "execute_result"
    }
   ],
   "source": [
    "results = read_jsonl('../../data/wikidata_kg_context_evaluation_results.jsonl')\n",
    "len(results)"
   ]
  },
  {
   "cell_type": "code",
   "execution_count": null,
   "metadata": {},
   "outputs": [],
   "source": []
  }
 ],
 "metadata": {
  "kernelspec": {
   "display_name": "instructor",
   "language": "python",
   "name": "python3"
  },
  "language_info": {
   "codemirror_mode": {
    "name": "ipython",
    "version": 3
   },
   "file_extension": ".py",
   "mimetype": "text/x-python",
   "name": "python",
   "nbconvert_exporter": "python",
   "pygments_lexer": "ipython3",
   "version": "3.10.13"
  }
 },
 "nbformat": 4,
 "nbformat_minor": 2
}
