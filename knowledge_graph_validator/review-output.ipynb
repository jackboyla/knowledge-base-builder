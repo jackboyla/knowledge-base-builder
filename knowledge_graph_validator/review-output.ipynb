{
 "cells": [
  {
   "cell_type": "markdown",
   "metadata": {},
   "source": [
    "# Look at our Evaluations"
   ]
  },
  {
   "cell_type": "code",
   "execution_count": 1,
   "metadata": {},
   "outputs": [],
   "source": [
    "%load_ext autoreload\n",
    "\n",
    "# Automatically reload all modules (except those excluded by %aimport)\n",
    "%autoreload 2"
   ]
  },
  {
   "cell_type": "code",
   "execution_count": 2,
   "metadata": {},
   "outputs": [],
   "source": [
    "import sys\n",
    "import utils"
   ]
  },
  {
   "cell_type": "code",
   "execution_count": 3,
   "metadata": {},
   "outputs": [
    {
     "name": "stdout",
     "output_type": "stream",
     "text": [
      "2024-03-10 08:43:53,227 utils INFO: Reading dataset FB15K-237-N...\n",
      "Saved to f'pos_tmp.jsonl\n",
      "Saved to f'neg_tmp.jsonl\n"
     ]
    }
   ],
   "source": [
    "data = utils.read_dataset('FB15K-237-N')"
   ]
  },
  {
   "cell_type": "code",
   "execution_count": 4,
   "metadata": {},
   "outputs": [],
   "source": [
    "save_path = '../data/results/CoDeX-S/WebKGValidator/150_WebKGValidator_CoDeX-S_seed9_gpt-3.5-turbo-0125.jsonl'\n"
   ]
  },
  {
   "cell_type": "code",
   "execution_count": 5,
   "metadata": {},
   "outputs": [
    {
     "data": {
      "text/plain": [
       "1"
      ]
     },
     "execution_count": 5,
     "metadata": {},
     "output_type": "execute_result"
    }
   ],
   "source": [
    "results = utils.read_jsonl(save_path)\n",
    "len(results)"
   ]
  },
  {
   "cell_type": "code",
   "execution_count": 11,
   "metadata": {},
   "outputs": [
    {
     "data": {
      "text/plain": [
       "{'negative_results': {'triples': [], 'validated_triples': []},\n",
       " 'positive_results': {'triples': [], 'validated_triples': []}}"
      ]
     },
     "execution_count": 11,
     "metadata": {},
     "output_type": "execute_result"
    }
   ],
   "source": [
    "results[0]"
   ]
  },
  {
   "cell_type": "code",
   "execution_count": 6,
   "metadata": {},
   "outputs": [
    {
     "name": "stdout",
     "output_type": "stream",
     "text": [
      "Precision: 0\n",
      "Recall: 0\n",
      "F1 Score: 0\n",
      "Accuracy: 0\n",
      "----------\n"
     ]
    }
   ],
   "source": [
    "tp = 0\n",
    "fp = 0\n",
    "tn = 0\n",
    "fn = 0 \n",
    "pos_results = results[0]['positive_results']\n",
    "neg_results = results[0]['negative_results']\n",
    "for val in pos_results['validated_triples']:\n",
    "    if val['triple_is_valid']:    # property is correctly marked as valid\n",
    "        tp += 1\n",
    "    else:                           # property is incorrectly marked as invalid\n",
    "        fn += 1\n",
    "for val in neg_results['validated_triples']:\n",
    "    if val['triple_is_valid']:    # property is incorrectly marked as valid\n",
    "        fp += 1\n",
    "    else:                           # property is correctly marked as invalid\n",
    "        tn += 1\n",
    "\n",
    "metrics = utils.calc_metrics(tp, fp, tn, fn)\n",
    "\n",
    "# Precision: 0.75\n",
    "# Recall: 0.8571428571428571\n",
    "# F1 Score: 0.7999999999999999\n",
    "# Accuracy: 0.7857142857142857\n",
    "# ----------"
   ]
  },
  {
   "cell_type": "code",
   "execution_count": 7,
   "metadata": {},
   "outputs": [
    {
     "name": "stdout",
     "output_type": "stream",
     "text": [
      "\n",
      "----------------False Negatives------------------\n",
      "\n",
      "Total False Negatives: 0\n",
      "\n",
      "----------------False Positives------------------\n",
      "\n",
      "Total False Positives: 0\n",
      "\n",
      "----------------Unsure (Not enough info to say)------------------\n",
      "\n",
      "Total Unsure: 0\n"
     ]
    }
   ],
   "source": [
    "# what did the evaluator get wrong?\n",
    "import json\n",
    "false_neg = 0\n",
    "false_pos = 0\n",
    "unsure = 0\n",
    "print('\\n----------------False Negatives------------------\\n')\n",
    "for val in pos_results['validated_triples']:\n",
    "    if val['triple_is_valid'] is False:\n",
    "        print(json.dumps(val, indent=2))\n",
    "        false_neg += 1\n",
    "print(f\"Total False Negatives: {false_neg}\")\n",
    "\n",
    "\n",
    "print('\\n----------------False Positives------------------\\n')\n",
    "for val in neg_results['validated_triples']:\n",
    "    if val['triple_is_valid'] is True:\n",
    "        print(json.dumps(val, indent=2))\n",
    "        false_pos += 1\n",
    "print(f\"Total False Positives: {false_pos}\")\n",
    "\n",
    "\n",
    "print('\\n----------------Unsure (Not enough info to say)------------------\\n')\n",
    "for val in neg_results['validated_triples']:\n",
    "    if val['triple_is_valid'] not in [True, False]:\n",
    "        print(json.dumps(val, indent=2))\n",
    "        unsure += 1\n",
    "print(f\"Total Unsure: {unsure}\")\n",
    "\n"
   ]
  },
  {
   "cell_type": "code",
   "execution_count": 8,
   "metadata": {},
   "outputs": [
    {
     "name": "stdout",
     "output_type": "stream",
     "text": [
      "Total Unsure: 0\n",
      "Total False Negatives: 0\n",
      "Total False Positives: 0\n"
     ]
    }
   ],
   "source": [
    "print(f\"Total Unsure: {unsure}\")\n",
    "print(f\"Total False Negatives: {false_neg}\")\n",
    "print(f\"Total False Positives: {false_pos}\")"
   ]
  },
  {
   "cell_type": "code",
   "execution_count": 9,
   "metadata": {},
   "outputs": [],
   "source": [
    "for val in neg_results['validated_triples']:\n",
    "    if val['triple_is_valid'] is False:\n",
    "        print(json.dumps(val, indent=2))"
   ]
  },
  {
   "cell_type": "code",
   "execution_count": null,
   "metadata": {},
   "outputs": [],
   "source": []
  },
  {
   "cell_type": "markdown",
   "metadata": {},
   "source": [
    "# Embeddings 🛌"
   ]
  },
  {
   "cell_type": "code",
   "execution_count": 1,
   "metadata": {},
   "outputs": [
    {
     "name": "stdout",
     "output_type": "stream",
     "text": [
      "all-MiniLM-L6-v2\n"
     ]
    }
   ],
   "source": [
    "from embedding_models import EmbeddingModelFactory\n",
    "import os\n",
    "os.environ['VALIDATION_MODEL'] = 'gpt-3.5-turbo-0125'\n",
    "os.environ['EMBEDDING_MODEL'] = 'all-MiniLM-L6-v2'\n",
    "EMBEDDING_MODEL = EmbeddingModelFactory.get_embedding_model(os.environ['EMBEDDING_MODEL'])  #  'mixedbread-ai/mxbai-embed-large-v1'  /  'all-MiniLM-L6-v2'\n",
    "if hasattr(EMBEDDING_MODEL, 'name'):\n",
    "    # EMBEDDING_MODEL.load_model()\n",
    "    print(EMBEDDING_MODEL.name)\n",
    "else:\n",
    "    print(EMBEDDING_MODEL.model)"
   ]
  },
  {
   "cell_type": "code",
   "execution_count": 3,
   "metadata": {},
   "outputs": [
    {
     "name": "stdout",
     "output_type": "stream",
     "text": [
      "2024-03-11 12:07:34,252 validators INFO: Using Validator model gpt-3.5-turbo-0125\n",
      "2024-03-11 12:07:36,533 validators INFO: Using embedding model all-MiniLM-L6-v2\n"
     ]
    },
    {
     "data": {
      "text/plain": [
       "['Roy Marlin Voris - Wikipedia \\n\\nRoy Marlin Voris - Wikipedia\\n\\nJump to content\\n\\nMain menu\\n\\nMain menu\\nmove to sidebar\\nhide\\n\\n Navigation\\n\\n* Main page\\n* Contents\\n* Current events\\n* Random article\\n* About Wikipedia\\n* Contact us\\n* Donate\\n\\n Contribute\\n\\n* Help\\n* Learn to edit\\n* Community portal\\n* Recent changes\\n* Upload file\\n\\n![]()\\n\\n![Wikipedia]()\\n![The Free Encyclopedia]()\\n\\nSearch\\n\\nSearch\\n\\n* Create account\\n* Log in\\n\\nPersonal tools\\n\\n* Create account\\n* Log in\\n\\n Pages for logged out editors learn more',\n",
       " '|  |\\n| --- |\\n| **First Name:** Roy\\n**Last Name:** Voris\\n**Birthplace:** Los Angeles, CA, USA\\n**Gender:** Male\\n**Branch:** Navy (present)\\n**Rating:**  |\\n\\n | \\n\\n|  |\\n| --- |\\n| **Middle Name:** Marlin \\n\\n**Date of Birth:** 19 September 1919\\n**Date of Death:** 10 August 2005 \\n**Rank or Rate:** Captain \\n**Years Served:** |\\n\\n |\\n| \\n Roy Marlin Voris \\n \\'Butch\\' |  |  |\\n| **Engagements:** •\\xa0\\xa0World War II (1941 - 1945) |\\n| **Biography:** |\\n| \\n\\n**Roy Marlin \"Butch\" Voris\\r\\nCaptain, U.S. Navy**',\n",
       " '![Rank Insignia]()\\nCAPT Roy Marlin Voris \\nID: 3176\\n![Previous Honoree ID]()\\n![Next Honoree ID]()\\n\\n* Biography\\n* Awards, Medals, Badges\\n* Photos\\n* Remembrances\\n* Tributes\\n\\n|  |  |  |\\n| --- | --- | --- |\\n|  |  |  |\\n| \\nhonoree image\\n | \\n\\n|  |\\n| --- |\\n| **First Name:** Roy\\n**Last Name:** Voris\\n**Birthplace:** Los Angeles, CA, USA\\n**Gender:** Male\\n**Branch:** Navy (present)\\n**Rating:**  |\\n\\n | \\n\\n|  |\\n| --- |\\n| **Middle Name:** Marlin']"
      ]
     },
     "execution_count": 3,
     "metadata": {},
     "output_type": "execute_result"
    }
   ],
   "source": [
    "import duckduckgo_verbose_search\n",
    "import json\n",
    "from langchain_core.documents.base import Document\n",
    "from embedding_models import EmbeddingModelFactory\n",
    "import os\n",
    "\n",
    "import validator_utils\n",
    "import validators\n",
    "\n",
    "subject, relation, object = \"Roy Marlin Voris\", \"nationality\", \"Tahiti\"\n",
    "query = f\"What {subject} {relation} {object}?\"\n",
    "\n",
    "web_searcher = duckduckgo_verbose_search.DuckDuckGoVerboseSearch(max_search_results=5)\n",
    "web_results = web_searcher(query)\n",
    "# print(json.dumps(web_results, indent=2))\n",
    "web_reference = [Document(f\"{result['title']} {result['body']}\") for result in web_results]\n",
    "retriever, store, vectorstore = validator_utils.create_parent_document_retriever(web_reference, embedding_function=EMBEDDING_MODEL)\n",
    "\n",
    "relevant_chunks = validator_utils.retrieve_relevant_chunks(\n",
    "    query=validators.WebKGValidator.create_query(subject, relation, object), \n",
    "    vectorstore=vectorstore,\n",
    "    retriever=retriever,\n",
    ")\n",
    "relevant_chunks"
   ]
  },
  {
   "cell_type": "code",
   "execution_count": null,
   "metadata": {},
   "outputs": [],
   "source": []
  }
 ],
 "metadata": {
  "kernelspec": {
   "display_name": "instructor",
   "language": "python",
   "name": "python3"
  },
  "language_info": {
   "codemirror_mode": {
    "name": "ipython",
    "version": 3
   },
   "file_extension": ".py",
   "mimetype": "text/x-python",
   "name": "python",
   "nbconvert_exporter": "python",
   "pygments_lexer": "ipython3",
   "version": "3.10.13"
  }
 },
 "nbformat": 4,
 "nbformat_minor": 2
}
